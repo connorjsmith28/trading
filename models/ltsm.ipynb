{
 "cells": [
  {
   "cell_type": "markdown",
   "source": [
    "# NOTES\n",
    "Right now only takes close price. Update to include all data in the sequence.\n",
    "\n",
    "After 3 epochs it's loss is basically non-existant. Use an early stop\n",
    "\n",
    "Learn how to use GPU "
   ],
   "metadata": {
    "collapsed": false
   },
   "id": "24c3094fd6965f05"
  },
  {
   "cell_type": "code",
   "outputs": [],
   "source": [
    "import pandas as pd\n",
    "import numpy as np\n",
    "from sklearn.model_selection import TimeSeriesSplit\n",
    "import torch\n",
    "import torch.nn as nn\n",
    "import torch.optim as optim\n",
    "from torch.utils.data import TensorDataset, DataLoader\n",
    "import torchmetrics"
   ],
   "metadata": {
    "collapsed": true,
    "ExecuteTime": {
     "end_time": "2024-07-19T20:28:09.233368900Z",
     "start_time": "2024-07-19T20:28:09.179828300Z"
    }
   },
   "id": "initial_id",
   "execution_count": 117
  },
  {
   "cell_type": "code",
   "outputs": [],
   "source": [
    "DATA_PATH = r'C:\\Users\\connor\\PycharmProjects\\trading\\data\\analytics\\analytics_voo.csv'\n",
    "df = pd.read_csv(DATA_PATH, low_memory=False)"
   ],
   "metadata": {
    "collapsed": false,
    "ExecuteTime": {
     "end_time": "2024-07-19T20:28:14.219288600Z",
     "start_time": "2024-07-19T20:28:09.226369900Z"
    }
   },
   "id": "fe54a882ded20973",
   "execution_count": 118
  },
  {
   "cell_type": "code",
   "outputs": [
    {
     "data": {
      "text/plain": "Index(['date', 'open', 'high', 'low', 'close', 'volume', 'join_date', 'Id',\n       'Date', 'DateLongDescription', 'DateShortDescription', 'DayLongName',\n       'DayShortName', 'MonthLongName', 'MonthShortName', 'CalendarDay',\n       'CalendarWeek', 'CalendarWeekStartDateId', 'CalendarWeekEndDateId',\n       'CalendarDayInWeek', 'CalendarMonth', 'CalendarMonthStartDateId',\n       'CalendarMonthEndDateId', 'CalendarNumberOfDaysInMonth',\n       'CalendarDayInMonth', 'CalendarQuarter', 'CalendarQuarterStartDateId',\n       'CalendarQuarterEndDateId', 'CalendarQuarterStartDate',\n       'CalendarNumberOfDaysInQuarter', 'CalendarDayInQuarter', 'CalendarYear',\n       'CalendarYearEndDateId', 'CalendarYearStartDate',\n       'CalendarNumberOfDaysInYear', 'month_join_key', 'year_join_key',\n       'seven_day_ema', 'CPALTT01USM657N', 'DFF', 'EXPINF10YR', 'GDPC1',\n       'RSXFS', 'T10YFF', 'UNRATE', 'macd', 'macd_signal', 'macd_hist',\n       'daily_obv', 'target'],\n      dtype='object')"
     },
     "execution_count": 119,
     "metadata": {},
     "output_type": "execute_result"
    }
   ],
   "source": [
    "df.columns"
   ],
   "metadata": {
    "collapsed": false,
    "ExecuteTime": {
     "end_time": "2024-07-19T20:28:14.229865900Z",
     "start_time": "2024-07-19T20:28:14.221288800Z"
    }
   },
   "id": "84e113a86696fd67",
   "execution_count": 119
  },
  {
   "cell_type": "code",
   "outputs": [],
   "source": [
    "non_target_columns = ['open', 'high', 'low', 'volume', 'CPALTT01USM657N', 'DFF', 'EXPINF10YR', 'GDPC1', 'RSXFS', 'T10YFF', 'UNRATE', 'macd', 'macd_signal', 'macd_hist', 'daily_obv', 'seven_day_ema', 'close']\n",
    "\n",
    "df_cols = df[non_target_columns]\n",
    "\n",
    "df_target_train = df[['date','close']].where(df.date <= '2020-01-01')\n",
    "df_target_train.dropna(inplace=True)\n",
    "df_target_test = df[['date','close']].where(df.date > '2020-01-01')\n",
    "df_target_test.dropna(inplace=True)"
   ],
   "metadata": {
    "collapsed": false,
    "ExecuteTime": {
     "end_time": "2024-07-19T20:28:14.537029700Z",
     "start_time": "2024-07-19T20:28:14.222865Z"
    }
   },
   "id": "d1c8b93f981cd0f5",
   "execution_count": 120
  },
  {
   "cell_type": "code",
   "outputs": [],
   "source": [
    "num_features = df_cols.shape[1]"
   ],
   "metadata": {
    "collapsed": false,
    "ExecuteTime": {
     "end_time": "2024-07-19T20:28:14.548792600Z",
     "start_time": "2024-07-19T20:28:14.538416Z"
    }
   },
   "id": "fd454a9961ed265a",
   "execution_count": 121
  },
  {
   "cell_type": "code",
   "outputs": [],
   "source": [
    "# creating sequences\n",
    "# sequence right now only accounts for close price. Could probably include the non_target_columns as values here too\n",
    "def create_sequences(df, seq_length, num_rows=len(df)):\n",
    "    xs, ys = [], []\n",
    "    for i in range(num_rows - seq_length):\n",
    "        x = df.iloc[i:(i + seq_length), 1]\n",
    "        y = df.iloc[i + seq_length, 1]\n",
    "        xs.append(x)\n",
    "        ys.append(y)\n",
    "    return np.array(xs), np.array(ys)"
   ],
   "metadata": {
    "collapsed": false,
    "ExecuteTime": {
     "end_time": "2024-07-19T20:28:14.549792600Z",
     "start_time": "2024-07-19T20:28:14.541285200Z"
    }
   },
   "id": "7a13bd55cd725fa",
   "execution_count": 122
  },
  {
   "cell_type": "code",
   "outputs": [],
   "source": [
    "# create training set\n",
    "sequence_len = 10\n",
    "num_rows = 100000\n",
    "X_train, y_train = create_sequences(df_target_train, sequence_len, num_rows)\n",
    "X_test, y_test = create_sequences(df_target_test, sequence_len, num_rows)"
   ],
   "metadata": {
    "collapsed": false,
    "ExecuteTime": {
     "end_time": "2024-07-19T20:28:24.316652200Z",
     "start_time": "2024-07-19T20:28:14.543795300Z"
    }
   },
   "id": "246d1ed0ddd399a4",
   "execution_count": 123
  },
  {
   "cell_type": "code",
   "outputs": [
    {
     "name": "stdout",
     "output_type": "stream",
     "text": [
      "x train [[ 83.967  83.889  83.92  ...  84.169  84.184  84.278]\n",
      " [ 83.889  83.92   83.923 ...  84.184  84.278  84.169]\n",
      " [ 83.92   83.923  83.998 ...  84.278  84.169  84.241]\n",
      " ...\n",
      " [104.337 104.365 104.349 ... 104.354 104.347 104.397]\n",
      " [104.365 104.349 104.365 ... 104.347 104.397 104.397]\n",
      " [104.349 104.365 104.351 ... 104.397 104.397 104.413]]\n",
      "x test [[278.923 279.055 279.074 ... 279.13  279.177 279.233]\n",
      " [279.055 279.074 279.13  ... 279.177 279.233 279.205]\n",
      " [279.074 279.13  279.13  ... 279.233 279.205 279.186]\n",
      " ...\n",
      " [301.377 301.271 301.337 ... 301.242 301.214 301.271]\n",
      " [301.271 301.337 301.052 ... 301.214 301.271 301.199]\n",
      " [301.337 301.052 301.152 ... 301.271 301.199 300.805]]\n"
     ]
    }
   ],
   "source": [
    "print('x train', X_train)\n",
    "print('x test', X_test)"
   ],
   "metadata": {
    "collapsed": false,
    "ExecuteTime": {
     "end_time": "2024-07-19T20:28:24.327704400Z",
     "start_time": "2024-07-19T20:28:24.317655300Z"
    }
   },
   "id": "63da1e871428aa7",
   "execution_count": 124
  },
  {
   "cell_type": "code",
   "outputs": [
    {
     "name": "stdout",
     "output_type": "stream",
     "text": [
      "(99990, 10) (99990,)\n"
     ]
    }
   ],
   "source": [
    "print(X_train.shape, y_train.shape)"
   ],
   "metadata": {
    "collapsed": false,
    "ExecuteTime": {
     "end_time": "2024-07-19T20:28:24.328043Z",
     "start_time": "2024-07-19T20:28:24.319829300Z"
    }
   },
   "id": "b3a6bfd3acf9bfa1",
   "execution_count": 125
  },
  {
   "cell_type": "code",
   "outputs": [],
   "source": [
    "# # right now the model is only going to be trained on the last split. Keep it this way for now\n",
    "# n_splits = 5\n",
    "# tscv  = TimeSeriesSplit(n_splits)\n",
    "# \n",
    "# X_train = pd.DataFrame()\n",
    "# y_train = pd.DataFrame()\n",
    "# X_test = pd.DataFrame()\n",
    "# y_test = pd.DataFrame()\n",
    "# \n",
    "# for i, (train_index, test_index) in enumerate(tscv.split(df)): \n",
    "#     # split data for each time series partition \n",
    "#     y_train = df[target_column].iloc[train_index]\n",
    "#     X_train = df[non_target_columns].iloc[train_index]\n",
    "#     y_test = df[target_column].iloc[test_index]\n",
    "#     X_test = df[non_target_columns].iloc[test_index]"
   ],
   "metadata": {
    "collapsed": false,
    "ExecuteTime": {
     "end_time": "2024-07-19T20:28:24.328548400Z",
     "start_time": "2024-07-19T20:28:24.322435700Z"
    }
   },
   "id": "382fadba79bfaaee",
   "execution_count": 126
  },
  {
   "cell_type": "code",
   "outputs": [
    {
     "name": "stdout",
     "output_type": "stream",
     "text": [
      "input sample: tensor([83.9670, 83.8890, 83.9200, 83.9230, 83.9980, 84.2000, 84.3090, 84.1690,\n",
      "        84.1840, 84.2780])\n",
      "label sample: tensor(84.1690)\n"
     ]
    }
   ],
   "source": [
    "# convert df into objects Torch can read\n",
    "torch_X_train  = torch.from_numpy(X_train).float()\n",
    "torch_y_train = torch.from_numpy(y_train).float()\n",
    "torch_X_test = torch.from_numpy(X_test).float()\n",
    "torch_y_test = torch.from_numpy(y_test).float()\n",
    "\n",
    "# create test and train sets\n",
    "train_data_set = TensorDataset(torch_X_train, torch_y_train)\n",
    "test_data_set = TensorDataset(torch_X_test, torch_y_test)\n",
    "\n",
    "# confirm it works\n",
    "sample = train_data_set[0]\n",
    "input_sample, label_sample = sample\n",
    "print('input sample:', input_sample)\n",
    "print('label sample:', label_sample)"
   ],
   "metadata": {
    "collapsed": false,
    "ExecuteTime": {
     "end_time": "2024-07-19T20:28:24.329553100Z",
     "start_time": "2024-07-19T20:28:24.325703900Z"
    }
   },
   "id": "8d2b0b4d1930876e",
   "execution_count": 127
  },
  {
   "cell_type": "code",
   "outputs": [
    {
     "name": "stdout",
     "output_type": "stream",
     "text": [
      "torch.Size([10])\n"
     ]
    }
   ],
   "source": [
    "print(input_sample.shape)"
   ],
   "metadata": {
    "collapsed": false,
    "ExecuteTime": {
     "end_time": "2024-07-19T20:28:24.341005Z",
     "start_time": "2024-07-19T20:28:24.330367Z"
    }
   },
   "id": "7ea83ed54f081155",
   "execution_count": 128
  },
  {
   "cell_type": "code",
   "outputs": [],
   "source": [
    "batch_size = 10\n",
    "shuffle = True\n",
    "hidden_size = 5\n",
    "num_layers = 2\n",
    "\n",
    "# create dataloader\n",
    "train_dataloader = DataLoader(train_data_set, batch_size=batch_size, shuffle=shuffle)\n",
    "test_dataloader = DataLoader(test_data_set, batch_size=batch_size, shuffle=shuffle)\n",
    "# test loader\n",
    "# x, y = next(iter(train_dataloader))\n",
    "# \n",
    "# print('x', x, 'y', y)"
   ],
   "metadata": {
    "collapsed": false,
    "ExecuteTime": {
     "end_time": "2024-07-19T20:28:24.342004300Z",
     "start_time": "2024-07-19T20:28:24.331875800Z"
    }
   },
   "id": "e992d7c8e1e29632",
   "execution_count": 129
  },
  {
   "cell_type": "code",
   "outputs": [],
   "source": [
    "# LTSM\n",
    "class Net(nn.Module):\n",
    "    def __init__(self, input_size):\n",
    "        super(Net, self).__init__() #super makes all the methods available in nn.Module available for the new class Net\n",
    "        self.lstm = nn.LSTM(\n",
    "            input_size=input_size,\n",
    "            hidden_size=hidden_size,\n",
    "            num_layers=num_layers,\n",
    "            batch_first=True\n",
    "        )\n",
    "        self.fc = nn.Linear(in_features=hidden_size, out_features=1)\n",
    "        \n",
    "    def forward(self, x):\n",
    "        h0 = torch.zeros(num_layers, x.size(0), hidden_size)\n",
    "        c0 = torch.zeros(num_layers, x.size(0), hidden_size)\n",
    "        out, _ = self.lstm(x, (h0, c0))\n",
    "        out = self.fc(out[:, -1, :])\n",
    "        return out"
   ],
   "metadata": {
    "collapsed": false,
    "ExecuteTime": {
     "end_time": "2024-07-19T20:28:24.342004300Z",
     "start_time": "2024-07-19T20:28:24.334927100Z"
    }
   },
   "id": "d6d6aae47a1a113e",
   "execution_count": 130
  },
  {
   "cell_type": "code",
   "outputs": [
    {
     "name": "stdout",
     "output_type": "stream",
     "text": [
      "Epoch 1, Loss: 1360.403076171875\n",
      "Epoch 2, Loss: 24.176294326782227\n",
      "Epoch 3, Loss: 34.915611267089844\n",
      "Epoch 4, Loss: 0.16527804732322693\n",
      "Epoch 5, Loss: 0.015886306762695312\n"
     ]
    }
   ],
   "source": [
    "learning_rate = 0.001\n",
    "num_epochs = 50\n",
    "num_features = 1 # this right now is just the close date. \n",
    "\n",
    "net = Net(input_size=num_features)\n",
    "#criterion = nn.BCELoss(reduction='sum') #you'll need to use the binary close price higher for this\n",
    "criterion = nn.MSELoss()\n",
    "optimizer = optim.Adam(\n",
    "    net.parameters(), lr=learning_rate\n",
    ")\n",
    "\n",
    "for epoch in range(num_epochs):\n",
    "    for seqs, labels in train_dataloader:\n",
    "        seqs = seqs.view(batch_size, sequence_len, num_features)\n",
    "        outputs = net(seqs).squeeze()\n",
    "        loss = criterion(outputs, labels)\n",
    "        optimizer.zero_grad()\n",
    "        loss.backward()\n",
    "        optimizer.step()\n",
    "    print(f\"Epoch {epoch+1}, Loss: {loss.item()}\")\n",
    "    # early break if loss isn't changing beyond the learning rate\n",
    "    if loss.item() < .1:\n",
    "        break"
   ],
   "metadata": {
    "collapsed": false,
    "ExecuteTime": {
     "end_time": "2024-07-19T20:29:19.393022900Z",
     "start_time": "2024-07-19T20:28:24.339005800Z"
    }
   },
   "id": "2790534f5428cde2",
   "execution_count": 131
  },
  {
   "cell_type": "code",
   "outputs": [
    {
     "name": "stdout",
     "output_type": "stream",
     "text": [
      "Test MSE: 25950.716796875\n",
      "Test RMSE: 161.09225463867188\n"
     ]
    }
   ],
   "source": [
    "# Define MSE metric\n",
    "mse = torchmetrics.regression.MeanSquaredError()\n",
    "\n",
    "net.eval()\n",
    "with torch.no_grad():\n",
    "    for seqs, labels in test_dataloader:\n",
    "        seqs = seqs.view(batch_size, sequence_len, num_features)\n",
    "        # Pass seqs to net and squeeze the result\n",
    "        outputs = net(seqs).squeeze()\n",
    "        mse(outputs, labels)\n",
    "\n",
    "# Compute final metric value\n",
    "test_mse = mse.compute()\n",
    "print(f\"Test MSE: {test_mse}\")\n",
    "print(f\"Test RMSE: {test_mse**.5}\")"
   ],
   "metadata": {
    "collapsed": false,
    "ExecuteTime": {
     "end_time": "2024-07-19T20:29:23.140460900Z",
     "start_time": "2024-07-19T20:29:19.385023400Z"
    }
   },
   "id": "ae6937e7eff7177e",
   "execution_count": 132
  },
  {
   "cell_type": "code",
   "outputs": [],
   "source": [
    "## used for binary classifcation\n",
    "# f1 = torchmetrics.F1Score(num_classes=2)\n",
    "# \n",
    "# net.eval()\n",
    "# with torch.no_grad():\n",
    "#     for seqs, labels in test_dataloader:\n",
    "#         seqs = seqs.view(batch_size, num_features, 1)\n",
    "#         outputs = net(seqs).squeeze()\n",
    "#         f1.compute()\n",
    "#         \n",
    "# print(f\"Test F1 score: {f1.compute()}\")\n",
    "\n",
    "# acc = torchmetrics.Accuracy(task=\"binary\")\n",
    "# \n",
    "# net.eval()\n",
    "# with torch.no_grad():\n",
    "#     for seqs, labels in test_dataloader:\n",
    "#         seqs = seqs.view(batch_size, sequence_len, num_features)\n",
    "#         outputs = net(seqs).squeeze()\n",
    "#         acc.compute()\n",
    "# \n",
    "# print(f\"Test accuracy score: {acc.compute()}\")\n"
   ],
   "metadata": {
    "collapsed": false,
    "ExecuteTime": {
     "end_time": "2024-07-19T20:29:23.140460900Z",
     "start_time": "2024-07-19T20:29:23.134005600Z"
    }
   },
   "id": "a9824920abf3b48d",
   "execution_count": 133
  },
  {
   "cell_type": "code",
   "outputs": [],
   "source": [],
   "metadata": {
    "collapsed": false,
    "ExecuteTime": {
     "end_time": "2024-07-19T20:29:23.140460900Z",
     "start_time": "2024-07-19T20:29:23.136102900Z"
    }
   },
   "id": "84506acad4233f45",
   "execution_count": 133
  },
  {
   "cell_type": "code",
   "outputs": [],
   "source": [],
   "metadata": {
    "collapsed": false,
    "ExecuteTime": {
     "end_time": "2024-07-19T20:29:23.141461Z",
     "start_time": "2024-07-19T20:29:23.137956500Z"
    }
   },
   "id": "8d28dd77fdd0b594",
   "execution_count": 133
  }
 ],
 "metadata": {
  "kernelspec": {
   "display_name": "Python 3",
   "language": "python",
   "name": "python3"
  },
  "language_info": {
   "codemirror_mode": {
    "name": "ipython",
    "version": 2
   },
   "file_extension": ".py",
   "mimetype": "text/x-python",
   "name": "python",
   "nbconvert_exporter": "python",
   "pygments_lexer": "ipython2",
   "version": "2.7.6"
  }
 },
 "nbformat": 4,
 "nbformat_minor": 5
}
