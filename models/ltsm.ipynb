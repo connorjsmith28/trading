{
 "cells": [
  {
   "cell_type": "code",
   "execution_count": 1,
   "id": "initial_id",
   "metadata": {
    "collapsed": true,
    "ExecuteTime": {
     "end_time": "2024-07-17T14:33:31.983529200Z",
     "start_time": "2024-07-17T14:33:27.751276600Z"
    }
   },
   "outputs": [],
   "source": [
    "import pandas as pd\n",
    "from sklearn.model_selection import TimeSeriesSplit\n",
    "import torch\n",
    "import torch.nn as nn\n",
    "import torch.nn.functional as F\n",
    "import torch.optim as optim"
   ]
  },
  {
   "cell_type": "code",
   "outputs": [],
   "source": [
    "DATA_PATH = r'C:\\Users\\connor\\PycharmProjects\\trading\\data\\analytics\\analytics_voo.csv'\n",
    "df = pd.read_csv(DATA_PATH, low_memory=False)\n",
    "\n",
    "target_column = 'target'\n",
    "non_target_columns = ['open', 'high', 'low', 'close', 'volume', 'CPALTT01USM657N', 'DFF', 'EXPINF10YR', 'GDPC1', 'RSXFS', 'T10YFF', 'UNRATE', 'macd', 'macd_signal', 'macd_hist', 'daily_obv', 'seven_day_ema']\n",
    "\n",
    "df_cols = df[non_target_columns]"
   ],
   "metadata": {
    "collapsed": false,
    "ExecuteTime": {
     "end_time": "2024-07-17T14:33:36.973689600Z",
     "start_time": "2024-07-17T14:33:31.983529200Z"
    }
   },
   "id": "fe54a882ded20973",
   "execution_count": 2
  },
  {
   "cell_type": "code",
   "outputs": [
    {
     "data": {
      "text/plain": "17"
     },
     "execution_count": 4,
     "metadata": {},
     "output_type": "execute_result"
    }
   ],
   "source": [
    "df_cols.shape[1]"
   ],
   "metadata": {
    "collapsed": false,
    "ExecuteTime": {
     "end_time": "2024-07-17T14:33:41.926381900Z",
     "start_time": "2024-07-17T14:33:41.923556800Z"
    }
   },
   "id": "fd454a9961ed265a",
   "execution_count": 4
  },
  {
   "cell_type": "code",
   "outputs": [],
   "source": [
    "n_splits = 5\n",
    "tscv  = TimeSeriesSplit(n_splits)\n",
    "\n",
    "scores = []\n",
    "\n",
    "lstm = nn.LSTM(df_cols.shape[1], hidden_size=(df_cols.shape[1] + 1)/2, num_layers=2, batch_first=True)  # Input dim is the number of columns in df_cols. output is the mean between the number of input dimensions and the final output dimension, which is just a binary 1,0. Read a paper that said hidden units performs best with a depth between the output and input dimension size.\n",
    "\n",
    "for i, (train_index, test_index) in enumerate(tscv.split(df)): \n",
    "    # split data for each time series partition \n",
    "    y_train = df[target_column].iloc[train_index]\n",
    "    X_train = df[non_target_columns].iloc[train_index]\n",
    "    y_test = df[target_column].iloc[test_index]\n",
    "    X_test = df[non_target_columns].iloc[test_index]\n",
    "    \n",
    "    inputs = [torch.tensor(X_train.values)]  # convert inputs to tensors"
   ],
   "metadata": {
    "collapsed": false
   },
   "id": "84506acad4233f45"
  },
  {
   "cell_type": "code",
   "outputs": [],
   "source": [
    "lstm = nn.LSTM(3, 3)  # Input dim is 3, output dim is 3\n",
    "inputs = [torch.randn(1, 3) for _ in range(5)]  # make a sequence of length 5"
   ],
   "metadata": {
    "collapsed": false,
    "ExecuteTime": {
     "end_time": "2024-07-17T14:34:27.615507400Z",
     "start_time": "2024-07-17T14:34:27.596947900Z"
    }
   },
   "id": "da9f399038ec0831",
   "execution_count": 5
  },
  {
   "cell_type": "code",
   "outputs": [
    {
     "data": {
      "text/plain": "[tensor([[-1.1231,  1.0100, -0.6803]]),\n tensor([[ 0.3528, -2.0210,  1.5867]]),\n tensor([[ 1.2560, -0.9985,  1.4938]]),\n tensor([[ 2.0762,  0.1923, -0.0624]]),\n tensor([[-0.7145,  0.4195, -0.4065]])]"
     },
     "execution_count": 6,
     "metadata": {},
     "output_type": "execute_result"
    }
   ],
   "source": [
    "inputs"
   ],
   "metadata": {
    "collapsed": false,
    "ExecuteTime": {
     "end_time": "2024-07-17T14:34:32.550776Z",
     "start_time": "2024-07-17T14:34:32.548032200Z"
    }
   },
   "id": "e19d92755c8b4faa",
   "execution_count": 6
  },
  {
   "cell_type": "code",
   "outputs": [],
   "source": [],
   "metadata": {
    "collapsed": false
   },
   "id": "8d28dd77fdd0b594"
  }
 ],
 "metadata": {
  "kernelspec": {
   "display_name": "Python 3",
   "language": "python",
   "name": "python3"
  },
  "language_info": {
   "codemirror_mode": {
    "name": "ipython",
    "version": 2
   },
   "file_extension": ".py",
   "mimetype": "text/x-python",
   "name": "python",
   "nbconvert_exporter": "python",
   "pygments_lexer": "ipython2",
   "version": "2.7.6"
  }
 },
 "nbformat": 4,
 "nbformat_minor": 5
}
