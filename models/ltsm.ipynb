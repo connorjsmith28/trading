{
 "cells": [
  {
   "cell_type": "markdown",
   "source": [
    "# NOTES\n",
    "Right now only takes close price. Update to include all data in the sequence.\n",
    "\n",
    "After 3 epochs it's loss is basically non-existant. Use an early stop\n",
    "\n",
    "Learn how to use GPU \n",
    "\n",
    "drop_last=True seems necessary for the data loader. The batch_size argument is expecting batches to be that size. But if the whole dataset can't be divided by the batch_size then you had some values remaining that don't fit. Could set batch_size to be some multiple if possible to minimize dropped samples "
   ],
   "metadata": {
    "collapsed": false
   },
   "id": "24c3094fd6965f05"
  },
  {
   "cell_type": "code",
   "outputs": [],
   "source": [
    "import pandas as pd\n",
    "import numpy as np\n",
    "from sklearn.model_selection import TimeSeriesSplit\n",
    "import torch\n",
    "import torch.nn as nn\n",
    "import torch.optim as optim\n",
    "from torch.utils.data import TensorDataset, DataLoader\n",
    "import torchmetrics"
   ],
   "metadata": {
    "collapsed": true,
    "ExecuteTime": {
     "end_time": "2024-07-21T01:38:40.697588100Z",
     "start_time": "2024-07-21T01:38:38.467180100Z"
    }
   },
   "id": "initial_id",
   "execution_count": 1
  },
  {
   "cell_type": "code",
   "outputs": [],
   "source": [
    "DATA_PATH = r'C:\\Users\\connor\\PycharmProjects\\trading\\data\\analytics\\analytics_voo.csv'\n",
    "df = pd.read_csv(DATA_PATH, low_memory=False)"
   ],
   "metadata": {
    "collapsed": false,
    "ExecuteTime": {
     "end_time": "2024-07-21T01:38:45.666858500Z",
     "start_time": "2024-07-21T01:38:40.698587900Z"
    }
   },
   "id": "fe54a882ded20973",
   "execution_count": 2
  },
  {
   "cell_type": "code",
   "outputs": [
    {
     "data": {
      "text/plain": "Index(['date', 'open', 'high', 'low', 'close', 'volume', 'join_date', 'Id',\n       'Date', 'DateLongDescription', 'DateShortDescription', 'DayLongName',\n       'DayShortName', 'MonthLongName', 'MonthShortName', 'CalendarDay',\n       'CalendarWeek', 'CalendarWeekStartDateId', 'CalendarWeekEndDateId',\n       'CalendarDayInWeek', 'CalendarMonth', 'CalendarMonthStartDateId',\n       'CalendarMonthEndDateId', 'CalendarNumberOfDaysInMonth',\n       'CalendarDayInMonth', 'CalendarQuarter', 'CalendarQuarterStartDateId',\n       'CalendarQuarterEndDateId', 'CalendarQuarterStartDate',\n       'CalendarNumberOfDaysInQuarter', 'CalendarDayInQuarter', 'CalendarYear',\n       'CalendarYearEndDateId', 'CalendarYearStartDate',\n       'CalendarNumberOfDaysInYear', 'month_join_key', 'year_join_key',\n       'seven_day_ema', 'CPALTT01USM657N', 'DFF', 'EXPINF10YR', 'GDPC1',\n       'RSXFS', 'T10YFF', 'UNRATE', 'macd', 'macd_signal', 'macd_hist',\n       'daily_obv', 'target'],\n      dtype='object')"
     },
     "execution_count": 3,
     "metadata": {},
     "output_type": "execute_result"
    }
   ],
   "source": [
    "df.columns"
   ],
   "metadata": {
    "collapsed": false,
    "ExecuteTime": {
     "end_time": "2024-07-21T01:38:45.675585800Z",
     "start_time": "2024-07-21T01:38:45.666858500Z"
    }
   },
   "id": "84e113a86696fd67",
   "execution_count": 3
  },
  {
   "cell_type": "code",
   "outputs": [],
   "source": [
    "non_target_columns = ['open', 'high', 'low', 'volume', 'CPALTT01USM657N', 'DFF', 'EXPINF10YR', 'GDPC1', 'RSXFS', 'T10YFF', 'UNRATE', 'macd', 'macd_signal', 'macd_hist', 'daily_obv', 'seven_day_ema', 'close']\n",
    "\n",
    "df_cols = df[non_target_columns]\n",
    "\n",
    "# version with just close price and date\n",
    "df_target_train = df[['date', 'close']].where(df.date <= '2020-01-01')\n",
    "df_target_train.dropna(inplace=True)\n",
    "df_target_test = df[['date', 'close']].where(df.date > '2020-01-01')\n",
    "df_target_test.dropna(inplace=True)\n",
    "\n",
    "# version with all columns\n",
    "df_target_train_v2 = df[non_target_columns].where(df.date <= '2020-01-01')\n",
    "df_target_train_v2.dropna(inplace=True)\n",
    "df_target_test_v2 = df[non_target_columns].where(df.date > '2020-01-01')\n",
    "df_target_test_v2.dropna(inplace=True)"
   ],
   "metadata": {
    "collapsed": false,
    "ExecuteTime": {
     "end_time": "2024-07-21T01:38:46.264455600Z",
     "start_time": "2024-07-21T01:38:45.671591500Z"
    }
   },
   "id": "d1c8b93f981cd0f5",
   "execution_count": 4
  },
  {
   "cell_type": "code",
   "outputs": [
    {
     "name": "stdout",
     "output_type": "stream",
     "text": [
      "Index(['date', 'close'], dtype='object')\n",
      "\n",
      "Index(['open', 'high', 'low', 'volume', 'CPALTT01USM657N', 'DFF', 'EXPINF10YR',\n",
      "       'GDPC1', 'RSXFS', 'T10YFF', 'UNRATE', 'macd', 'macd_signal',\n",
      "       'macd_hist', 'daily_obv', 'seven_day_ema', 'close'],\n",
      "      dtype='object')\n"
     ]
    }
   ],
   "source": [
    "print(df_target_train.columns)\n",
    "print()\n",
    "print(df_target_train_v2.columns)"
   ],
   "metadata": {
    "collapsed": false,
    "ExecuteTime": {
     "end_time": "2024-07-21T01:38:46.272120300Z",
     "start_time": "2024-07-21T01:38:46.264455600Z"
    }
   },
   "id": "4b6c67e1f20487e",
   "execution_count": 5
  },
  {
   "cell_type": "code",
   "outputs": [],
   "source": [
    "def create_sequences(df, seq_length, num_rows=len(df), include_all_features=False):\n",
    "    \"\"\"\n",
    "    Input:\n",
    "    df: pandas dataframe with at least 2 columns, a date column and a target column\n",
    "    seq_length: How long the sequence should be. \n",
    "    num_rows: How many rows to use. Will pull all rows unless num_rows is provided, in which case the top num_rows will be pulled.\n",
    "    include_all_features: Whether to use just the target column for the sequence, or to include all features.\n",
    "        \n",
    "    Output:\n",
    "    Generates a sequence of seq_length length. It's shape is [num_rows, seq_length] if include_all_features is False, else [num_rows, seq_length * len(df.columns)]. \n",
    "    A sequence refers to how many should be appended as columns. \n",
    "    For example, if df = [['2020-01-01',100], ['2020-01-02', 101], ['2020-01-03', 102]] and seq_length = 2, the generated sequence will be [[101,102], [102,103]]. \n",
    "    \"\"\"\n",
    "    \n",
    "    \n",
    "    xs, ys = [], []\n",
    "    if include_all_features == True:\n",
    "        feature_num = len(df.columns)\n",
    "        seq_length = seq_length * feature_num\n",
    "    if include_all_features == False:\n",
    "        for itr in range(num_rows - seq_length):\n",
    "            x = df.iloc[itr:(itr + seq_length), -1]\n",
    "            y = df.iloc[itr + seq_length, -1]\n",
    "            xs.append(x)\n",
    "            ys.append(y)\n",
    "    elif include_all_features == True:\n",
    "        for itr in range(num_rows - seq_length):\n",
    "            x = df.iloc[itr:(itr + seq_length), :]\n",
    "            y = df.iloc[itr + seq_length, -1]\n",
    "            # when you get more than 1 column, it'll append an array to the array which makes it 3d instead of 2d. Flatten out sample into single row\n",
    "            x_reshaped = x.to_numpy().reshape(-1, 1)\n",
    "            xs.append(x_reshaped)\n",
    "            ys.append(y)\n",
    "    else:\n",
    "        print(f\"error: include_all_features accepts True or False, got {include_all_features} instead.\")\n",
    "    return np.array(xs), np.array(ys)"
   ],
   "metadata": {
    "collapsed": false,
    "ExecuteTime": {
     "end_time": "2024-07-21T01:38:46.273119100Z",
     "start_time": "2024-07-21T01:38:46.267314600Z"
    }
   },
   "id": "7a13bd55cd725fa",
   "execution_count": 6
  },
  {
   "cell_type": "code",
   "outputs": [],
   "source": [
    "# create training set\n",
    "sequence_len = 5\n",
    "num_rows = 100\n",
    "X_train, y_train = create_sequences(df_target_train, sequence_len, num_rows)\n",
    "X_test, y_test = create_sequences(df_target_test, sequence_len, num_rows)"
   ],
   "metadata": {
    "collapsed": false,
    "ExecuteTime": {
     "end_time": "2024-07-21T01:38:46.280973600Z",
     "start_time": "2024-07-21T01:38:46.271118900Z"
    }
   },
   "id": "246d1ed0ddd399a4",
   "execution_count": 7
  },
  {
   "cell_type": "code",
   "outputs": [
    {
     "name": "stdout",
     "output_type": "stream",
     "text": [
      "x train [[83.967 83.889 83.92  83.923 83.998]\n",
      " [83.889 83.92  83.923 83.998 84.2  ]\n",
      " [83.92  83.923 83.998 84.2   84.309]\n",
      " [83.923 83.998 84.2   84.309 84.169]\n",
      " [83.998 84.2   84.309 84.169 84.184]\n",
      " [84.2   84.309 84.169 84.184 84.278]\n",
      " [84.309 84.169 84.184 84.278 84.169]\n",
      " [84.169 84.184 84.278 84.169 84.241]\n",
      " [84.184 84.278 84.169 84.241 84.325]\n",
      " [84.278 84.169 84.241 84.325 84.301]\n",
      " [84.169 84.241 84.325 84.301 84.278]\n",
      " [84.241 84.325 84.301 84.278 84.278]\n",
      " [84.325 84.301 84.278 84.278 84.356]\n",
      " [84.301 84.278 84.278 84.356 84.29 ]\n",
      " [84.278 84.278 84.356 84.29  84.325]\n",
      " [84.278 84.356 84.29  84.325 84.363]\n",
      " [84.356 84.29  84.325 84.363 84.371]\n",
      " [84.29  84.325 84.363 84.371 84.309]\n",
      " [84.325 84.363 84.371 84.309 84.257]\n",
      " [84.363 84.371 84.309 84.257 84.293]\n",
      " [84.371 84.309 84.257 84.293 84.387]\n",
      " [84.309 84.257 84.293 84.387 84.387]\n",
      " [84.257 84.293 84.387 84.387 84.122]\n",
      " [84.293 84.387 84.387 84.122 84.107]\n",
      " [84.387 84.387 84.122 84.107 84.153]\n",
      " [84.387 84.122 84.107 84.153 84.138]\n",
      " [84.122 84.107 84.153 84.138 84.091]\n",
      " [84.107 84.153 84.138 84.091 84.122]\n",
      " [84.153 84.138 84.091 84.122 84.185]\n",
      " [84.138 84.091 84.122 84.185 84.185]\n",
      " [84.091 84.122 84.185 84.185 84.2  ]\n",
      " [84.122 84.185 84.185 84.2   84.262]\n",
      " [84.185 84.185 84.2   84.262 84.274]\n",
      " [84.185 84.2   84.262 84.274 84.356]\n",
      " [84.2   84.262 84.274 84.356 84.278]\n",
      " [84.262 84.274 84.356 84.278 84.412]\n",
      " [84.274 84.356 84.278 84.412 84.371]\n",
      " [84.356 84.278 84.412 84.371 84.325]\n",
      " [84.278 84.412 84.371 84.325 84.326]\n",
      " [84.412 84.371 84.325 84.326 84.247]\n",
      " [84.371 84.325 84.326 84.247 84.256]\n",
      " [84.325 84.326 84.247 84.256 84.247]\n",
      " [84.326 84.247 84.256 84.247 84.247]\n",
      " [84.247 84.256 84.247 84.247 84.262]\n",
      " [84.256 84.247 84.247 84.262 84.356]\n",
      " [84.247 84.247 84.262 84.356 83.796]\n",
      " [84.247 84.262 84.356 83.796 83.78 ]\n",
      " [84.262 84.356 83.796 83.78  83.842]\n",
      " [84.356 83.796 83.78  83.842 83.905]\n",
      " [83.796 83.78  83.842 83.905 83.905]\n",
      " [83.78  83.842 83.905 83.905 83.874]\n",
      " [83.842 83.905 83.905 83.874 83.998]\n",
      " [83.905 83.905 83.874 83.998 83.998]\n",
      " [83.905 83.874 83.998 83.998 84.107]\n",
      " [83.874 83.998 83.998 84.107 83.842]\n",
      " [83.998 83.998 84.107 83.842 83.889]\n",
      " [83.998 84.107 83.842 83.889 83.951]\n",
      " [84.107 83.842 83.889 83.951 83.889]\n",
      " [83.842 83.889 83.951 83.889 83.841]\n",
      " [83.889 83.951 83.889 83.841 83.749]\n",
      " [83.951 83.889 83.841 83.749 83.678]\n",
      " [83.889 83.841 83.749 83.678 83.594]\n",
      " [83.841 83.749 83.678 83.594 83.64 ]\n",
      " [83.749 83.678 83.594 83.64  83.671]\n",
      " [83.678 83.594 83.64  83.671 83.702]\n",
      " [83.594 83.64  83.671 83.702 83.681]\n",
      " [83.64  83.671 83.702 83.681 83.656]\n",
      " [83.671 83.702 83.681 83.656 83.656]\n",
      " [83.702 83.681 83.656 83.656 83.547]\n",
      " [83.681 83.656 83.656 83.547 83.609]\n",
      " [83.656 83.656 83.547 83.609 83.516]\n",
      " [83.656 83.547 83.609 83.516 83.454]\n",
      " [83.547 83.609 83.516 83.454 83.376]\n",
      " [83.609 83.516 83.454 83.376 83.391]\n",
      " [83.516 83.454 83.376 83.391 83.485]\n",
      " [83.454 83.376 83.391 83.485 83.5  ]\n",
      " [83.376 83.391 83.485 83.5   83.531]\n",
      " [83.391 83.485 83.5   83.531 83.57 ]\n",
      " [83.485 83.5   83.531 83.57  83.547]\n",
      " [83.5   83.531 83.57  83.547 83.531]\n",
      " [83.531 83.57  83.547 83.531 83.516]\n",
      " [83.57  83.547 83.531 83.516 83.485]\n",
      " [83.547 83.531 83.516 83.485 83.516]\n",
      " [83.531 83.516 83.485 83.516 83.516]\n",
      " [83.516 83.485 83.516 83.516 83.578]\n",
      " [83.485 83.516 83.516 83.578 83.438]\n",
      " [83.516 83.516 83.578 83.438 83.407]\n",
      " [83.516 83.578 83.438 83.407 83.458]\n",
      " [83.578 83.438 83.407 83.458 83.584]\n",
      " [83.438 83.407 83.458 83.584 83.734]\n",
      " [83.407 83.458 83.584 83.734 83.687]\n",
      " [83.458 83.584 83.734 83.687 83.609]\n",
      " [83.584 83.734 83.687 83.609 83.64 ]\n",
      " [83.734 83.687 83.609 83.64  83.625]\n",
      " [83.687 83.609 83.64  83.625 83.765]]\n",
      "x test [[278.923 279.055 279.074 279.13  279.13 ]\n",
      " [279.055 279.074 279.13  279.13  279.13 ]\n",
      " [279.074 279.13  279.13  279.13  279.149]\n",
      " [279.13  279.13  279.13  279.149 279.13 ]\n",
      " [279.13  279.13  279.149 279.13  279.177]\n",
      " [279.13  279.149 279.13  279.177 279.233]\n",
      " [279.149 279.13  279.177 279.233 279.205]\n",
      " [279.13  279.177 279.233 279.205 279.186]\n",
      " [279.177 279.233 279.205 279.186 279.242]\n",
      " [279.233 279.205 279.186 279.242 279.261]\n",
      " [279.205 279.186 279.242 279.261 279.261]\n",
      " [279.186 279.242 279.261 279.261 279.233]\n",
      " [279.242 279.261 279.261 279.233 279.242]\n",
      " [279.261 279.261 279.233 279.242 279.224]\n",
      " [279.261 279.233 279.242 279.224 279.13 ]\n",
      " [279.233 279.242 279.224 279.13  279.13 ]\n",
      " [279.242 279.224 279.13  279.13  279.111]\n",
      " [279.224 279.13  279.13  279.111 279.083]\n",
      " [279.13  279.13  279.111 279.083 279.045]\n",
      " [279.13  279.111 279.083 279.045 279.017]\n",
      " [279.111 279.083 279.045 279.017 279.008]\n",
      " [279.083 279.045 279.017 279.008 279.045]\n",
      " [279.045 279.017 279.008 279.045 279.017]\n",
      " [279.017 279.008 279.045 279.017 279.017]\n",
      " [279.008 279.045 279.017 279.017 279.064]\n",
      " [279.045 279.017 279.017 279.064 278.961]\n",
      " [279.017 279.017 279.064 278.961 278.999]\n",
      " [279.017 279.064 278.961 278.999 278.999]\n",
      " [279.064 278.961 278.999 278.999 278.961]\n",
      " [278.961 278.999 278.999 278.961 278.952]\n",
      " [278.999 278.999 278.961 278.952 278.914]\n",
      " [278.999 278.961 278.952 278.914 278.923]\n",
      " [278.961 278.952 278.914 278.923 278.839]\n",
      " [278.952 278.914 278.923 278.839 278.989]\n",
      " [278.914 278.923 278.839 278.989 278.802]\n",
      " [278.923 278.839 278.989 278.802 278.773]\n",
      " [278.839 278.989 278.802 278.773 279.017]\n",
      " [278.989 278.802 278.773 279.017 278.952]\n",
      " [278.802 278.773 279.017 278.952 279.158]\n",
      " [278.773 279.017 278.952 279.158 279.139]\n",
      " [279.017 278.952 279.158 279.139 279.069]\n",
      " [278.952 279.158 279.139 279.069 278.952]\n",
      " [279.158 279.139 279.069 278.952 279.092]\n",
      " [279.139 279.069 278.952 279.092 279.111]\n",
      " [279.069 278.952 279.092 279.111 279.064]\n",
      " [278.952 279.092 279.111 279.064 279.045]\n",
      " [279.092 279.111 279.064 279.045 279.092]\n",
      " [279.111 279.064 279.045 279.092 279.12 ]\n",
      " [279.064 279.045 279.092 279.12  279.158]\n",
      " [279.045 279.092 279.12  279.158 279.181]\n",
      " [279.092 279.12  279.158 279.181 279.083]\n",
      " [279.12  279.158 279.181 279.083 279.095]\n",
      " [279.158 279.181 279.083 279.095 278.989]\n",
      " [279.181 279.083 279.095 278.989 278.956]\n",
      " [279.083 279.095 278.989 278.956 278.905]\n",
      " [279.095 278.989 278.956 278.905 278.933]\n",
      " [278.989 278.956 278.905 278.933 278.866]\n",
      " [278.956 278.905 278.933 278.866 278.877]\n",
      " [278.905 278.933 278.866 278.877 278.959]\n",
      " [278.933 278.866 278.877 278.959 279.027]\n",
      " [278.866 278.877 278.959 279.027 279.092]\n",
      " [278.877 278.959 279.027 279.092 279.027]\n",
      " [278.959 279.027 279.092 279.027 279.083]\n",
      " [279.027 279.092 279.027 279.083 278.961]\n",
      " [279.092 279.027 279.083 278.961 278.877]\n",
      " [279.027 279.083 278.961 278.877 278.783]\n",
      " [279.083 278.961 278.877 278.783 278.806]\n",
      " [278.961 278.877 278.783 278.806 278.834]\n",
      " [278.877 278.783 278.806 278.834 278.764]\n",
      " [278.783 278.806 278.834 278.764 278.848]\n",
      " [278.806 278.834 278.764 278.848 278.858]\n",
      " [278.834 278.764 278.848 278.858 278.83 ]\n",
      " [278.764 278.848 278.858 278.83  278.848]\n",
      " [278.848 278.858 278.83  278.848 278.858]\n",
      " [278.858 278.83  278.848 278.858 278.708]\n",
      " [278.83  278.848 278.858 278.708 278.689]\n",
      " [278.848 278.858 278.708 278.689 278.52 ]\n",
      " [278.858 278.708 278.689 278.52  278.464]\n",
      " [278.708 278.689 278.52  278.464 278.183]\n",
      " [278.689 278.52  278.464 278.183 278.201]\n",
      " [278.52  278.464 278.183 278.201 278.284]\n",
      " [278.464 278.183 278.201 278.284 278.351]\n",
      " [278.183 278.201 278.284 278.351 278.281]\n",
      " [278.201 278.284 278.351 278.281 278.261]\n",
      " [278.284 278.351 278.281 278.261 278.276]\n",
      " [278.351 278.281 278.261 278.276 278.27 ]\n",
      " [278.281 278.261 278.276 278.27  278.147]\n",
      " [278.261 278.276 278.27  278.147 278.182]\n",
      " [278.276 278.27  278.147 278.182 278.117]\n",
      " [278.27  278.147 278.182 278.117 278.201]\n",
      " [278.147 278.182 278.117 278.201 278.257]\n",
      " [278.182 278.117 278.201 278.257 278.229]\n",
      " [278.117 278.201 278.257 278.229 278.304]\n",
      " [278.201 278.257 278.229 278.304 278.258]\n",
      " [278.257 278.229 278.304 278.258 278.238]]\n"
     ]
    }
   ],
   "source": [
    "print('x train', X_train)\n",
    "print('x test', X_test)"
   ],
   "metadata": {
    "collapsed": false,
    "ExecuteTime": {
     "end_time": "2024-07-21T01:38:46.288230900Z",
     "start_time": "2024-07-21T01:38:46.280973600Z"
    }
   },
   "id": "63da1e871428aa7",
   "execution_count": 8
  },
  {
   "cell_type": "code",
   "outputs": [],
   "source": [
    "# create training set\n",
    "sequence_len = 5\n",
    "num_rows = 100\n",
    "X_train_v2, y_train_v2 = create_sequences(df_target_train_v2, sequence_len, num_rows, include_all_features=True)\n",
    "X_test_v2, y_test_v2 = create_sequences(df_target_test_v2, sequence_len, num_rows, include_all_features=True)"
   ],
   "metadata": {
    "collapsed": false,
    "ExecuteTime": {
     "end_time": "2024-07-21T01:38:46.304248800Z",
     "start_time": "2024-07-21T01:38:46.287230700Z"
    }
   },
   "id": "f7c131fb11dac19c",
   "execution_count": 9
  },
  {
   "cell_type": "code",
   "outputs": [
    {
     "name": "stdout",
     "output_type": "stream",
     "text": [
      "x train_v2 [[[ 8.39350e+01]\n",
      "  [ 8.40420e+01]\n",
      "  [ 8.38200e+01]\n",
      "  ...\n",
      "  [-1.65200e+05]\n",
      "  [ 8.17122e+01]\n",
      "  [ 8.35160e+01]]\n",
      "\n",
      " [[ 8.38880e+01]\n",
      "  [ 8.39950e+01]\n",
      "  [ 8.37430e+01]\n",
      "  ...\n",
      "  [-1.65200e+05]\n",
      "  [ 8.17122e+01]\n",
      "  [ 8.34850e+01]]\n",
      "\n",
      " [[ 8.38880e+01]\n",
      "  [ 8.39950e+01]\n",
      "  [ 8.37740e+01]\n",
      "  ...\n",
      "  [-1.65200e+05]\n",
      "  [ 8.17122e+01]\n",
      "  [ 8.35160e+01]]\n",
      "\n",
      " ...\n",
      "\n",
      " [[ 8.42920e+01]\n",
      "  [ 8.44000e+01]\n",
      "  [ 8.41770e+01]\n",
      "  ...\n",
      "  [-1.65200e+05]\n",
      "  [ 8.17122e+01]\n",
      "  [ 8.36400e+01]]\n",
      "\n",
      " [[ 8.42690e+01]\n",
      "  [ 8.43770e+01]\n",
      "  [ 8.41540e+01]\n",
      "  ...\n",
      "  [-1.65200e+05]\n",
      "  [ 8.17122e+01]\n",
      "  [ 8.36250e+01]]\n",
      "\n",
      " [[ 8.42460e+01]\n",
      "  [ 8.43530e+01]\n",
      "  [ 8.41310e+01]\n",
      "  ...\n",
      "  [-1.65200e+05]\n",
      "  [ 8.17122e+01]\n",
      "  [ 8.37650e+01]]]\n",
      "x test_v2 [[[2.78785000e+02]\n",
      "  [2.78985000e+02]\n",
      "  [2.78648000e+02]\n",
      "  ...\n",
      "  [1.45631618e+08]\n",
      "  [2.70204100e+02]\n",
      "  [2.78284000e+02]]\n",
      "\n",
      " [[2.78972000e+02]\n",
      "  [2.79117000e+02]\n",
      "  [2.78835000e+02]\n",
      "  ...\n",
      "  [1.45631618e+08]\n",
      "  [2.70204100e+02]\n",
      "  [2.78351000e+02]]\n",
      "\n",
      " [[2.78954000e+02]\n",
      "  [2.79135000e+02]\n",
      "  [2.78798000e+02]\n",
      "  ...\n",
      "  [1.45631618e+08]\n",
      "  [2.70204100e+02]\n",
      "  [2.78281000e+02]]\n",
      "\n",
      " ...\n",
      "\n",
      " [[2.79160000e+02]\n",
      "  [2.79304000e+02]\n",
      "  [2.79023000e+02]\n",
      "  ...\n",
      "  [1.45631618e+08]\n",
      "  [2.70204100e+02]\n",
      "  [2.78304000e+02]]\n",
      "\n",
      " [[2.79179000e+02]\n",
      "  [2.79323000e+02]\n",
      "  [2.79041000e+02]\n",
      "  ...\n",
      "  [1.45631618e+08]\n",
      "  [2.70204100e+02]\n",
      "  [2.78258000e+02]]\n",
      "\n",
      " [[2.79179000e+02]\n",
      "  [2.79323000e+02]\n",
      "  [2.79041000e+02]\n",
      "  ...\n",
      "  [1.45631618e+08]\n",
      "  [2.70204100e+02]\n",
      "  [2.78238000e+02]]]\n"
     ]
    }
   ],
   "source": [
    "print('x train_v2', X_train_v2)\n",
    "print('x test_v2', X_test_v2)"
   ],
   "metadata": {
    "collapsed": false,
    "ExecuteTime": {
     "end_time": "2024-07-21T01:38:46.305247200Z",
     "start_time": "2024-07-21T01:38:46.292268400Z"
    }
   },
   "id": "157a71f466bee509",
   "execution_count": 10
  },
  {
   "cell_type": "code",
   "outputs": [
    {
     "name": "stdout",
     "output_type": "stream",
     "text": [
      "(95, 5) (95,)\n",
      "(15, 1445) (15,)\n"
     ]
    }
   ],
   "source": [
    "print(X_train.shape, y_train.shape)\n",
    "print(X_train_v2.reshape(X_train_v2.shape[0], X_train_v2.shape[1]).shape, y_train_v2.shape)"
   ],
   "metadata": {
    "collapsed": false,
    "ExecuteTime": {
     "end_time": "2024-07-21T01:38:46.305247200Z",
     "start_time": "2024-07-21T01:38:46.293777200Z"
    }
   },
   "id": "b3a6bfd3acf9bfa1",
   "execution_count": 11
  },
  {
   "cell_type": "code",
   "outputs": [
    {
     "data": {
      "text/plain": "     open    high     low  volume  CPALTT01USM657N   DFF  EXPINF10YR  \\\n0  83.935  84.042  83.820     232          0.12452  0.19    1.574237   \n1  83.888  83.995  83.743     150          0.12452  0.19    1.574237   \n2  83.888  83.995  83.774    1600          0.12452  0.19    1.574237   \n3  83.904  84.011  83.776     100          0.12452  0.19    1.574237   \n4  83.966  84.073  83.851     698          0.12452  0.19    1.574237   \n5  84.168  84.276  84.053     100          0.12452  0.19    1.574237   \n6  84.277  84.385  84.162     350          0.12452  0.19    1.574237   \n7  84.137  84.244  84.022     100          0.12452  0.19    1.574237   \n8  84.152  84.260  84.037     300          0.12452  0.19    1.574237   \n9  84.246  84.353  84.131     235          0.12452  0.19    1.574237   \n\n       GDPC1     RSXFS  T10YFF  UNRATE    macd  macd_signal  macd_hist  \\\n0  16960.864  323990.0    2.48     9.4  1.1427       1.1947    -0.0521   \n1  16960.864  323990.0    2.48     9.4  1.1427       1.1947    -0.0521   \n2  16960.864  323990.0    2.48     9.4  1.1427       1.1947    -0.0521   \n3  16960.864  323990.0    2.48     9.4  1.1427       1.1947    -0.0521   \n4  16960.864  323990.0    2.48     9.4  1.1427       1.1947    -0.0521   \n5  16960.864  323990.0    2.48     9.4  1.1427       1.1947    -0.0521   \n6  16960.864  323990.0    2.48     9.4  1.1427       1.1947    -0.0521   \n7  16960.864  323990.0    2.48     9.4  1.1427       1.1947    -0.0521   \n8  16960.864  323990.0    2.48     9.4  1.1427       1.1947    -0.0521   \n9  16960.864  323990.0    2.48     9.4  1.1427       1.1947    -0.0521   \n\n   daily_obv  seven_day_ema   close  \n0  -148100.0        81.6086  83.967  \n1  -148100.0        81.6086  83.889  \n2  -148100.0        81.6086  83.920  \n3  -148100.0        81.6086  83.923  \n4  -148100.0        81.6086  83.998  \n5  -148100.0        81.6086  84.200  \n6  -148100.0        81.6086  84.309  \n7  -148100.0        81.6086  84.169  \n8  -148100.0        81.6086  84.184  \n9  -148100.0        81.6086  84.278  ",
      "text/html": "<div>\n<style scoped>\n    .dataframe tbody tr th:only-of-type {\n        vertical-align: middle;\n    }\n\n    .dataframe tbody tr th {\n        vertical-align: top;\n    }\n\n    .dataframe thead th {\n        text-align: right;\n    }\n</style>\n<table border=\"1\" class=\"dataframe\">\n  <thead>\n    <tr style=\"text-align: right;\">\n      <th></th>\n      <th>open</th>\n      <th>high</th>\n      <th>low</th>\n      <th>volume</th>\n      <th>CPALTT01USM657N</th>\n      <th>DFF</th>\n      <th>EXPINF10YR</th>\n      <th>GDPC1</th>\n      <th>RSXFS</th>\n      <th>T10YFF</th>\n      <th>UNRATE</th>\n      <th>macd</th>\n      <th>macd_signal</th>\n      <th>macd_hist</th>\n      <th>daily_obv</th>\n      <th>seven_day_ema</th>\n      <th>close</th>\n    </tr>\n  </thead>\n  <tbody>\n    <tr>\n      <th>0</th>\n      <td>83.935</td>\n      <td>84.042</td>\n      <td>83.820</td>\n      <td>232</td>\n      <td>0.12452</td>\n      <td>0.19</td>\n      <td>1.574237</td>\n      <td>16960.864</td>\n      <td>323990.0</td>\n      <td>2.48</td>\n      <td>9.4</td>\n      <td>1.1427</td>\n      <td>1.1947</td>\n      <td>-0.0521</td>\n      <td>-148100.0</td>\n      <td>81.6086</td>\n      <td>83.967</td>\n    </tr>\n    <tr>\n      <th>1</th>\n      <td>83.888</td>\n      <td>83.995</td>\n      <td>83.743</td>\n      <td>150</td>\n      <td>0.12452</td>\n      <td>0.19</td>\n      <td>1.574237</td>\n      <td>16960.864</td>\n      <td>323990.0</td>\n      <td>2.48</td>\n      <td>9.4</td>\n      <td>1.1427</td>\n      <td>1.1947</td>\n      <td>-0.0521</td>\n      <td>-148100.0</td>\n      <td>81.6086</td>\n      <td>83.889</td>\n    </tr>\n    <tr>\n      <th>2</th>\n      <td>83.888</td>\n      <td>83.995</td>\n      <td>83.774</td>\n      <td>1600</td>\n      <td>0.12452</td>\n      <td>0.19</td>\n      <td>1.574237</td>\n      <td>16960.864</td>\n      <td>323990.0</td>\n      <td>2.48</td>\n      <td>9.4</td>\n      <td>1.1427</td>\n      <td>1.1947</td>\n      <td>-0.0521</td>\n      <td>-148100.0</td>\n      <td>81.6086</td>\n      <td>83.920</td>\n    </tr>\n    <tr>\n      <th>3</th>\n      <td>83.904</td>\n      <td>84.011</td>\n      <td>83.776</td>\n      <td>100</td>\n      <td>0.12452</td>\n      <td>0.19</td>\n      <td>1.574237</td>\n      <td>16960.864</td>\n      <td>323990.0</td>\n      <td>2.48</td>\n      <td>9.4</td>\n      <td>1.1427</td>\n      <td>1.1947</td>\n      <td>-0.0521</td>\n      <td>-148100.0</td>\n      <td>81.6086</td>\n      <td>83.923</td>\n    </tr>\n    <tr>\n      <th>4</th>\n      <td>83.966</td>\n      <td>84.073</td>\n      <td>83.851</td>\n      <td>698</td>\n      <td>0.12452</td>\n      <td>0.19</td>\n      <td>1.574237</td>\n      <td>16960.864</td>\n      <td>323990.0</td>\n      <td>2.48</td>\n      <td>9.4</td>\n      <td>1.1427</td>\n      <td>1.1947</td>\n      <td>-0.0521</td>\n      <td>-148100.0</td>\n      <td>81.6086</td>\n      <td>83.998</td>\n    </tr>\n    <tr>\n      <th>5</th>\n      <td>84.168</td>\n      <td>84.276</td>\n      <td>84.053</td>\n      <td>100</td>\n      <td>0.12452</td>\n      <td>0.19</td>\n      <td>1.574237</td>\n      <td>16960.864</td>\n      <td>323990.0</td>\n      <td>2.48</td>\n      <td>9.4</td>\n      <td>1.1427</td>\n      <td>1.1947</td>\n      <td>-0.0521</td>\n      <td>-148100.0</td>\n      <td>81.6086</td>\n      <td>84.200</td>\n    </tr>\n    <tr>\n      <th>6</th>\n      <td>84.277</td>\n      <td>84.385</td>\n      <td>84.162</td>\n      <td>350</td>\n      <td>0.12452</td>\n      <td>0.19</td>\n      <td>1.574237</td>\n      <td>16960.864</td>\n      <td>323990.0</td>\n      <td>2.48</td>\n      <td>9.4</td>\n      <td>1.1427</td>\n      <td>1.1947</td>\n      <td>-0.0521</td>\n      <td>-148100.0</td>\n      <td>81.6086</td>\n      <td>84.309</td>\n    </tr>\n    <tr>\n      <th>7</th>\n      <td>84.137</td>\n      <td>84.244</td>\n      <td>84.022</td>\n      <td>100</td>\n      <td>0.12452</td>\n      <td>0.19</td>\n      <td>1.574237</td>\n      <td>16960.864</td>\n      <td>323990.0</td>\n      <td>2.48</td>\n      <td>9.4</td>\n      <td>1.1427</td>\n      <td>1.1947</td>\n      <td>-0.0521</td>\n      <td>-148100.0</td>\n      <td>81.6086</td>\n      <td>84.169</td>\n    </tr>\n    <tr>\n      <th>8</th>\n      <td>84.152</td>\n      <td>84.260</td>\n      <td>84.037</td>\n      <td>300</td>\n      <td>0.12452</td>\n      <td>0.19</td>\n      <td>1.574237</td>\n      <td>16960.864</td>\n      <td>323990.0</td>\n      <td>2.48</td>\n      <td>9.4</td>\n      <td>1.1427</td>\n      <td>1.1947</td>\n      <td>-0.0521</td>\n      <td>-148100.0</td>\n      <td>81.6086</td>\n      <td>84.184</td>\n    </tr>\n    <tr>\n      <th>9</th>\n      <td>84.246</td>\n      <td>84.353</td>\n      <td>84.131</td>\n      <td>235</td>\n      <td>0.12452</td>\n      <td>0.19</td>\n      <td>1.574237</td>\n      <td>16960.864</td>\n      <td>323990.0</td>\n      <td>2.48</td>\n      <td>9.4</td>\n      <td>1.1427</td>\n      <td>1.1947</td>\n      <td>-0.0521</td>\n      <td>-148100.0</td>\n      <td>81.6086</td>\n      <td>84.278</td>\n    </tr>\n  </tbody>\n</table>\n</div>"
     },
     "execution_count": 12,
     "metadata": {},
     "output_type": "execute_result"
    }
   ],
   "source": [
    "df[non_target_columns].head(n=10)"
   ],
   "metadata": {
    "collapsed": false,
    "ExecuteTime": {
     "end_time": "2024-07-21T01:38:46.349754700Z",
     "start_time": "2024-07-21T01:38:46.296244300Z"
    }
   },
   "id": "30eababafc88f8eb",
   "execution_count": 12
  },
  {
   "cell_type": "code",
   "outputs": [
    {
     "data": {
      "text/plain": "        0       1       2       3       4\n0  83.967  83.889  83.920  83.923  83.998\n1  83.889  83.920  83.923  83.998  84.200\n2  83.920  83.923  83.998  84.200  84.309\n3  83.923  83.998  84.200  84.309  84.169\n4  83.998  84.200  84.309  84.169  84.184\n5  84.200  84.309  84.169  84.184  84.278\n6  84.309  84.169  84.184  84.278  84.169\n7  84.169  84.184  84.278  84.169  84.241\n8  84.184  84.278  84.169  84.241  84.325\n9  84.278  84.169  84.241  84.325  84.301",
      "text/html": "<div>\n<style scoped>\n    .dataframe tbody tr th:only-of-type {\n        vertical-align: middle;\n    }\n\n    .dataframe tbody tr th {\n        vertical-align: top;\n    }\n\n    .dataframe thead th {\n        text-align: right;\n    }\n</style>\n<table border=\"1\" class=\"dataframe\">\n  <thead>\n    <tr style=\"text-align: right;\">\n      <th></th>\n      <th>0</th>\n      <th>1</th>\n      <th>2</th>\n      <th>3</th>\n      <th>4</th>\n    </tr>\n  </thead>\n  <tbody>\n    <tr>\n      <th>0</th>\n      <td>83.967</td>\n      <td>83.889</td>\n      <td>83.920</td>\n      <td>83.923</td>\n      <td>83.998</td>\n    </tr>\n    <tr>\n      <th>1</th>\n      <td>83.889</td>\n      <td>83.920</td>\n      <td>83.923</td>\n      <td>83.998</td>\n      <td>84.200</td>\n    </tr>\n    <tr>\n      <th>2</th>\n      <td>83.920</td>\n      <td>83.923</td>\n      <td>83.998</td>\n      <td>84.200</td>\n      <td>84.309</td>\n    </tr>\n    <tr>\n      <th>3</th>\n      <td>83.923</td>\n      <td>83.998</td>\n      <td>84.200</td>\n      <td>84.309</td>\n      <td>84.169</td>\n    </tr>\n    <tr>\n      <th>4</th>\n      <td>83.998</td>\n      <td>84.200</td>\n      <td>84.309</td>\n      <td>84.169</td>\n      <td>84.184</td>\n    </tr>\n    <tr>\n      <th>5</th>\n      <td>84.200</td>\n      <td>84.309</td>\n      <td>84.169</td>\n      <td>84.184</td>\n      <td>84.278</td>\n    </tr>\n    <tr>\n      <th>6</th>\n      <td>84.309</td>\n      <td>84.169</td>\n      <td>84.184</td>\n      <td>84.278</td>\n      <td>84.169</td>\n    </tr>\n    <tr>\n      <th>7</th>\n      <td>84.169</td>\n      <td>84.184</td>\n      <td>84.278</td>\n      <td>84.169</td>\n      <td>84.241</td>\n    </tr>\n    <tr>\n      <th>8</th>\n      <td>84.184</td>\n      <td>84.278</td>\n      <td>84.169</td>\n      <td>84.241</td>\n      <td>84.325</td>\n    </tr>\n    <tr>\n      <th>9</th>\n      <td>84.278</td>\n      <td>84.169</td>\n      <td>84.241</td>\n      <td>84.325</td>\n      <td>84.301</td>\n    </tr>\n  </tbody>\n</table>\n</div>"
     },
     "execution_count": 13,
     "metadata": {},
     "output_type": "execute_result"
    }
   ],
   "source": [
    "pd.DataFrame(X_train).head(n=10)"
   ],
   "metadata": {
    "collapsed": false,
    "ExecuteTime": {
     "end_time": "2024-07-21T01:38:46.349754700Z",
     "start_time": "2024-07-21T01:38:46.333894900Z"
    }
   },
   "id": "8573023bef46c04e",
   "execution_count": 13
  },
  {
   "cell_type": "code",
   "outputs": [
    {
     "data": {
      "text/plain": "        0\n0  84.200\n1  84.309\n2  84.169\n3  84.184\n4  84.278\n5  84.169\n6  84.241\n7  84.325\n8  84.301\n9  84.278",
      "text/html": "<div>\n<style scoped>\n    .dataframe tbody tr th:only-of-type {\n        vertical-align: middle;\n    }\n\n    .dataframe tbody tr th {\n        vertical-align: top;\n    }\n\n    .dataframe thead th {\n        text-align: right;\n    }\n</style>\n<table border=\"1\" class=\"dataframe\">\n  <thead>\n    <tr style=\"text-align: right;\">\n      <th></th>\n      <th>0</th>\n    </tr>\n  </thead>\n  <tbody>\n    <tr>\n      <th>0</th>\n      <td>84.200</td>\n    </tr>\n    <tr>\n      <th>1</th>\n      <td>84.309</td>\n    </tr>\n    <tr>\n      <th>2</th>\n      <td>84.169</td>\n    </tr>\n    <tr>\n      <th>3</th>\n      <td>84.184</td>\n    </tr>\n    <tr>\n      <th>4</th>\n      <td>84.278</td>\n    </tr>\n    <tr>\n      <th>5</th>\n      <td>84.169</td>\n    </tr>\n    <tr>\n      <th>6</th>\n      <td>84.241</td>\n    </tr>\n    <tr>\n      <th>7</th>\n      <td>84.325</td>\n    </tr>\n    <tr>\n      <th>8</th>\n      <td>84.301</td>\n    </tr>\n    <tr>\n      <th>9</th>\n      <td>84.278</td>\n    </tr>\n  </tbody>\n</table>\n</div>"
     },
     "execution_count": 14,
     "metadata": {},
     "output_type": "execute_result"
    }
   ],
   "source": [
    "pd.DataFrame(y_train).head(n=10)"
   ],
   "metadata": {
    "collapsed": false,
    "ExecuteTime": {
     "end_time": "2024-07-21T01:38:46.350756100Z",
     "start_time": "2024-07-21T01:38:46.339577100Z"
    }
   },
   "id": "320c0b612e34130",
   "execution_count": 14
  },
  {
   "cell_type": "code",
   "outputs": [
    {
     "data": {
      "text/plain": "      0       1       2       3        4     5         6          7     \\\n0   83.935  84.042  83.820   232.0  0.12452  0.19  1.574237  16960.864   \n1   83.888  83.995  83.743   150.0  0.12452  0.19  1.574237  16960.864   \n2   83.888  83.995  83.774  1600.0  0.12452  0.19  1.574237  16960.864   \n3   83.904  84.011  83.776   100.0  0.12452  0.19  1.574237  16960.864   \n4   83.966  84.073  83.851   698.0  0.12452  0.19  1.574237  16960.864   \n5   84.168  84.276  84.053   100.0  0.12452  0.19  1.574237  16960.864   \n6   84.277  84.385  84.162   350.0  0.12452  0.19  1.574237  16960.864   \n7   84.137  84.244  84.022   100.0  0.12452  0.19  1.574237  16960.864   \n8   84.152  84.260  84.037   300.0  0.12452  0.19  1.574237  16960.864   \n9   84.246  84.353  84.131   235.0  0.12452  0.19  1.574237  16960.864   \n10  84.137  84.244  84.022    50.0  0.12452  0.19  1.574237  16960.864   \n11  84.208  84.316  84.093    74.0  0.12452  0.19  1.574237  16960.864   \n12  84.292  84.400  84.177   100.0  0.12452  0.19  1.574237  16960.864   \n13  84.269  84.377  84.154    50.0  0.12452  0.19  1.574237  16960.864   \n14  84.246  84.353  84.131   100.0  0.12452  0.19  1.574237  16960.864   \n\n        8     9     ...       1435      1436  1437  1438   1439    1440  \\\n0   323990.0  2.48  ...  16960.864  323990.0  2.56   9.4  1.111  1.1834   \n1   323990.0  2.48  ...  16960.864  323990.0  2.56   9.4  1.111  1.1834   \n2   323990.0  2.48  ...  16960.864  323990.0  2.56   9.4  1.111  1.1834   \n3   323990.0  2.48  ...  16960.864  323990.0  2.56   9.4  1.111  1.1834   \n4   323990.0  2.48  ...  16960.864  323990.0  2.56   9.4  1.111  1.1834   \n5   323990.0  2.48  ...  16960.864  323990.0  2.56   9.4  1.111  1.1834   \n6   323990.0  2.48  ...  16960.864  323990.0  2.56   9.4  1.111  1.1834   \n7   323990.0  2.48  ...  16960.864  323990.0  2.56   9.4  1.111  1.1834   \n8   323990.0  2.48  ...  16960.864  323990.0  2.56   9.4  1.111  1.1834   \n9   323990.0  2.48  ...  16960.864  323990.0  2.56   9.4  1.111  1.1834   \n10  323990.0  2.48  ...  16960.864  323990.0  2.56   9.4  1.111  1.1834   \n11  323990.0  2.48  ...  16960.864  323990.0  2.56   9.4  1.111  1.1834   \n12  323990.0  2.48  ...  16960.864  323990.0  2.56   9.4  1.111  1.1834   \n13  323990.0  2.48  ...  16960.864  323990.0  2.56   9.4  1.111  1.1834   \n14  323990.0  2.48  ...  16960.864  323990.0  2.56   9.4  1.111  1.1834   \n\n      1441      1442     1443    1444  \n0  -0.0724 -165200.0  81.7122  83.516  \n1  -0.0724 -165200.0  81.7122  83.485  \n2  -0.0724 -165200.0  81.7122  83.516  \n3  -0.0724 -165200.0  81.7122  83.516  \n4  -0.0724 -165200.0  81.7122  83.578  \n5  -0.0724 -165200.0  81.7122  83.438  \n6  -0.0724 -165200.0  81.7122  83.407  \n7  -0.0724 -165200.0  81.7122  83.458  \n8  -0.0724 -165200.0  81.7122  83.584  \n9  -0.0724 -165200.0  81.7122  83.734  \n10 -0.0724 -165200.0  81.7122  83.687  \n11 -0.0724 -165200.0  81.7122  83.609  \n12 -0.0724 -165200.0  81.7122  83.640  \n13 -0.0724 -165200.0  81.7122  83.625  \n14 -0.0724 -165200.0  81.7122  83.765  \n\n[15 rows x 1445 columns]",
      "text/html": "<div>\n<style scoped>\n    .dataframe tbody tr th:only-of-type {\n        vertical-align: middle;\n    }\n\n    .dataframe tbody tr th {\n        vertical-align: top;\n    }\n\n    .dataframe thead th {\n        text-align: right;\n    }\n</style>\n<table border=\"1\" class=\"dataframe\">\n  <thead>\n    <tr style=\"text-align: right;\">\n      <th></th>\n      <th>0</th>\n      <th>1</th>\n      <th>2</th>\n      <th>3</th>\n      <th>4</th>\n      <th>5</th>\n      <th>6</th>\n      <th>7</th>\n      <th>8</th>\n      <th>9</th>\n      <th>...</th>\n      <th>1435</th>\n      <th>1436</th>\n      <th>1437</th>\n      <th>1438</th>\n      <th>1439</th>\n      <th>1440</th>\n      <th>1441</th>\n      <th>1442</th>\n      <th>1443</th>\n      <th>1444</th>\n    </tr>\n  </thead>\n  <tbody>\n    <tr>\n      <th>0</th>\n      <td>83.935</td>\n      <td>84.042</td>\n      <td>83.820</td>\n      <td>232.0</td>\n      <td>0.12452</td>\n      <td>0.19</td>\n      <td>1.574237</td>\n      <td>16960.864</td>\n      <td>323990.0</td>\n      <td>2.48</td>\n      <td>...</td>\n      <td>16960.864</td>\n      <td>323990.0</td>\n      <td>2.56</td>\n      <td>9.4</td>\n      <td>1.111</td>\n      <td>1.1834</td>\n      <td>-0.0724</td>\n      <td>-165200.0</td>\n      <td>81.7122</td>\n      <td>83.516</td>\n    </tr>\n    <tr>\n      <th>1</th>\n      <td>83.888</td>\n      <td>83.995</td>\n      <td>83.743</td>\n      <td>150.0</td>\n      <td>0.12452</td>\n      <td>0.19</td>\n      <td>1.574237</td>\n      <td>16960.864</td>\n      <td>323990.0</td>\n      <td>2.48</td>\n      <td>...</td>\n      <td>16960.864</td>\n      <td>323990.0</td>\n      <td>2.56</td>\n      <td>9.4</td>\n      <td>1.111</td>\n      <td>1.1834</td>\n      <td>-0.0724</td>\n      <td>-165200.0</td>\n      <td>81.7122</td>\n      <td>83.485</td>\n    </tr>\n    <tr>\n      <th>2</th>\n      <td>83.888</td>\n      <td>83.995</td>\n      <td>83.774</td>\n      <td>1600.0</td>\n      <td>0.12452</td>\n      <td>0.19</td>\n      <td>1.574237</td>\n      <td>16960.864</td>\n      <td>323990.0</td>\n      <td>2.48</td>\n      <td>...</td>\n      <td>16960.864</td>\n      <td>323990.0</td>\n      <td>2.56</td>\n      <td>9.4</td>\n      <td>1.111</td>\n      <td>1.1834</td>\n      <td>-0.0724</td>\n      <td>-165200.0</td>\n      <td>81.7122</td>\n      <td>83.516</td>\n    </tr>\n    <tr>\n      <th>3</th>\n      <td>83.904</td>\n      <td>84.011</td>\n      <td>83.776</td>\n      <td>100.0</td>\n      <td>0.12452</td>\n      <td>0.19</td>\n      <td>1.574237</td>\n      <td>16960.864</td>\n      <td>323990.0</td>\n      <td>2.48</td>\n      <td>...</td>\n      <td>16960.864</td>\n      <td>323990.0</td>\n      <td>2.56</td>\n      <td>9.4</td>\n      <td>1.111</td>\n      <td>1.1834</td>\n      <td>-0.0724</td>\n      <td>-165200.0</td>\n      <td>81.7122</td>\n      <td>83.516</td>\n    </tr>\n    <tr>\n      <th>4</th>\n      <td>83.966</td>\n      <td>84.073</td>\n      <td>83.851</td>\n      <td>698.0</td>\n      <td>0.12452</td>\n      <td>0.19</td>\n      <td>1.574237</td>\n      <td>16960.864</td>\n      <td>323990.0</td>\n      <td>2.48</td>\n      <td>...</td>\n      <td>16960.864</td>\n      <td>323990.0</td>\n      <td>2.56</td>\n      <td>9.4</td>\n      <td>1.111</td>\n      <td>1.1834</td>\n      <td>-0.0724</td>\n      <td>-165200.0</td>\n      <td>81.7122</td>\n      <td>83.578</td>\n    </tr>\n    <tr>\n      <th>5</th>\n      <td>84.168</td>\n      <td>84.276</td>\n      <td>84.053</td>\n      <td>100.0</td>\n      <td>0.12452</td>\n      <td>0.19</td>\n      <td>1.574237</td>\n      <td>16960.864</td>\n      <td>323990.0</td>\n      <td>2.48</td>\n      <td>...</td>\n      <td>16960.864</td>\n      <td>323990.0</td>\n      <td>2.56</td>\n      <td>9.4</td>\n      <td>1.111</td>\n      <td>1.1834</td>\n      <td>-0.0724</td>\n      <td>-165200.0</td>\n      <td>81.7122</td>\n      <td>83.438</td>\n    </tr>\n    <tr>\n      <th>6</th>\n      <td>84.277</td>\n      <td>84.385</td>\n      <td>84.162</td>\n      <td>350.0</td>\n      <td>0.12452</td>\n      <td>0.19</td>\n      <td>1.574237</td>\n      <td>16960.864</td>\n      <td>323990.0</td>\n      <td>2.48</td>\n      <td>...</td>\n      <td>16960.864</td>\n      <td>323990.0</td>\n      <td>2.56</td>\n      <td>9.4</td>\n      <td>1.111</td>\n      <td>1.1834</td>\n      <td>-0.0724</td>\n      <td>-165200.0</td>\n      <td>81.7122</td>\n      <td>83.407</td>\n    </tr>\n    <tr>\n      <th>7</th>\n      <td>84.137</td>\n      <td>84.244</td>\n      <td>84.022</td>\n      <td>100.0</td>\n      <td>0.12452</td>\n      <td>0.19</td>\n      <td>1.574237</td>\n      <td>16960.864</td>\n      <td>323990.0</td>\n      <td>2.48</td>\n      <td>...</td>\n      <td>16960.864</td>\n      <td>323990.0</td>\n      <td>2.56</td>\n      <td>9.4</td>\n      <td>1.111</td>\n      <td>1.1834</td>\n      <td>-0.0724</td>\n      <td>-165200.0</td>\n      <td>81.7122</td>\n      <td>83.458</td>\n    </tr>\n    <tr>\n      <th>8</th>\n      <td>84.152</td>\n      <td>84.260</td>\n      <td>84.037</td>\n      <td>300.0</td>\n      <td>0.12452</td>\n      <td>0.19</td>\n      <td>1.574237</td>\n      <td>16960.864</td>\n      <td>323990.0</td>\n      <td>2.48</td>\n      <td>...</td>\n      <td>16960.864</td>\n      <td>323990.0</td>\n      <td>2.56</td>\n      <td>9.4</td>\n      <td>1.111</td>\n      <td>1.1834</td>\n      <td>-0.0724</td>\n      <td>-165200.0</td>\n      <td>81.7122</td>\n      <td>83.584</td>\n    </tr>\n    <tr>\n      <th>9</th>\n      <td>84.246</td>\n      <td>84.353</td>\n      <td>84.131</td>\n      <td>235.0</td>\n      <td>0.12452</td>\n      <td>0.19</td>\n      <td>1.574237</td>\n      <td>16960.864</td>\n      <td>323990.0</td>\n      <td>2.48</td>\n      <td>...</td>\n      <td>16960.864</td>\n      <td>323990.0</td>\n      <td>2.56</td>\n      <td>9.4</td>\n      <td>1.111</td>\n      <td>1.1834</td>\n      <td>-0.0724</td>\n      <td>-165200.0</td>\n      <td>81.7122</td>\n      <td>83.734</td>\n    </tr>\n    <tr>\n      <th>10</th>\n      <td>84.137</td>\n      <td>84.244</td>\n      <td>84.022</td>\n      <td>50.0</td>\n      <td>0.12452</td>\n      <td>0.19</td>\n      <td>1.574237</td>\n      <td>16960.864</td>\n      <td>323990.0</td>\n      <td>2.48</td>\n      <td>...</td>\n      <td>16960.864</td>\n      <td>323990.0</td>\n      <td>2.56</td>\n      <td>9.4</td>\n      <td>1.111</td>\n      <td>1.1834</td>\n      <td>-0.0724</td>\n      <td>-165200.0</td>\n      <td>81.7122</td>\n      <td>83.687</td>\n    </tr>\n    <tr>\n      <th>11</th>\n      <td>84.208</td>\n      <td>84.316</td>\n      <td>84.093</td>\n      <td>74.0</td>\n      <td>0.12452</td>\n      <td>0.19</td>\n      <td>1.574237</td>\n      <td>16960.864</td>\n      <td>323990.0</td>\n      <td>2.48</td>\n      <td>...</td>\n      <td>16960.864</td>\n      <td>323990.0</td>\n      <td>2.56</td>\n      <td>9.4</td>\n      <td>1.111</td>\n      <td>1.1834</td>\n      <td>-0.0724</td>\n      <td>-165200.0</td>\n      <td>81.7122</td>\n      <td>83.609</td>\n    </tr>\n    <tr>\n      <th>12</th>\n      <td>84.292</td>\n      <td>84.400</td>\n      <td>84.177</td>\n      <td>100.0</td>\n      <td>0.12452</td>\n      <td>0.19</td>\n      <td>1.574237</td>\n      <td>16960.864</td>\n      <td>323990.0</td>\n      <td>2.48</td>\n      <td>...</td>\n      <td>16960.864</td>\n      <td>323990.0</td>\n      <td>2.56</td>\n      <td>9.4</td>\n      <td>1.111</td>\n      <td>1.1834</td>\n      <td>-0.0724</td>\n      <td>-165200.0</td>\n      <td>81.7122</td>\n      <td>83.640</td>\n    </tr>\n    <tr>\n      <th>13</th>\n      <td>84.269</td>\n      <td>84.377</td>\n      <td>84.154</td>\n      <td>50.0</td>\n      <td>0.12452</td>\n      <td>0.19</td>\n      <td>1.574237</td>\n      <td>16960.864</td>\n      <td>323990.0</td>\n      <td>2.48</td>\n      <td>...</td>\n      <td>16960.864</td>\n      <td>323990.0</td>\n      <td>2.56</td>\n      <td>9.4</td>\n      <td>1.111</td>\n      <td>1.1834</td>\n      <td>-0.0724</td>\n      <td>-165200.0</td>\n      <td>81.7122</td>\n      <td>83.625</td>\n    </tr>\n    <tr>\n      <th>14</th>\n      <td>84.246</td>\n      <td>84.353</td>\n      <td>84.131</td>\n      <td>100.0</td>\n      <td>0.12452</td>\n      <td>0.19</td>\n      <td>1.574237</td>\n      <td>16960.864</td>\n      <td>323990.0</td>\n      <td>2.48</td>\n      <td>...</td>\n      <td>16960.864</td>\n      <td>323990.0</td>\n      <td>2.56</td>\n      <td>9.4</td>\n      <td>1.111</td>\n      <td>1.1834</td>\n      <td>-0.0724</td>\n      <td>-165200.0</td>\n      <td>81.7122</td>\n      <td>83.765</td>\n    </tr>\n  </tbody>\n</table>\n<p>15 rows × 1445 columns</p>\n</div>"
     },
     "execution_count": 15,
     "metadata": {},
     "output_type": "execute_result"
    }
   ],
   "source": [
    "pd.DataFrame(X_train_v2.reshape(X_train_v2.shape[0], X_train_v2.shape[1])).head(n=200)"
   ],
   "metadata": {
    "collapsed": false,
    "ExecuteTime": {
     "end_time": "2024-07-21T01:38:46.361007500Z",
     "start_time": "2024-07-21T01:38:46.354266200Z"
    }
   },
   "id": "b499e2f09840a4f6",
   "execution_count": 15
  },
  {
   "cell_type": "code",
   "outputs": [
    {
     "data": {
      "text/plain": "        0\n0  83.485\n1  83.516\n2  83.516\n3  83.578\n4  83.438",
      "text/html": "<div>\n<style scoped>\n    .dataframe tbody tr th:only-of-type {\n        vertical-align: middle;\n    }\n\n    .dataframe tbody tr th {\n        vertical-align: top;\n    }\n\n    .dataframe thead th {\n        text-align: right;\n    }\n</style>\n<table border=\"1\" class=\"dataframe\">\n  <thead>\n    <tr style=\"text-align: right;\">\n      <th></th>\n      <th>0</th>\n    </tr>\n  </thead>\n  <tbody>\n    <tr>\n      <th>0</th>\n      <td>83.485</td>\n    </tr>\n    <tr>\n      <th>1</th>\n      <td>83.516</td>\n    </tr>\n    <tr>\n      <th>2</th>\n      <td>83.516</td>\n    </tr>\n    <tr>\n      <th>3</th>\n      <td>83.578</td>\n    </tr>\n    <tr>\n      <th>4</th>\n      <td>83.438</td>\n    </tr>\n  </tbody>\n</table>\n</div>"
     },
     "execution_count": 16,
     "metadata": {},
     "output_type": "execute_result"
    }
   ],
   "source": [
    "pd.DataFrame(y_train_v2).head()"
   ],
   "metadata": {
    "collapsed": false,
    "ExecuteTime": {
     "end_time": "2024-07-21T01:38:46.361874600Z",
     "start_time": "2024-07-21T01:38:46.355773Z"
    }
   },
   "id": "8dfed1f2906152b",
   "execution_count": 16
  },
  {
   "cell_type": "markdown",
   "source": [
    "# using all fields available"
   ],
   "metadata": {
    "collapsed": false
   },
   "id": "3c459d4662a2e0b"
  },
  {
   "cell_type": "code",
   "outputs": [],
   "source": [
    "# # convert df into objects Torch can read\n",
    "# torch_X_train  = torch.from_numpy(X_train_v2.reshape(X_train_v2.shape[0], X_train_v2.shape[1])).float()\n",
    "# torch_y_train = torch.from_numpy(y_train_v2).float()\n",
    "# torch_X_test = torch.from_numpy(X_test_v2.reshape(X_test_v2.shape[0], X_test_v2.shape[1])).float()\n",
    "# torch_y_test = torch.from_numpy(y_test_v2).float()\n",
    "# \n",
    "# print(torch_X_train.shape, torch_y_train.shape)\n",
    "# # create test and train sets\n",
    "# train_data_set = TensorDataset(torch_X_train, torch_y_train)\n",
    "# test_data_set = TensorDataset(torch_X_test, torch_y_test)\n",
    "# \n",
    "# # confirm it works\n",
    "# sample = train_data_set[0]\n",
    "# input_sample, label_sample = sample\n",
    "# print('input sample:', input_sample)\n",
    "# print('label sample:', label_sample)"
   ],
   "metadata": {
    "collapsed": false,
    "ExecuteTime": {
     "end_time": "2024-07-21T01:38:46.362377900Z",
     "start_time": "2024-07-21T01:38:46.361007500Z"
    }
   },
   "id": "382fadba79bfaaee",
   "execution_count": 17
  },
  {
   "cell_type": "code",
   "outputs": [],
   "source": [
    "# Using just the close price"
   ],
   "metadata": {
    "collapsed": false,
    "ExecuteTime": {
     "end_time": "2024-07-21T01:38:46.371140600Z",
     "start_time": "2024-07-21T01:38:46.363381800Z"
    }
   },
   "id": "ec4d4cde0b78850f",
   "execution_count": 18
  },
  {
   "cell_type": "code",
   "outputs": [
    {
     "name": "stdout",
     "output_type": "stream",
     "text": [
      "input sample: tensor([83.9670, 83.8890, 83.9200, 83.9230, 83.9980])\n",
      "label sample: tensor(84.2000)\n"
     ]
    }
   ],
   "source": [
    "# convert df into objects Torch can read\n",
    "torch_X_train  = torch.from_numpy(X_train).float()\n",
    "torch_y_train = torch.from_numpy(y_train).float()\n",
    "torch_X_test = torch.from_numpy(X_test).float()\n",
    "torch_y_test = torch.from_numpy(y_test).float()\n",
    "\n",
    "# create test and train sets\n",
    "train_data_set = TensorDataset(torch_X_train, torch_y_train)\n",
    "test_data_set = TensorDataset(torch_X_test, torch_y_test)\n",
    "\n",
    "# confirm it works\n",
    "sample = train_data_set[0]\n",
    "input_sample, label_sample = sample\n",
    "print('input sample:', input_sample)\n",
    "print('label sample:', label_sample)"
   ],
   "metadata": {
    "collapsed": false,
    "ExecuteTime": {
     "end_time": "2024-07-21T01:38:46.385910600Z",
     "start_time": "2024-07-21T01:38:46.365367800Z"
    }
   },
   "id": "8d2b0b4d1930876e",
   "execution_count": 19
  },
  {
   "cell_type": "code",
   "outputs": [
    {
     "name": "stdout",
     "output_type": "stream",
     "text": [
      "torch.Size([5])\n"
     ]
    }
   ],
   "source": [
    "print(input_sample.shape)"
   ],
   "metadata": {
    "collapsed": false,
    "ExecuteTime": {
     "end_time": "2024-07-21T01:38:46.385910600Z",
     "start_time": "2024-07-21T01:38:46.369706700Z"
    }
   },
   "id": "7ea83ed54f081155",
   "execution_count": 20
  },
  {
   "cell_type": "code",
   "outputs": [],
   "source": [
    "batch_size = 10\n",
    "shuffle = True\n",
    "hidden_size = 5\n",
    "num_layers = 2\n",
    "\n",
    "# create dataloader\n",
    "train_dataloader = DataLoader(train_data_set, batch_size=batch_size, shuffle=shuffle, drop_last=True)\n",
    "test_dataloader = DataLoader(test_data_set, batch_size=batch_size, shuffle=shuffle, drop_last=True)\n",
    "# test loader\n",
    "# x, y = next(iter(train_dataloader))\n",
    "# \n",
    "# print('x', x, 'y', y)"
   ],
   "metadata": {
    "collapsed": false,
    "ExecuteTime": {
     "end_time": "2024-07-21T01:38:46.396911500Z",
     "start_time": "2024-07-21T01:38:46.372144200Z"
    }
   },
   "id": "e992d7c8e1e29632",
   "execution_count": 21
  },
  {
   "cell_type": "code",
   "outputs": [],
   "source": [
    "# LTSM\n",
    "class Net(nn.Module):\n",
    "    def __init__(self, input_size):\n",
    "        super(Net, self).__init__() #super makes all the methods available in nn.Module available for the new class Net\n",
    "        self.lstm = nn.LSTM(\n",
    "            input_size=input_size,\n",
    "            hidden_size=hidden_size,\n",
    "            num_layers=num_layers,\n",
    "            batch_first=True\n",
    "        )\n",
    "        self.fc = nn.Linear(in_features=hidden_size, out_features=1)\n",
    "        \n",
    "    def forward(self, x):\n",
    "        h0 = torch.zeros(num_layers, x.size(0), hidden_size)\n",
    "        c0 = torch.zeros(num_layers, x.size(0), hidden_size)\n",
    "        out, _ = self.lstm(x, (h0, c0))\n",
    "        out = self.fc(out[:, -1, :])\n",
    "        return out"
   ],
   "metadata": {
    "collapsed": false,
    "ExecuteTime": {
     "end_time": "2024-07-21T01:38:46.420435500Z",
     "start_time": "2024-07-21T01:38:46.374869400Z"
    }
   },
   "id": "d6d6aae47a1a113e",
   "execution_count": 22
  },
  {
   "cell_type": "code",
   "outputs": [
    {
     "name": "stdout",
     "output_type": "stream",
     "text": [
      "Epoch 1, Loss: 7031.55078125\n",
      "Epoch 2, Loss: 6994.5400390625\n",
      "Epoch 3, Loss: 6999.08837890625\n",
      "Epoch 4, Loss: 7007.5703125\n",
      "Epoch 5, Loss: 6989.71875\n",
      "Epoch 6, Loss: 6983.2333984375\n",
      "Epoch 7, Loss: 7013.97412109375\n",
      "Epoch 8, Loss: 6945.89599609375\n",
      "Epoch 9, Loss: 6977.58349609375\n",
      "Epoch 10, Loss: 6962.5732421875\n",
      "Epoch 11, Loss: 6942.65478515625\n",
      "Epoch 12, Loss: 6957.1552734375\n",
      "Epoch 13, Loss: 6919.90771484375\n",
      "Epoch 14, Loss: 6891.54150390625\n",
      "Epoch 15, Loss: 6895.62109375\n",
      "Epoch 16, Loss: 6886.0771484375\n",
      "Epoch 17, Loss: 6851.74755859375\n",
      "Epoch 18, Loss: 6872.359375\n",
      "Epoch 19, Loss: 6839.1923828125\n",
      "Epoch 20, Loss: 6799.86962890625\n",
      "Epoch 21, Loss: 6765.390625\n",
      "Epoch 22, Loss: 6784.1611328125\n",
      "Epoch 23, Loss: 6752.25\n",
      "Epoch 24, Loss: 6725.86865234375\n",
      "Epoch 25, Loss: 6705.203125\n",
      "Epoch 26, Loss: 6706.81787109375\n",
      "Epoch 27, Loss: 6653.02099609375\n",
      "Epoch 28, Loss: 6617.125\n",
      "Epoch 29, Loss: 6619.60791015625\n",
      "Epoch 30, Loss: 6580.92578125\n",
      "Epoch 31, Loss: 6573.97802734375\n",
      "Epoch 32, Loss: 6552.958984375\n",
      "Epoch 33, Loss: 6544.20654296875\n",
      "Epoch 34, Loss: 6507.6123046875\n",
      "Epoch 35, Loss: 6507.7099609375\n",
      "Epoch 36, Loss: 6490.40283203125\n",
      "Epoch 37, Loss: 6452.8955078125\n",
      "Epoch 38, Loss: 6466.56689453125\n",
      "Epoch 39, Loss: 6429.92138671875\n",
      "Epoch 40, Loss: 6440.98095703125\n",
      "Epoch 41, Loss: 6429.27099609375\n",
      "Epoch 42, Loss: 6409.2783203125\n",
      "Epoch 43, Loss: 6404.8056640625\n",
      "Epoch 44, Loss: 6382.8681640625\n",
      "Epoch 45, Loss: 6366.8955078125\n",
      "Epoch 46, Loss: 6369.72265625\n",
      "Epoch 47, Loss: 6325.2958984375\n",
      "Epoch 48, Loss: 6347.1904296875\n",
      "Epoch 49, Loss: 6294.0009765625\n",
      "Epoch 50, Loss: 6297.1767578125\n"
     ]
    }
   ],
   "source": [
    "learning_rate = 0.001\n",
    "num_epochs = 50\n",
    "num_features = 1 # this right now is just the close date. \n",
    "\n",
    "net = Net(input_size=num_features)\n",
    "#criterion = nn.BCELoss(reduction='sum') #you'll need to use the binary close price higher for this\n",
    "criterion = nn.MSELoss()\n",
    "optimizer = optim.Adam(\n",
    "    net.parameters(), lr=learning_rate\n",
    ")\n",
    "\n",
    "for epoch in range(num_epochs):\n",
    "    for seqs, labels in train_dataloader:\n",
    "        seqs = seqs.view(batch_size, torch_X_train.shape[1], num_features)\n",
    "        outputs = net(seqs).squeeze()\n",
    "        loss = criterion(outputs, labels)\n",
    "        optimizer.zero_grad()\n",
    "        loss.backward()\n",
    "        optimizer.step()\n",
    "    print(f\"Epoch {epoch+1}, Loss: {loss.item()}\")\n",
    "    # early break if loss isn't changing beyond the learning rate\n",
    "    if loss.item() < .1:\n",
    "        break"
   ],
   "metadata": {
    "collapsed": false,
    "ExecuteTime": {
     "end_time": "2024-07-21T01:38:47.537356100Z",
     "start_time": "2024-07-21T01:38:46.378908600Z"
    }
   },
   "id": "2790534f5428cde2",
   "execution_count": 23
  },
  {
   "cell_type": "code",
   "outputs": [
    {
     "name": "stdout",
     "output_type": "stream",
     "text": [
      "Test MSE: 75252.6015625\n",
      "Test RMSE: 274.32208251953125\n"
     ]
    }
   ],
   "source": [
    "# Define MSE metric\n",
    "mse = torchmetrics.regression.MeanSquaredError()\n",
    "\n",
    "net.eval()\n",
    "with torch.no_grad():\n",
    "    for seqs, labels in test_dataloader:\n",
    "        seqs = seqs.view(batch_size, torch_X_test.shape[1], num_features)\n",
    "        # Pass seqs to net and squeeze the result\n",
    "        outputs = net(seqs).squeeze()\n",
    "        mse(outputs, labels)\n",
    "\n",
    "# Compute final metric value\n",
    "test_mse = mse.compute()\n",
    "print(f\"Test MSE: {test_mse}\")\n",
    "print(f\"Test RMSE: {test_mse**.5}\")"
   ],
   "metadata": {
    "collapsed": false,
    "ExecuteTime": {
     "end_time": "2024-07-21T01:38:47.544017800Z",
     "start_time": "2024-07-21T01:38:47.532356300Z"
    }
   },
   "id": "ae6937e7eff7177e",
   "execution_count": 24
  },
  {
   "cell_type": "code",
   "outputs": [],
   "source": [
    "## used for binary classifcation\n",
    "# f1 = torchmetrics.F1Score(num_classes=2)\n",
    "# \n",
    "# net.eval()\n",
    "# with torch.no_grad():\n",
    "#     for seqs, labels in test_dataloader:\n",
    "#         seqs = seqs.view(batch_size, num_features, 1)\n",
    "#         outputs = net(seqs).squeeze()\n",
    "#         f1.compute()\n",
    "#         \n",
    "# print(f\"Test F1 score: {f1.compute()}\")\n",
    "\n",
    "# acc = torchmetrics.Accuracy(task=\"binary\")\n",
    "# \n",
    "# net.eval()\n",
    "# with torch.no_grad():\n",
    "#     for seqs, labels in test_dataloader:\n",
    "#         seqs = seqs.view(batch_size, sequence_len, num_features)\n",
    "#         outputs = net(seqs).squeeze()\n",
    "#         acc.compute()\n",
    "# \n",
    "# print(f\"Test accuracy score: {acc.compute()}\")\n"
   ],
   "metadata": {
    "collapsed": false,
    "ExecuteTime": {
     "end_time": "2024-07-21T01:38:47.545600700Z",
     "start_time": "2024-07-21T01:38:47.543506500Z"
    }
   },
   "id": "a9824920abf3b48d",
   "execution_count": 25
  },
  {
   "cell_type": "markdown",
   "source": [
    "# Error when using just the close price:\n",
    "274 RMSE"
   ],
   "metadata": {
    "collapsed": false
   },
   "id": "a8f4ef39c0db66fa"
  },
  {
   "cell_type": "markdown",
   "source": [
    "# Error when using all fields\n",
    "277 RMSE"
   ],
   "metadata": {
    "collapsed": false
   },
   "id": "769469f6c81222bd"
  },
  {
   "cell_type": "code",
   "outputs": [],
   "source": [],
   "metadata": {
    "collapsed": false,
    "ExecuteTime": {
     "end_time": "2024-07-21T01:38:47.556107600Z",
     "start_time": "2024-07-21T01:38:47.545021800Z"
    }
   },
   "id": "8d28dd77fdd0b594",
   "execution_count": 25
  }
 ],
 "metadata": {
  "kernelspec": {
   "display_name": "Python 3",
   "language": "python",
   "name": "python3"
  },
  "language_info": {
   "codemirror_mode": {
    "name": "ipython",
    "version": 2
   },
   "file_extension": ".py",
   "mimetype": "text/x-python",
   "name": "python",
   "nbconvert_exporter": "python",
   "pygments_lexer": "ipython2",
   "version": "2.7.6"
  }
 },
 "nbformat": 4,
 "nbformat_minor": 5
}
