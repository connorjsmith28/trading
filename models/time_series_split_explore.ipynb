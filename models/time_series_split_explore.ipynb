{
 "cells": [
  {
   "cell_type": "code",
   "outputs": [],
   "source": [
    "import pandas as pd\n",
    "import numpy as np\n",
    "from sklearn import pipeline\n",
    "from sklearn.model_selection import TimeSeriesSplit\n",
    "from sklearn.ensemble import RandomForestClassifier"
   ],
   "metadata": {
    "collapsed": false,
    "ExecuteTime": {
     "end_time": "2024-07-01T16:48:49.184966600Z",
     "start_time": "2024-07-01T16:48:46.728643700Z"
    }
   },
   "id": "185c2ed27a2ca4a6",
   "execution_count": 2
  },
  {
   "cell_type": "code",
   "outputs": [],
   "source": [
    "DATA_PATH = r'C:\\Users\\connor\\PycharmProjects\\trading\\data\\analytics\\analytics_voo.csv'\n",
    "df = pd.read_csv(DATA_PATH, low_memory=False)\n",
    "\n",
    "target_column = 'target'\n",
    "non_target_columns = ['open', 'high', 'low', 'close', 'volume', 'CPALTT01USM657N', 'DFF', 'EXPINF10YR', 'GDPC1', 'RSXFS', 'T10YFF', 'UNRATE', 'macd', 'macd_signal', 'macd_hist', 'daily_obv', 'seven_day_ema']\n",
    "\n",
    "# # change this in analytics_voo notebook. \n",
    "# df['T10YFF'] = df['T10YFF'].replace('.', np.NaN)\n",
    "# df['T10YFF'] = df['T10YFF'].astype(float)\n",
    "# df.dropna(inplace=True)"
   ],
   "metadata": {
    "collapsed": false,
    "ExecuteTime": {
     "end_time": "2024-07-01T16:48:55.116995700Z",
     "start_time": "2024-07-01T16:48:49.186966800Z"
    }
   },
   "id": "5d3820d23bf896ac",
   "execution_count": 3
  },
  {
   "cell_type": "code",
   "outputs": [],
   "source": [
    "n_splits = 5\n",
    "tscv  = TimeSeriesSplit(n_splits)\n",
    "\n",
    "scores = []\n",
    "for i, (train_index, test_index) in enumerate(tscv.split(df)): \n",
    "    y_train = df[target_column].iloc[train_index]\n",
    "    X_train = df[non_target_columns].iloc[train_index]\n",
    "    y_test = df[target_column].iloc[test_index]\n",
    "    X_test = df[non_target_columns].iloc[test_index]\n",
    "\n",
    "    rf = RandomForestClassifier()\n",
    "    rf.fit(X_train, y_train)\n",
    "\n",
    "    score = rf.score(X_test, y_test)\n",
    "    scores.append(score)\n",
    "\n",
    "print(scores)\n",
    "\n",
    "\n",
    "    \n",
    "    # print(f\"Fold {i}:\")\n",
    "    # \n",
    "    # print(f\"  Train: index={train_index}\")\n",
    "    # \n",
    "    # print(f\"  Test:  index={test_index}\")"
   ],
   "metadata": {
    "collapsed": false,
    "ExecuteTime": {
     "end_time": "2024-07-01T16:48:55.121951100Z",
     "start_time": "2024-07-01T16:48:55.117995800Z"
    }
   },
   "id": "46d3ecd12e45fb8a",
   "execution_count": 4
  },
  {
   "cell_type": "code",
   "outputs": [],
   "source": [
    "obj = zip(rf.feature_names_in_, rf.feature_importances_)\n",
    "\n",
    "for file in obj:\n",
    "   print(file)"
   ],
   "metadata": {
    "collapsed": false,
    "ExecuteTime": {
     "end_time": "2024-07-01T16:48:55.122952600Z",
     "start_time": "2024-07-01T16:48:55.120441600Z"
    }
   },
   "id": "b251893db64360f0",
   "execution_count": 5
  },
  {
   "cell_type": "code",
   "outputs": [
    {
     "ename": "KeyboardInterrupt",
     "evalue": "",
     "output_type": "error",
     "traceback": [
      "\u001B[1;31m---------------------------------------------------------------------------\u001B[0m",
      "\u001B[1;31mKeyboardInterrupt\u001B[0m                         Traceback (most recent call last)",
      "File \u001B[1;32m~\\AppData\\Local\\Programs\\Python\\Lib\\site-packages\\google\\protobuf\\descriptor_pool.py:1270\u001B[0m, in \u001B[0;36mDefault\u001B[1;34m()\u001B[0m\n\u001B[0;32m   1266\u001B[0m \u001B[38;5;28;01melse\u001B[39;00m:\n\u001B[0;32m   1267\u001B[0m   _DEFAULT \u001B[38;5;241m=\u001B[39m DescriptorPool()\n\u001B[1;32m-> 1270\u001B[0m \u001B[38;5;28;01mdef\u001B[39;00m \u001B[38;5;21mDefault\u001B[39m():\n\u001B[0;32m   1271\u001B[0m   \u001B[38;5;28;01mreturn\u001B[39;00m _DEFAULT\n",
      "\u001B[1;31mKeyboardInterrupt\u001B[0m: "
     ]
    },
    {
     "ename": "NameError",
     "evalue": "name 'X_train' is not defined",
     "output_type": "error",
     "traceback": [
      "\u001B[1;31m---------------------------------------------------------------------------\u001B[0m",
      "\u001B[1;31mNameError\u001B[0m                                 Traceback (most recent call last)",
      "Cell \u001B[1;32mIn[6], line 8\u001B[0m\n\u001B[0;32m      6\u001B[0m model\u001B[38;5;241m.\u001B[39madd(Dense(\u001B[38;5;241m1\u001B[39m))\n\u001B[0;32m      7\u001B[0m model\u001B[38;5;241m.\u001B[39mcompile(loss\u001B[38;5;241m=\u001B[39m\u001B[38;5;124m'\u001B[39m\u001B[38;5;124mmse\u001B[39m\u001B[38;5;124m'\u001B[39m, optimizer\u001B[38;5;241m=\u001B[39m\u001B[38;5;124m'\u001B[39m\u001B[38;5;124madam\u001B[39m\u001B[38;5;124m'\u001B[39m)\n\u001B[1;32m----> 8\u001B[0m history \u001B[38;5;241m=\u001B[39m model\u001B[38;5;241m.\u001B[39mfit(\u001B[43mX_train\u001B[49m, y_train, epochs\u001B[38;5;241m=\u001B[39m\u001B[38;5;241m1\u001B[39m, batch_size\u001B[38;5;241m=\u001B[39m\u001B[38;5;241m10000\u001B[39m, validation_data\u001B[38;5;241m=\u001B[39m(X_test, y_test))\n\u001B[0;32m      9\u001B[0m prediction \u001B[38;5;241m=\u001B[39m model\u001B[38;5;241m.\u001B[39mpredict(X_test)\n",
      "\u001B[1;31mNameError\u001B[0m: name 'X_train' is not defined"
     ]
    }
   ],
   "source": [
    "# from keras.models import Sequential\n",
    "# from keras.layers import LSTM, Dense\n",
    "# \n",
    "# model = Sequential()\n",
    "# model.add(LSTM(units=1))\n",
    "# model.add(Dense(1))\n",
    "# model.compile(loss='mse', optimizer='adam')\n",
    "# history = model.fit(X_train, y_train, epochs=1, batch_size=10000, validation_data=(X_test, y_test))\n",
    "# prediction = model.predict(X_test)"
   ],
   "metadata": {
    "collapsed": false,
    "ExecuteTime": {
     "start_time": "2024-07-01T16:48:55.122952600Z"
    }
   },
   "id": "aaddddb301f0b070",
   "execution_count": 6
  },
  {
   "cell_type": "code",
   "outputs": [],
   "source": [],
   "metadata": {
    "collapsed": false,
    "ExecuteTime": {
     "end_time": "2024-07-01T16:48:58.255349200Z",
     "start_time": "2024-07-01T16:48:58.216838300Z"
    }
   },
   "id": "f217d1e954bf9905",
   "execution_count": null
  }
 ],
 "metadata": {
  "kernelspec": {
   "display_name": "Python 3",
   "language": "python",
   "name": "python3"
  },
  "language_info": {
   "codemirror_mode": {
    "name": "ipython",
    "version": 2
   },
   "file_extension": ".py",
   "mimetype": "text/x-python",
   "name": "python",
   "nbconvert_exporter": "python",
   "pygments_lexer": "ipython2",
   "version": "2.7.6"
  }
 },
 "nbformat": 4,
 "nbformat_minor": 5
}
