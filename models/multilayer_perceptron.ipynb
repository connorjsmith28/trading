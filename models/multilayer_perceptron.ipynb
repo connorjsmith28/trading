{
 "cells": [
  {
   "cell_type": "code",
   "outputs": [],
   "source": [
    "import pandas as pd\n",
    "import math\n",
    "import keras\n",
    "from sklearn.model_selection import TimeSeriesSplit\n",
    "from tensorflow.keras.models import Sequential\n",
    "from tensorflow.keras.layers import Dense"
   ],
   "metadata": {
    "collapsed": false,
    "ExecuteTime": {
     "end_time": "2024-07-11T19:38:17.606896200Z",
     "start_time": "2024-07-11T19:38:17.605888100Z"
    }
   },
   "id": "6ee3d49cbc80d3cc",
   "execution_count": 26
  },
  {
   "cell_type": "code",
   "outputs": [],
   "source": [
    "DATA_PATH = r'C:\\Users\\connor\\PycharmProjects\\trading\\data\\analytics\\analytics_voo.csv'\n",
    "df = pd.read_csv(DATA_PATH, low_memory=False)\n",
    "\n",
    "target_column = 'target'\n",
    "non_target_columns = ['open', 'high', 'low', 'close', 'volume', 'CPALTT01USM657N', 'DFF', 'EXPINF10YR', 'GDPC1', 'RSXFS', 'T10YFF', 'UNRATE', 'macd', 'macd_signal', 'macd_hist', 'daily_obv', 'seven_day_ema']\n",
    "\n",
    "df_cols = df[non_target_columns]"
   ],
   "metadata": {
    "collapsed": false,
    "ExecuteTime": {
     "end_time": "2024-07-11T16:38:28.407307600Z",
     "start_time": "2024-07-11T16:38:23.347461100Z"
    }
   },
   "id": "5ef512fe4e3a02c9",
   "execution_count": 21
  },
  {
   "cell_type": "code",
   "outputs": [
    {
     "name": "stdout",
     "output_type": "stream",
     "text": [
      "Epoch 1/10\n",
      "118834/118834 - 31s - 260us/step - loss: 174061568.0000\n",
      "Epoch 2/10\n",
      "118834/118834 - 30s - 255us/step - loss: 0.2459\n",
      "Epoch 3/10\n",
      "118834/118834 - 31s - 260us/step - loss: 0.2459\n",
      "Epoch 4/10\n",
      "118834/118834 - 31s - 259us/step - loss: 0.2459\n",
      "Epoch 5/10\n",
      "118834/118834 - 31s - 257us/step - loss: 0.2459\n",
      "Epoch 6/10\n",
      "118834/118834 - 30s - 253us/step - loss: 0.2459\n",
      "Epoch 7/10\n",
      "118834/118834 - 31s - 257us/step - loss: 0.2459\n",
      "Epoch 8/10\n",
      "118834/118834 - 31s - 258us/step - loss: 0.2459\n",
      "Epoch 9/10\n",
      "118834/118834 - 31s - 259us/step - loss: 0.2459\n",
      "Epoch 10/10\n",
      "118834/118834 - 33s - 281us/step - loss: 0.2459\n",
      "Train Score: 0.25 MSE (0.50 RMSE)\n",
      "Test Score: 8897690.00 MSE (2982.90 RMSE)\n",
      "Epoch 1/10\n",
      "237665/237665 - 72s - 303us/step - loss: 34637972.0000\n",
      "Epoch 2/10\n",
      "237665/237665 - 64s - 268us/step - loss: 17.6155\n",
      "Epoch 3/10\n",
      "237665/237665 - 61s - 257us/step - loss: 0.2478\n",
      "Epoch 4/10\n",
      "237665/237665 - 61s - 255us/step - loss: 0.2478\n",
      "Epoch 5/10\n",
      "237665/237665 - 61s - 256us/step - loss: 0.2478\n",
      "Epoch 6/10\n",
      "237665/237665 - 61s - 255us/step - loss: 0.2478\n",
      "Epoch 7/10\n",
      "237665/237665 - 61s - 255us/step - loss: 0.2478\n",
      "Epoch 8/10\n",
      "237665/237665 - 60s - 253us/step - loss: 0.2478\n",
      "Epoch 9/10\n",
      "237665/237665 - 62s - 260us/step - loss: 0.2478\n",
      "Epoch 10/10\n",
      "237665/237665 - 64s - 271us/step - loss: 0.2478\n",
      "Train Score: 0.25 MSE (0.50 RMSE)\n",
      "Test Score: 0.25 MSE (0.50 RMSE)\n",
      "Epoch 1/10\n",
      "356496/356496 - 92s - 258us/step - loss: 1960814976.0000\n",
      "Epoch 2/10\n",
      "356496/356496 - 91s - 255us/step - loss: 0.2482\n",
      "Epoch 3/10\n",
      "356496/356496 - 92s - 257us/step - loss: 0.2482\n",
      "Epoch 4/10\n",
      "356496/356496 - 91s - 255us/step - loss: 0.2482\n",
      "Epoch 5/10\n",
      "356496/356496 - 91s - 256us/step - loss: 0.2482\n",
      "Epoch 6/10\n",
      "356496/356496 - 91s - 256us/step - loss: 0.2482\n",
      "Epoch 7/10\n",
      "356496/356496 - 91s - 255us/step - loss: 0.2482\n",
      "Epoch 8/10\n",
      "356496/356496 - 91s - 257us/step - loss: 0.2482\n",
      "Epoch 9/10\n",
      "356496/356496 - 91s - 256us/step - loss: 0.2482\n",
      "Epoch 10/10\n",
      "356496/356496 - 92s - 259us/step - loss: 0.2482\n",
      "Train Score: 0.25 MSE (0.50 RMSE)\n",
      "Test Score: 120478536.00 MSE (10976.27 RMSE)\n",
      "Epoch 1/10\n",
      "475327/475327 - 122s - 256us/step - loss: 757975104.0000\n",
      "Epoch 2/10\n",
      "475327/475327 - 121s - 254us/step - loss: 0.2486\n",
      "Epoch 3/10\n",
      "475327/475327 - 121s - 254us/step - loss: 0.2486\n",
      "Epoch 4/10\n",
      "594158/594158 - 167s - 282us/step - loss: 0.2489\n",
      "Epoch 4/10\n",
      "594158/594158 - 177s - 297us/step - loss: 0.2489\n",
      "Epoch 5/10\n",
      "594158/594158 - 176s - 296us/step - loss: 0.2489\n",
      "Epoch 6/10\n",
      "594158/594158 - 176s - 296us/step - loss: 0.2489\n",
      "Epoch 7/10\n",
      "594158/594158 - 176s - 296us/step - loss: 0.2489\n",
      "Epoch 8/10\n",
      "594158/594158 - 175s - 294us/step - loss: 0.2489\n",
      "Epoch 9/10\n",
      "594158/594158 - 174s - 293us/step - loss: 0.2489\n",
      "Epoch 10/10\n",
      "594158/594158 - 175s - 295us/step - loss: 0.2489\n",
      "Train Score: 0.25 MSE (0.50 RMSE)\n",
      "Test Score: 0.25 MSE (0.50 RMSE)\n"
     ]
    }
   ],
   "source": [
    "n_splits = 5\n",
    "tscv  = TimeSeriesSplit(n_splits)\n",
    "\n",
    "scores = []\n",
    "for i, (train_index, test_index) in enumerate(tscv.split(df)): \n",
    "    y_train = df[target_column].iloc[train_index]\n",
    "    X_train = df[non_target_columns].iloc[train_index]\n",
    "    y_test = df[target_column].iloc[test_index]\n",
    "    X_test = df[non_target_columns].iloc[test_index]\n",
    "    \n",
    "    # create and fit Multilayer Perceptron model\n",
    "    model = Sequential()\n",
    "    model.add(Dense(2, activation='relu'))\n",
    "    model.add(Dense(1))\n",
    "    model.compile(loss='mean_squared_error', optimizer='adam')\n",
    "    model.fit(X_train, y_train, epochs=10, batch_size=2, verbose=2)\n",
    "    \n",
    "    # Estimate model performance\n",
    "    trainScore = model.evaluate(X_train, y_train, verbose=0)\n",
    "    print('Train Score: %.2f MSE (%.2f RMSE)' % (trainScore, math.sqrt(trainScore)))\n",
    "    testScore = model.evaluate(X_test, y_test, verbose=0)\n",
    "    print('Test Score: %.2f MSE (%.2f RMSE)' % (testScore, math.sqrt(testScore)))\n",
    "    scores.append(['Split number', i, 'Train Accuracy', math.sqrt(trainScore), 'Test Accuracy', math.sqrt(testScore)])"
   ],
   "metadata": {
    "collapsed": false,
    "is_executing": true,
    "ExecuteTime": {
     "start_time": "2024-07-11T16:38:28.408310Z"
    }
   },
   "id": "b3a950e7fa8b9b26",
   "execution_count": null
  },
  {
   "cell_type": "code",
   "outputs": [
    {
     "name": "stdout",
     "output_type": "stream",
     "text": [
      "[['Split number', 0, 'Train Accuracy', 0.4957057907718196, 'Test Accuracy', 2982.899596030681], ['Split number', 1, 'Train Accuracy', 0.4976175589619592, 'Test Accuracy', 0.4994695352919164], ['Split number', 2, 'Train Accuracy', 0.4982446763930893, 'Test Accuracy', 10976.27149809989], ['Split number', 3, 'Train Accuracy', 0.49882209134915, 'Test Accuracy', 0.5000338244918138], ['Split number', 4, 'Train Accuracy', 0.4990882906045207, 'Test Accuracy', 0.4989103125583914]]\n"
     ]
    }
   ],
   "source": [
    "print(scores)"
   ],
   "metadata": {
    "collapsed": false,
    "ExecuteTime": {
     "end_time": "2024-07-11T18:23:50.199010800Z",
     "start_time": "2024-07-11T18:23:50.195987500Z"
    }
   },
   "id": "99bd1379c68dc21",
   "execution_count": 23
  },
  {
   "cell_type": "code",
   "outputs": [],
   "source": [
    "model.save(r'C:\\Users\\connor\\PycharmProjects\\trading\\models\\trained.keras')"
   ],
   "metadata": {
    "collapsed": false,
    "ExecuteTime": {
     "end_time": "2024-07-11T19:37:54.738392600Z",
     "start_time": "2024-07-11T19:37:54.700850300Z"
    }
   },
   "id": "53d8b43652655f1e",
   "execution_count": 25
  },
  {
   "cell_type": "code",
   "outputs": [],
   "source": [
    "model = keras.models.load_model(r'C:\\Users\\connor\\PycharmProjects\\trading\\models\\trained.keras')\n"
   ],
   "metadata": {
    "collapsed": false,
    "ExecuteTime": {
     "end_time": "2024-07-11T19:38:29.156522300Z",
     "start_time": "2024-07-11T19:38:29.125695200Z"
    }
   },
   "id": "a45dc48bb11cc166",
   "execution_count": 27
  },
  {
   "cell_type": "code",
   "outputs": [],
   "source": [],
   "metadata": {
    "collapsed": false
   },
   "id": "95e567fd841d4ed8"
  }
 ],
 "metadata": {
  "kernelspec": {
   "display_name": "Python 3",
   "language": "python",
   "name": "python3"
  },
  "language_info": {
   "codemirror_mode": {
    "name": "ipython",
    "version": 2
   },
   "file_extension": ".py",
   "mimetype": "text/x-python",
   "name": "python",
   "nbconvert_exporter": "python",
   "pygments_lexer": "ipython2",
   "version": "2.7.6"
  }
 },
 "nbformat": 4,
 "nbformat_minor": 5
}
