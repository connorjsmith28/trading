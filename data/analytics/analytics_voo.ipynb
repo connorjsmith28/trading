{
 "cells": [
  {
   "cell_type": "markdown",
   "source": [
    "# Combine all data sets into one"
   ],
   "metadata": {
    "collapsed": false
   },
   "id": "c2bad69b1b8c628a"
  },
  {
   "cell_type": "code",
   "outputs": [],
   "source": [
    "import pandas as pd\n",
    "import numpy as np\n",
    "import os"
   ],
   "metadata": {
    "collapsed": false,
    "ExecuteTime": {
     "end_time": "2024-07-01T17:04:29.256645900Z",
     "start_time": "2024-07-01T17:04:29.252165800Z"
    }
   },
   "id": "38be8207c5c004da",
   "execution_count": 21
  },
  {
   "cell_type": "code",
   "outputs": [],
   "source": [
    "DATA_PATH = r'C:\\Users\\connor\\PycharmProjects\\trading\\data\\base'\n",
    "ANALYTICS_PATH = r'C:\\Users\\connor\\PycharmProjects\\trading\\data\\analytics'\n",
    "\n",
    "TABLE_PATHS_AND_GRAINS = [[r'\\ema\\voo_ema.csv', 'daily'], [r'\\fred_data\\CPALTT01USM657N.csv', 'monthly'], [r'\\fred_data\\DFF.csv', 'daily'], [r'\\fred_data\\EXPINF10YR.csv', 'monthly'], [r'\\fred_data\\GDPC1.csv', 'quarterly'], [r'\\fred_data\\RSXFS.csv', 'monthly'], [r'\\fred_data\\T10YFF.csv', 'daily'], [r'\\fred_data\\UNRATE.csv', 'monthly'], [r'\\macdext\\voo_macdext.csv', 'daily'], [r'\\obv\\voo_obv.csv', 'daily'], [r'\\voo_intraday\\full_voo.csv', 'minute']]\n",
    "\n",
    "# T10YFF has . instead of nulls. Annoying\n",
    "df_dict = {}\n",
    "\n",
    "for table, grain in TABLE_PATHS_AND_GRAINS:\n",
    "    # create file paths for each table\n",
    "    table = table\n",
    "    file_path = DATA_PATH + table\n",
    "    table_name = table.rsplit('\\\\', 1)[1]\n",
    "    \n",
    "    # store dfs in dictionary\n",
    "    df_dict[table_name] = [pd.read_csv(file_path), grain]"
   ],
   "metadata": {
    "collapsed": true,
    "ExecuteTime": {
     "end_time": "2024-07-01T17:04:30.045968300Z",
     "start_time": "2024-07-01T17:04:29.255644100Z"
    }
   },
   "id": "initial_id",
   "execution_count": 22
  },
  {
   "cell_type": "code",
   "outputs": [],
   "source": [
    "# load calendar\n",
    "STAGE_CALENDAR_PATH = r'C:\\Users\\connor\\PycharmProjects\\trading\\data\\stage\\stage_calendar\\stage_calendar.csv'\n",
    "df_calendar = pd.read_csv(STAGE_CALENDAR_PATH)\n",
    "\n",
    "# have to cast join key. Later, go back and \n",
    "df_calendar.DateShortDescription = df_calendar.DateShortDescription.astype('datetime64[ns]')"
   ],
   "metadata": {
    "collapsed": false,
    "ExecuteTime": {
     "end_time": "2024-07-01T17:04:30.368289400Z",
     "start_time": "2024-07-01T17:04:30.045968300Z"
    }
   },
   "id": "d6f8d7e94233e225",
   "execution_count": 23
  },
  {
   "cell_type": "code",
   "outputs": [
    {
     "name": "stdout",
     "output_type": "stream",
     "text": [
      "<class 'pandas.core.frame.DataFrame'>\n",
      "RangeIndex: 1428573 entries, 0 to 1428572\n",
      "Data columns (total 37 columns):\n",
      " #   Column                         Non-Null Count    Dtype         \n",
      "---  ------                         --------------    -----         \n",
      " 0   date                           1428573 non-null  datetime64[ns]\n",
      " 1   open                           1428573 non-null  float64       \n",
      " 2   high                           1428573 non-null  float64       \n",
      " 3   low                            1428573 non-null  float64       \n",
      " 4   close                          1428573 non-null  float64       \n",
      " 5   volume                         1428573 non-null  int32         \n",
      " 6   join_date                      1428573 non-null  datetime64[ns]\n",
      " 7   Id                             1428573 non-null  int64         \n",
      " 8   Date                           1428573 non-null  object        \n",
      " 9   DateLongDescription            1428573 non-null  object        \n",
      " 10  DateShortDescription           1428573 non-null  datetime64[ns]\n",
      " 11  DayLongName                    1428573 non-null  object        \n",
      " 12  DayShortName                   1428573 non-null  object        \n",
      " 13  MonthLongName                  1428573 non-null  object        \n",
      " 14  MonthShortName                 1428573 non-null  object        \n",
      " 15  CalendarDay                    1428573 non-null  int64         \n",
      " 16  CalendarWeek                   1428573 non-null  int64         \n",
      " 17  CalendarWeekStartDateId        1428573 non-null  object        \n",
      " 18  CalendarWeekEndDateId          1428573 non-null  object        \n",
      " 19  CalendarDayInWeek              1428573 non-null  int64         \n",
      " 20  CalendarMonth                  1428573 non-null  int64         \n",
      " 21  CalendarMonthStartDateId       1428573 non-null  int64         \n",
      " 22  CalendarMonthEndDateId         1428573 non-null  int64         \n",
      " 23  CalendarNumberOfDaysInMonth    1428573 non-null  int64         \n",
      " 24  CalendarDayInMonth             1428573 non-null  int64         \n",
      " 25  CalendarQuarter                1428573 non-null  int64         \n",
      " 26  CalendarQuarterStartDateId     1428573 non-null  int64         \n",
      " 27  CalendarQuarterEndDateId       1428573 non-null  int64         \n",
      " 28  CalendarQuarterStartDate       1428573 non-null  object        \n",
      " 29  CalendarNumberOfDaysInQuarter  1428573 non-null  int64         \n",
      " 30  CalendarDayInQuarter           1428573 non-null  int64         \n",
      " 31  CalendarYear                   1428573 non-null  int64         \n",
      " 32  CalendarYearEndDateId          1428573 non-null  int64         \n",
      " 33  CalendarYearStartDate          1428573 non-null  object        \n",
      " 34  CalendarNumberOfDaysInYear     1428573 non-null  int64         \n",
      " 35  month_join_key                 1428573 non-null  object        \n",
      " 36  year_join_key                  1428573 non-null  object        \n",
      "dtypes: datetime64[ns](3), float64(4), int32(1), int64(17), object(12)\n",
      "memory usage: 397.8+ MB\n"
     ]
    },
    {
     "data": {
      "text/plain": "                 date    open    high     low   close  volume  join_date  \\\n0 2010-09-09 09:30:00  79.250  79.351  78.323  78.506    2600 2010-09-09   \n1 2010-09-09 09:31:00  78.399  78.499  78.292  78.429     100 2010-09-09   \n2 2010-09-09 09:33:00  79.080  79.181  78.971  79.109     200 2010-09-09   \n3 2010-09-09 09:36:00  79.064  79.165  78.956  79.094     100 2010-09-09   \n4 2010-09-09 09:44:00  78.569  78.716  78.462  78.645     750 2010-09-09   \n\n       Id      Date          DateLongDescription  ...  \\\n0  100809  9/9/2010  Thursday, September 9, 2010  ...   \n1  100809  9/9/2010  Thursday, September 9, 2010  ...   \n2  100809  9/9/2010  Thursday, September 9, 2010  ...   \n3  100809  9/9/2010  Thursday, September 9, 2010  ...   \n4  100809  9/9/2010  Thursday, September 9, 2010  ...   \n\n  CalendarQuarterEndDateId CalendarQuarterStartDate  \\\n0                   100830               2010-07-01   \n1                   100830               2010-07-01   \n2                   100830               2010-07-01   \n3                   100830               2010-07-01   \n4                   100830               2010-07-01   \n\n  CalendarNumberOfDaysInQuarter CalendarDayInQuarter CalendarYear  \\\n0                            92                   71         2010   \n1                            92                   71         2010   \n2                            92                   71         2010   \n3                            92                   71         2010   \n4                            92                   71         2010   \n\n   CalendarYearEndDateId  CalendarYearStartDate CalendarNumberOfDaysInYear  \\\n0                 101131               1/1/2010                        365   \n1                 101131               1/1/2010                        365   \n2                 101131               1/1/2010                        365   \n3                 101131               1/1/2010                        365   \n4                 101131               1/1/2010                        365   \n\n  month_join_key  year_join_key  \n0     2010-09-01     2010-01-01  \n1     2010-09-01     2010-01-01  \n2     2010-09-01     2010-01-01  \n3     2010-09-01     2010-01-01  \n4     2010-09-01     2010-01-01  \n\n[5 rows x 37 columns]",
      "text/html": "<div>\n<style scoped>\n    .dataframe tbody tr th:only-of-type {\n        vertical-align: middle;\n    }\n\n    .dataframe tbody tr th {\n        vertical-align: top;\n    }\n\n    .dataframe thead th {\n        text-align: right;\n    }\n</style>\n<table border=\"1\" class=\"dataframe\">\n  <thead>\n    <tr style=\"text-align: right;\">\n      <th></th>\n      <th>date</th>\n      <th>open</th>\n      <th>high</th>\n      <th>low</th>\n      <th>close</th>\n      <th>volume</th>\n      <th>join_date</th>\n      <th>Id</th>\n      <th>Date</th>\n      <th>DateLongDescription</th>\n      <th>...</th>\n      <th>CalendarQuarterEndDateId</th>\n      <th>CalendarQuarterStartDate</th>\n      <th>CalendarNumberOfDaysInQuarter</th>\n      <th>CalendarDayInQuarter</th>\n      <th>CalendarYear</th>\n      <th>CalendarYearEndDateId</th>\n      <th>CalendarYearStartDate</th>\n      <th>CalendarNumberOfDaysInYear</th>\n      <th>month_join_key</th>\n      <th>year_join_key</th>\n    </tr>\n  </thead>\n  <tbody>\n    <tr>\n      <th>0</th>\n      <td>2010-09-09 09:30:00</td>\n      <td>79.250</td>\n      <td>79.351</td>\n      <td>78.323</td>\n      <td>78.506</td>\n      <td>2600</td>\n      <td>2010-09-09</td>\n      <td>100809</td>\n      <td>9/9/2010</td>\n      <td>Thursday, September 9, 2010</td>\n      <td>...</td>\n      <td>100830</td>\n      <td>2010-07-01</td>\n      <td>92</td>\n      <td>71</td>\n      <td>2010</td>\n      <td>101131</td>\n      <td>1/1/2010</td>\n      <td>365</td>\n      <td>2010-09-01</td>\n      <td>2010-01-01</td>\n    </tr>\n    <tr>\n      <th>1</th>\n      <td>2010-09-09 09:31:00</td>\n      <td>78.399</td>\n      <td>78.499</td>\n      <td>78.292</td>\n      <td>78.429</td>\n      <td>100</td>\n      <td>2010-09-09</td>\n      <td>100809</td>\n      <td>9/9/2010</td>\n      <td>Thursday, September 9, 2010</td>\n      <td>...</td>\n      <td>100830</td>\n      <td>2010-07-01</td>\n      <td>92</td>\n      <td>71</td>\n      <td>2010</td>\n      <td>101131</td>\n      <td>1/1/2010</td>\n      <td>365</td>\n      <td>2010-09-01</td>\n      <td>2010-01-01</td>\n    </tr>\n    <tr>\n      <th>2</th>\n      <td>2010-09-09 09:33:00</td>\n      <td>79.080</td>\n      <td>79.181</td>\n      <td>78.971</td>\n      <td>79.109</td>\n      <td>200</td>\n      <td>2010-09-09</td>\n      <td>100809</td>\n      <td>9/9/2010</td>\n      <td>Thursday, September 9, 2010</td>\n      <td>...</td>\n      <td>100830</td>\n      <td>2010-07-01</td>\n      <td>92</td>\n      <td>71</td>\n      <td>2010</td>\n      <td>101131</td>\n      <td>1/1/2010</td>\n      <td>365</td>\n      <td>2010-09-01</td>\n      <td>2010-01-01</td>\n    </tr>\n    <tr>\n      <th>3</th>\n      <td>2010-09-09 09:36:00</td>\n      <td>79.064</td>\n      <td>79.165</td>\n      <td>78.956</td>\n      <td>79.094</td>\n      <td>100</td>\n      <td>2010-09-09</td>\n      <td>100809</td>\n      <td>9/9/2010</td>\n      <td>Thursday, September 9, 2010</td>\n      <td>...</td>\n      <td>100830</td>\n      <td>2010-07-01</td>\n      <td>92</td>\n      <td>71</td>\n      <td>2010</td>\n      <td>101131</td>\n      <td>1/1/2010</td>\n      <td>365</td>\n      <td>2010-09-01</td>\n      <td>2010-01-01</td>\n    </tr>\n    <tr>\n      <th>4</th>\n      <td>2010-09-09 09:44:00</td>\n      <td>78.569</td>\n      <td>78.716</td>\n      <td>78.462</td>\n      <td>78.645</td>\n      <td>750</td>\n      <td>2010-09-09</td>\n      <td>100809</td>\n      <td>9/9/2010</td>\n      <td>Thursday, September 9, 2010</td>\n      <td>...</td>\n      <td>100830</td>\n      <td>2010-07-01</td>\n      <td>92</td>\n      <td>71</td>\n      <td>2010</td>\n      <td>101131</td>\n      <td>1/1/2010</td>\n      <td>365</td>\n      <td>2010-09-01</td>\n      <td>2010-01-01</td>\n    </tr>\n  </tbody>\n</table>\n<p>5 rows × 37 columns</p>\n</div>"
     },
     "execution_count": 24,
     "metadata": {},
     "output_type": "execute_result"
    }
   ],
   "source": [
    "# join calendar to voo daily\n",
    "\n",
    "# cast date as datetime\n",
    "df_dict['full_voo.csv'][0] = df_dict['full_voo.csv'][0].astype({'date': 'datetime64[ns]', 'open': float, 'high': float, 'low': float, 'close': float, 'volume': int})\n",
    "\n",
    "# Add column to VOO that is a date_trunc with no timestamp to allow other datasets to join to it\n",
    "df_dict['full_voo.csv'][0]['join_date'] = df_dict['full_voo.csv'][0]['date'].dt.date\n",
    "\n",
    "# recast (again) to make join_date a datetime object\n",
    "df_dict['full_voo.csv'][0] = df_dict['full_voo.csv'][0].astype({'date': 'datetime64[ns]', 'open': float, 'high': float, 'low': float, 'close': float, 'volume': int, 'join_date': 'datetime64[ns]'})\n",
    "\n",
    "df_final = df_dict['full_voo.csv'][0].copy()\n",
    "\n",
    "# join calendar to voo\n",
    "df_final = pd.merge(left=df_final, right=df_calendar, how='left', left_on='join_date', right_on='DateShortDescription')\n",
    "\n",
    "# confirm join was successful and there are no nulls\n",
    "df_final.info()\n",
    "df_final.head()"
   ],
   "metadata": {
    "collapsed": false,
    "ExecuteTime": {
     "end_time": "2024-07-01T17:04:31.841898700Z",
     "start_time": "2024-07-01T17:04:30.369793900Z"
    }
   },
   "id": "dc1dcfcfddaf9b7b",
   "execution_count": 24
  },
  {
   "cell_type": "code",
   "outputs": [],
   "source": [
    "for table_name, df_current in df_dict.items():\n",
    "    if table_name[0] != 'full_voo.csv':\n",
    "        grain = df_current[1]\n",
    "        df_temp = df_current[0]\n",
    "        \n",
    "        # have to have dtype be the same for the join to work. Having the same names isn't enough\n",
    "        df_final['join_date'] = df_final.join_date.astype(str)\n",
    "        df_temp['date'] = df_temp.date.astype(str)\n",
    "\n",
    "        if grain == 'daily':\n",
    "            df_final = pd.merge(left=df_final, right=df_temp.rename(columns={'date': 'join_date'}), on='join_date', how='left')\n",
    "            \n",
    "        if grain == 'monthly':\n",
    "            df_final = pd.merge(left=df_final, right=df_temp.rename(columns={'date': 'month_join_key'}), on='month_join_key', how='left')\n",
    "            \n",
    "        if grain == 'quarterly':\n",
    "            df_final = pd.merge(left=df_final, right=df_temp.rename(columns={'date': 'CalendarQuarterStartDate'}), on='CalendarQuarterStartDate', how='left')\n",
    "            \n",
    "        if grain == 'annually':\n",
    "            df_final = pd.merge(left=df_final, right=df_temp.rename(columns={'date': 'year_join_key'}), on='year_join_key', how='left')"
   ],
   "metadata": {
    "collapsed": false,
    "ExecuteTime": {
     "end_time": "2024-07-01T17:04:37.103459700Z",
     "start_time": "2024-07-01T17:04:31.838894400Z"
    }
   },
   "id": "d0a574174af8de2",
   "execution_count": 25
  },
  {
   "cell_type": "code",
   "outputs": [],
   "source": [
    "# want to predict whether target was positive or negative. Change target to be a True False value from a float\n",
    "df_final['target'] = df_final['close'].shift(periods=-1)\n",
    "df_final.dropna(inplace=True)\n",
    "\n",
    "def target_to_binary(df):\n",
    "    if df['target'] > df['close']:\n",
    "        return 1\n",
    "    else:\n",
    "        return 0\n",
    "\n",
    "df_final['target'] = df_final.apply(target_to_binary, axis=1)"
   ],
   "metadata": {
    "collapsed": false,
    "ExecuteTime": {
     "end_time": "2024-07-01T17:04:43.763219700Z",
     "start_time": "2024-07-01T17:04:37.103459700Z"
    }
   },
   "id": "eb9d36a6c3de467a",
   "execution_count": 26
  },
  {
   "cell_type": "code",
   "outputs": [
    {
     "name": "stderr",
     "output_type": "stream",
     "text": [
      "C:\\Users\\connor\\AppData\\Local\\Temp\\ipykernel_868\\2405079809.py:3: FutureWarning: Series.fillna with 'method' is deprecated and will raise in a future version. Use obj.ffill() or obj.bfill() instead.\n",
      "  df_final['T10YFF'] = df_final['T10YFF'].fillna(method='ffill')\n"
     ]
    }
   ],
   "source": [
    "# T10YFF has . instead of null. \n",
    "df_final['T10YFF'] = df_final['T10YFF'].replace('.', np.NaN)\n",
    "df_final['T10YFF'] = df_final['T10YFF'].fillna(method='ffill')\n",
    "df_final['T10YFF'] = df_final['T10YFF'].astype(float)"
   ],
   "metadata": {
    "collapsed": false,
    "ExecuteTime": {
     "end_time": "2024-07-01T17:04:43.989717800Z",
     "start_time": "2024-07-01T17:04:43.764217200Z"
    }
   },
   "id": "4178b033ed9e8738",
   "execution_count": 27
  },
  {
   "cell_type": "code",
   "outputs": [
    {
     "data": {
      "text/plain": "                    date    open    high     low   close  volume   join_date  \\\n2595 2010-10-26 09:28:00  83.935  84.042  83.820  83.967     232  2010-10-26   \n2596 2010-10-26 09:30:00  83.888  83.995  83.743  83.889     150  2010-10-26   \n2597 2010-10-26 09:39:00  83.888  83.995  83.774  83.920    1600  2010-10-26   \n2598 2010-10-26 09:41:00  83.904  84.011  83.776  83.923     100  2010-10-26   \n2599 2010-10-26 09:51:00  83.966  84.073  83.851  83.998     698  2010-10-26   \n\n          Id        Date        DateLongDescription  ... EXPINF10YR  \\\n2595  100926  10/26/2010  Tuesday, October 26, 2010  ...   1.574237   \n2596  100926  10/26/2010  Tuesday, October 26, 2010  ...   1.574237   \n2597  100926  10/26/2010  Tuesday, October 26, 2010  ...   1.574237   \n2598  100926  10/26/2010  Tuesday, October 26, 2010  ...   1.574237   \n2599  100926  10/26/2010  Tuesday, October 26, 2010  ...   1.574237   \n\n          GDPC1     RSXFS T10YFF UNRATE    macd  macd_signal macd_hist  \\\n2595  16960.864  323990.0   2.48    9.4  1.1427       1.1947   -0.0521   \n2596  16960.864  323990.0   2.48    9.4  1.1427       1.1947   -0.0521   \n2597  16960.864  323990.0   2.48    9.4  1.1427       1.1947   -0.0521   \n2598  16960.864  323990.0   2.48    9.4  1.1427       1.1947   -0.0521   \n2599  16960.864  323990.0   2.48    9.4  1.1427       1.1947   -0.0521   \n\n     daily_obv  target  \n2595 -148100.0       0  \n2596 -148100.0       1  \n2597 -148100.0       1  \n2598 -148100.0       1  \n2599 -148100.0       1  \n\n[5 rows x 50 columns]",
      "text/html": "<div>\n<style scoped>\n    .dataframe tbody tr th:only-of-type {\n        vertical-align: middle;\n    }\n\n    .dataframe tbody tr th {\n        vertical-align: top;\n    }\n\n    .dataframe thead th {\n        text-align: right;\n    }\n</style>\n<table border=\"1\" class=\"dataframe\">\n  <thead>\n    <tr style=\"text-align: right;\">\n      <th></th>\n      <th>date</th>\n      <th>open</th>\n      <th>high</th>\n      <th>low</th>\n      <th>close</th>\n      <th>volume</th>\n      <th>join_date</th>\n      <th>Id</th>\n      <th>Date</th>\n      <th>DateLongDescription</th>\n      <th>...</th>\n      <th>EXPINF10YR</th>\n      <th>GDPC1</th>\n      <th>RSXFS</th>\n      <th>T10YFF</th>\n      <th>UNRATE</th>\n      <th>macd</th>\n      <th>macd_signal</th>\n      <th>macd_hist</th>\n      <th>daily_obv</th>\n      <th>target</th>\n    </tr>\n  </thead>\n  <tbody>\n    <tr>\n      <th>2595</th>\n      <td>2010-10-26 09:28:00</td>\n      <td>83.935</td>\n      <td>84.042</td>\n      <td>83.820</td>\n      <td>83.967</td>\n      <td>232</td>\n      <td>2010-10-26</td>\n      <td>100926</td>\n      <td>10/26/2010</td>\n      <td>Tuesday, October 26, 2010</td>\n      <td>...</td>\n      <td>1.574237</td>\n      <td>16960.864</td>\n      <td>323990.0</td>\n      <td>2.48</td>\n      <td>9.4</td>\n      <td>1.1427</td>\n      <td>1.1947</td>\n      <td>-0.0521</td>\n      <td>-148100.0</td>\n      <td>0</td>\n    </tr>\n    <tr>\n      <th>2596</th>\n      <td>2010-10-26 09:30:00</td>\n      <td>83.888</td>\n      <td>83.995</td>\n      <td>83.743</td>\n      <td>83.889</td>\n      <td>150</td>\n      <td>2010-10-26</td>\n      <td>100926</td>\n      <td>10/26/2010</td>\n      <td>Tuesday, October 26, 2010</td>\n      <td>...</td>\n      <td>1.574237</td>\n      <td>16960.864</td>\n      <td>323990.0</td>\n      <td>2.48</td>\n      <td>9.4</td>\n      <td>1.1427</td>\n      <td>1.1947</td>\n      <td>-0.0521</td>\n      <td>-148100.0</td>\n      <td>1</td>\n    </tr>\n    <tr>\n      <th>2597</th>\n      <td>2010-10-26 09:39:00</td>\n      <td>83.888</td>\n      <td>83.995</td>\n      <td>83.774</td>\n      <td>83.920</td>\n      <td>1600</td>\n      <td>2010-10-26</td>\n      <td>100926</td>\n      <td>10/26/2010</td>\n      <td>Tuesday, October 26, 2010</td>\n      <td>...</td>\n      <td>1.574237</td>\n      <td>16960.864</td>\n      <td>323990.0</td>\n      <td>2.48</td>\n      <td>9.4</td>\n      <td>1.1427</td>\n      <td>1.1947</td>\n      <td>-0.0521</td>\n      <td>-148100.0</td>\n      <td>1</td>\n    </tr>\n    <tr>\n      <th>2598</th>\n      <td>2010-10-26 09:41:00</td>\n      <td>83.904</td>\n      <td>84.011</td>\n      <td>83.776</td>\n      <td>83.923</td>\n      <td>100</td>\n      <td>2010-10-26</td>\n      <td>100926</td>\n      <td>10/26/2010</td>\n      <td>Tuesday, October 26, 2010</td>\n      <td>...</td>\n      <td>1.574237</td>\n      <td>16960.864</td>\n      <td>323990.0</td>\n      <td>2.48</td>\n      <td>9.4</td>\n      <td>1.1427</td>\n      <td>1.1947</td>\n      <td>-0.0521</td>\n      <td>-148100.0</td>\n      <td>1</td>\n    </tr>\n    <tr>\n      <th>2599</th>\n      <td>2010-10-26 09:51:00</td>\n      <td>83.966</td>\n      <td>84.073</td>\n      <td>83.851</td>\n      <td>83.998</td>\n      <td>698</td>\n      <td>2010-10-26</td>\n      <td>100926</td>\n      <td>10/26/2010</td>\n      <td>Tuesday, October 26, 2010</td>\n      <td>...</td>\n      <td>1.574237</td>\n      <td>16960.864</td>\n      <td>323990.0</td>\n      <td>2.48</td>\n      <td>9.4</td>\n      <td>1.1427</td>\n      <td>1.1947</td>\n      <td>-0.0521</td>\n      <td>-148100.0</td>\n      <td>1</td>\n    </tr>\n  </tbody>\n</table>\n<p>5 rows × 50 columns</p>\n</div>"
     },
     "execution_count": 28,
     "metadata": {},
     "output_type": "execute_result"
    }
   ],
   "source": [
    "df_final.head()"
   ],
   "metadata": {
    "collapsed": false,
    "ExecuteTime": {
     "end_time": "2024-07-01T17:04:43.997915100Z",
     "start_time": "2024-07-01T17:04:43.987717400Z"
    }
   },
   "id": "827e741e15015c72",
   "execution_count": 28
  },
  {
   "cell_type": "code",
   "outputs": [
    {
     "name": "stdout",
     "output_type": "stream",
     "text": [
      "<class 'pandas.core.frame.DataFrame'>\n",
      "Index: 1425977 entries, 2595 to 1428571\n",
      "Data columns (total 50 columns):\n",
      " #   Column                         Non-Null Count    Dtype         \n",
      "---  ------                         --------------    -----         \n",
      " 0   date                           1425977 non-null  datetime64[ns]\n",
      " 1   open                           1425977 non-null  float64       \n",
      " 2   high                           1425977 non-null  float64       \n",
      " 3   low                            1425977 non-null  float64       \n",
      " 4   close                          1425977 non-null  float64       \n",
      " 5   volume                         1425977 non-null  int32         \n",
      " 6   join_date                      1425977 non-null  object        \n",
      " 7   Id                             1425977 non-null  int64         \n",
      " 8   Date                           1425977 non-null  object        \n",
      " 9   DateLongDescription            1425977 non-null  object        \n",
      " 10  DateShortDescription           1425977 non-null  datetime64[ns]\n",
      " 11  DayLongName                    1425977 non-null  object        \n",
      " 12  DayShortName                   1425977 non-null  object        \n",
      " 13  MonthLongName                  1425977 non-null  object        \n",
      " 14  MonthShortName                 1425977 non-null  object        \n",
      " 15  CalendarDay                    1425977 non-null  int64         \n",
      " 16  CalendarWeek                   1425977 non-null  int64         \n",
      " 17  CalendarWeekStartDateId        1425977 non-null  object        \n",
      " 18  CalendarWeekEndDateId          1425977 non-null  object        \n",
      " 19  CalendarDayInWeek              1425977 non-null  int64         \n",
      " 20  CalendarMonth                  1425977 non-null  int64         \n",
      " 21  CalendarMonthStartDateId       1425977 non-null  int64         \n",
      " 22  CalendarMonthEndDateId         1425977 non-null  int64         \n",
      " 23  CalendarNumberOfDaysInMonth    1425977 non-null  int64         \n",
      " 24  CalendarDayInMonth             1425977 non-null  int64         \n",
      " 25  CalendarQuarter                1425977 non-null  int64         \n",
      " 26  CalendarQuarterStartDateId     1425977 non-null  int64         \n",
      " 27  CalendarQuarterEndDateId       1425977 non-null  int64         \n",
      " 28  CalendarQuarterStartDate       1425977 non-null  object        \n",
      " 29  CalendarNumberOfDaysInQuarter  1425977 non-null  int64         \n",
      " 30  CalendarDayInQuarter           1425977 non-null  int64         \n",
      " 31  CalendarYear                   1425977 non-null  int64         \n",
      " 32  CalendarYearEndDateId          1425977 non-null  int64         \n",
      " 33  CalendarYearStartDate          1425977 non-null  object        \n",
      " 34  CalendarNumberOfDaysInYear     1425977 non-null  int64         \n",
      " 35  month_join_key                 1425977 non-null  object        \n",
      " 36  year_join_key                  1425977 non-null  object        \n",
      " 37  seven_day_ema                  1425977 non-null  float64       \n",
      " 38  CPALTT01USM657N                1425977 non-null  float64       \n",
      " 39  DFF                            1425977 non-null  float64       \n",
      " 40  EXPINF10YR                     1425977 non-null  float64       \n",
      " 41  GDPC1                          1425977 non-null  float64       \n",
      " 42  RSXFS                          1425977 non-null  float64       \n",
      " 43  T10YFF                         1425977 non-null  float64       \n",
      " 44  UNRATE                         1425977 non-null  float64       \n",
      " 45  macd                           1425977 non-null  float64       \n",
      " 46  macd_signal                    1425977 non-null  float64       \n",
      " 47  macd_hist                      1425977 non-null  float64       \n",
      " 48  daily_obv                      1425977 non-null  float64       \n",
      " 49  target                         1425977 non-null  int64         \n",
      "dtypes: datetime64[ns](2), float64(16), int32(1), int64(18), object(13)\n",
      "memory usage: 549.4+ MB\n"
     ]
    }
   ],
   "source": [
    "df_final.head() \n",
    "df_final.info()"
   ],
   "metadata": {
    "collapsed": false,
    "ExecuteTime": {
     "end_time": "2024-07-01T17:04:44.357305700Z",
     "start_time": "2024-07-01T17:04:43.996914100Z"
    }
   },
   "id": "bb13792da8bb10b",
   "execution_count": 29
  },
  {
   "cell_type": "code",
   "outputs": [],
   "source": [
    "df_final.to_csv(os.path.join(ANALYTICS_PATH, 'analytics_voo.csv'), index=False)"
   ],
   "metadata": {
    "collapsed": false,
    "ExecuteTime": {
     "end_time": "2024-07-01T17:04:59.080552800Z",
     "start_time": "2024-07-01T17:04:44.348302100Z"
    }
   },
   "id": "5996e2144e0383b1",
   "execution_count": 30
  },
  {
   "cell_type": "code",
   "outputs": [],
   "source": [],
   "metadata": {
    "collapsed": false,
    "ExecuteTime": {
     "end_time": "2024-07-01T17:04:59.087840200Z",
     "start_time": "2024-07-01T17:04:59.081330200Z"
    }
   },
   "id": "bb168e4d8ae6325e",
   "execution_count": 30
  }
 ],
 "metadata": {
  "kernelspec": {
   "display_name": "Python 3",
   "language": "python",
   "name": "python3"
  },
  "language_info": {
   "codemirror_mode": {
    "name": "ipython",
    "version": 2
   },
   "file_extension": ".py",
   "mimetype": "text/x-python",
   "name": "python",
   "nbconvert_exporter": "python",
   "pygments_lexer": "ipython2",
   "version": "2.7.6"
  }
 },
 "nbformat": 4,
 "nbformat_minor": 5
}
