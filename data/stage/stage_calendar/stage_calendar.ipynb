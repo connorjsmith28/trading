{
 "cells": [
  {
   "cell_type": "code",
   "outputs": [],
   "source": [
    "import pandas as pd\n",
    "import os"
   ],
   "metadata": {
    "collapsed": false,
    "ExecuteTime": {
     "end_time": "2024-06-28T16:01:40.920385400Z",
     "start_time": "2024-06-28T16:01:40.915876800Z"
    }
   },
   "id": "86b2dc9b63b1a150",
   "execution_count": 71
  },
  {
   "cell_type": "code",
   "outputs": [],
   "source": [
    "# create month and annual join keys\n",
    "BASE_CALENDAR_PATH = r'C:\\Users\\connor\\PycharmProjects\\trading\\data\\base\\calendar\\calendar.csv'\n",
    "STAGE_CALENDAR_PATH = r'C:\\Users\\connor\\PycharmProjects\\trading\\data\\stage\\stage_calendar'\n",
    "df_calendar = pd.read_csv(BASE_CALENDAR_PATH)"
   ],
   "metadata": {
    "collapsed": true,
    "ExecuteTime": {
     "end_time": "2024-06-28T16:01:40.968880900Z",
     "start_time": "2024-06-28T16:01:40.918384700Z"
    }
   },
   "id": "initial_id",
   "execution_count": 72
  },
  {
   "cell_type": "code",
   "outputs": [
    {
     "data": {
      "text/plain": "           Id        Date           DateLongDescription DateShortDescription  \\\n0           1    1/1/2000     Saturday, January 1, 2000             1-Jan-00   \n1           2    1/2/2000       Sunday, January 2, 2000             2-Jan-00   \n2           3    1/3/2000       Monday, January 3, 2000             3-Jan-00   \n3           4    1/4/2000      Tuesday, January 4, 2000             4-Jan-00   \n4           5    1/5/2000    Wednesday, January 5, 2000             5-Jan-00   \n...       ...         ...                           ...                  ...   \n18258  491127  12/27/2049     Monday, December 27, 2049            27-Dec-49   \n18259  491128  12/28/2049    Tuesday, December 28, 2049            28-Dec-49   \n18260  491129  12/29/2049  Wednesday, December 29, 2049            29-Dec-49   \n18261  491130  12/30/2049   Thursday, December 30, 2049            30-Dec-49   \n18262  491131  12/31/2049     Friday, December 31, 2049            31-Dec-49   \n\n      DayLongName DayShortName MonthLongName MonthShortName  CalendarDay  \\\n0        Saturday          Sat       January            Jan            1   \n1          Sunday          Sun       January            Jan            2   \n2          Monday          Mon       January            Jan            3   \n3         Tuesday          Tue       January            Jan            4   \n4       Wednesday          Wed       January            Jan            5   \n...           ...          ...           ...            ...          ...   \n18258      Monday          Mon      December            Dec          361   \n18259     Tuesday          Tue      December            Dec          362   \n18260   Wednesday          Wed      December            Dec          363   \n18261    Thursday          Thu      December            Dec          364   \n18262      Friday          Fri      December            Dec          365   \n\n       CalendarWeek  ... CalendarQuarter CalendarQuarterStartDateId  \\\n0                52  ...               1                          1   \n1                52  ...               1                          1   \n2                 1  ...               1                          1   \n3                 1  ...               1                          1   \n4                 1  ...               1                          1   \n...             ...  ...             ...                        ...   \n18258            52  ...               4                     490901   \n18259            52  ...               4                     490901   \n18260            52  ...               4                     490901   \n18261            52  ...               4                     490901   \n18262            52  ...               4                     490901   \n\n       CalendarQuarterEndDateId  CalendarQuarterStartDate  \\\n0                           231                  1/1/2000   \n1                           231                  1/1/2000   \n2                           231                  1/1/2000   \n3                           231                  1/1/2000   \n4                           231                  1/1/2000   \n...                         ...                       ...   \n18258                    491131                 10/1/2049   \n18259                    491131                 10/1/2049   \n18260                    491131                 10/1/2049   \n18261                    491131                 10/1/2049   \n18262                    491131                 10/1/2049   \n\n       CalendarNumberOfDaysInQuarter  CalendarDayInQuarter  CalendarYear  \\\n0                                 91                     1          2000   \n1                                 91                     2          2000   \n2                                 91                     3          2000   \n3                                 91                     4          2000   \n4                                 91                     5          2000   \n...                              ...                   ...           ...   \n18258                             92                    88          2049   \n18259                             92                    89          2049   \n18260                             92                    90          2049   \n18261                             92                    91          2049   \n18262                             92                    92          2049   \n\n       CalendarYearEndDateId  CalendarYearStartDate  \\\n0                       1131               1/1/2000   \n1                       1131               1/1/2000   \n2                       1131               1/1/2000   \n3                       1131               1/1/2000   \n4                       1131               1/1/2000   \n...                      ...                    ...   \n18258                 491131               1/1/2049   \n18259                 491131               1/1/2049   \n18260                 491131               1/1/2049   \n18261                 491131               1/1/2049   \n18262                 491131               1/1/2049   \n\n       CalendarNumberOfDaysInYear  \n0                             366  \n1                             366  \n2                             366  \n3                             366  \n4                             366  \n...                           ...  \n18258                         365  \n18259                         365  \n18260                         365  \n18261                         365  \n18262                         365  \n\n[18263 rows x 28 columns]",
      "text/html": "<div>\n<style scoped>\n    .dataframe tbody tr th:only-of-type {\n        vertical-align: middle;\n    }\n\n    .dataframe tbody tr th {\n        vertical-align: top;\n    }\n\n    .dataframe thead th {\n        text-align: right;\n    }\n</style>\n<table border=\"1\" class=\"dataframe\">\n  <thead>\n    <tr style=\"text-align: right;\">\n      <th></th>\n      <th>Id</th>\n      <th>Date</th>\n      <th>DateLongDescription</th>\n      <th>DateShortDescription</th>\n      <th>DayLongName</th>\n      <th>DayShortName</th>\n      <th>MonthLongName</th>\n      <th>MonthShortName</th>\n      <th>CalendarDay</th>\n      <th>CalendarWeek</th>\n      <th>...</th>\n      <th>CalendarQuarter</th>\n      <th>CalendarQuarterStartDateId</th>\n      <th>CalendarQuarterEndDateId</th>\n      <th>CalendarQuarterStartDate</th>\n      <th>CalendarNumberOfDaysInQuarter</th>\n      <th>CalendarDayInQuarter</th>\n      <th>CalendarYear</th>\n      <th>CalendarYearEndDateId</th>\n      <th>CalendarYearStartDate</th>\n      <th>CalendarNumberOfDaysInYear</th>\n    </tr>\n  </thead>\n  <tbody>\n    <tr>\n      <th>0</th>\n      <td>1</td>\n      <td>1/1/2000</td>\n      <td>Saturday, January 1, 2000</td>\n      <td>1-Jan-00</td>\n      <td>Saturday</td>\n      <td>Sat</td>\n      <td>January</td>\n      <td>Jan</td>\n      <td>1</td>\n      <td>52</td>\n      <td>...</td>\n      <td>1</td>\n      <td>1</td>\n      <td>231</td>\n      <td>1/1/2000</td>\n      <td>91</td>\n      <td>1</td>\n      <td>2000</td>\n      <td>1131</td>\n      <td>1/1/2000</td>\n      <td>366</td>\n    </tr>\n    <tr>\n      <th>1</th>\n      <td>2</td>\n      <td>1/2/2000</td>\n      <td>Sunday, January 2, 2000</td>\n      <td>2-Jan-00</td>\n      <td>Sunday</td>\n      <td>Sun</td>\n      <td>January</td>\n      <td>Jan</td>\n      <td>2</td>\n      <td>52</td>\n      <td>...</td>\n      <td>1</td>\n      <td>1</td>\n      <td>231</td>\n      <td>1/1/2000</td>\n      <td>91</td>\n      <td>2</td>\n      <td>2000</td>\n      <td>1131</td>\n      <td>1/1/2000</td>\n      <td>366</td>\n    </tr>\n    <tr>\n      <th>2</th>\n      <td>3</td>\n      <td>1/3/2000</td>\n      <td>Monday, January 3, 2000</td>\n      <td>3-Jan-00</td>\n      <td>Monday</td>\n      <td>Mon</td>\n      <td>January</td>\n      <td>Jan</td>\n      <td>3</td>\n      <td>1</td>\n      <td>...</td>\n      <td>1</td>\n      <td>1</td>\n      <td>231</td>\n      <td>1/1/2000</td>\n      <td>91</td>\n      <td>3</td>\n      <td>2000</td>\n      <td>1131</td>\n      <td>1/1/2000</td>\n      <td>366</td>\n    </tr>\n    <tr>\n      <th>3</th>\n      <td>4</td>\n      <td>1/4/2000</td>\n      <td>Tuesday, January 4, 2000</td>\n      <td>4-Jan-00</td>\n      <td>Tuesday</td>\n      <td>Tue</td>\n      <td>January</td>\n      <td>Jan</td>\n      <td>4</td>\n      <td>1</td>\n      <td>...</td>\n      <td>1</td>\n      <td>1</td>\n      <td>231</td>\n      <td>1/1/2000</td>\n      <td>91</td>\n      <td>4</td>\n      <td>2000</td>\n      <td>1131</td>\n      <td>1/1/2000</td>\n      <td>366</td>\n    </tr>\n    <tr>\n      <th>4</th>\n      <td>5</td>\n      <td>1/5/2000</td>\n      <td>Wednesday, January 5, 2000</td>\n      <td>5-Jan-00</td>\n      <td>Wednesday</td>\n      <td>Wed</td>\n      <td>January</td>\n      <td>Jan</td>\n      <td>5</td>\n      <td>1</td>\n      <td>...</td>\n      <td>1</td>\n      <td>1</td>\n      <td>231</td>\n      <td>1/1/2000</td>\n      <td>91</td>\n      <td>5</td>\n      <td>2000</td>\n      <td>1131</td>\n      <td>1/1/2000</td>\n      <td>366</td>\n    </tr>\n    <tr>\n      <th>...</th>\n      <td>...</td>\n      <td>...</td>\n      <td>...</td>\n      <td>...</td>\n      <td>...</td>\n      <td>...</td>\n      <td>...</td>\n      <td>...</td>\n      <td>...</td>\n      <td>...</td>\n      <td>...</td>\n      <td>...</td>\n      <td>...</td>\n      <td>...</td>\n      <td>...</td>\n      <td>...</td>\n      <td>...</td>\n      <td>...</td>\n      <td>...</td>\n      <td>...</td>\n      <td>...</td>\n    </tr>\n    <tr>\n      <th>18258</th>\n      <td>491127</td>\n      <td>12/27/2049</td>\n      <td>Monday, December 27, 2049</td>\n      <td>27-Dec-49</td>\n      <td>Monday</td>\n      <td>Mon</td>\n      <td>December</td>\n      <td>Dec</td>\n      <td>361</td>\n      <td>52</td>\n      <td>...</td>\n      <td>4</td>\n      <td>490901</td>\n      <td>491131</td>\n      <td>10/1/2049</td>\n      <td>92</td>\n      <td>88</td>\n      <td>2049</td>\n      <td>491131</td>\n      <td>1/1/2049</td>\n      <td>365</td>\n    </tr>\n    <tr>\n      <th>18259</th>\n      <td>491128</td>\n      <td>12/28/2049</td>\n      <td>Tuesday, December 28, 2049</td>\n      <td>28-Dec-49</td>\n      <td>Tuesday</td>\n      <td>Tue</td>\n      <td>December</td>\n      <td>Dec</td>\n      <td>362</td>\n      <td>52</td>\n      <td>...</td>\n      <td>4</td>\n      <td>490901</td>\n      <td>491131</td>\n      <td>10/1/2049</td>\n      <td>92</td>\n      <td>89</td>\n      <td>2049</td>\n      <td>491131</td>\n      <td>1/1/2049</td>\n      <td>365</td>\n    </tr>\n    <tr>\n      <th>18260</th>\n      <td>491129</td>\n      <td>12/29/2049</td>\n      <td>Wednesday, December 29, 2049</td>\n      <td>29-Dec-49</td>\n      <td>Wednesday</td>\n      <td>Wed</td>\n      <td>December</td>\n      <td>Dec</td>\n      <td>363</td>\n      <td>52</td>\n      <td>...</td>\n      <td>4</td>\n      <td>490901</td>\n      <td>491131</td>\n      <td>10/1/2049</td>\n      <td>92</td>\n      <td>90</td>\n      <td>2049</td>\n      <td>491131</td>\n      <td>1/1/2049</td>\n      <td>365</td>\n    </tr>\n    <tr>\n      <th>18261</th>\n      <td>491130</td>\n      <td>12/30/2049</td>\n      <td>Thursday, December 30, 2049</td>\n      <td>30-Dec-49</td>\n      <td>Thursday</td>\n      <td>Thu</td>\n      <td>December</td>\n      <td>Dec</td>\n      <td>364</td>\n      <td>52</td>\n      <td>...</td>\n      <td>4</td>\n      <td>490901</td>\n      <td>491131</td>\n      <td>10/1/2049</td>\n      <td>92</td>\n      <td>91</td>\n      <td>2049</td>\n      <td>491131</td>\n      <td>1/1/2049</td>\n      <td>365</td>\n    </tr>\n    <tr>\n      <th>18262</th>\n      <td>491131</td>\n      <td>12/31/2049</td>\n      <td>Friday, December 31, 2049</td>\n      <td>31-Dec-49</td>\n      <td>Friday</td>\n      <td>Fri</td>\n      <td>December</td>\n      <td>Dec</td>\n      <td>365</td>\n      <td>52</td>\n      <td>...</td>\n      <td>4</td>\n      <td>490901</td>\n      <td>491131</td>\n      <td>10/1/2049</td>\n      <td>92</td>\n      <td>92</td>\n      <td>2049</td>\n      <td>491131</td>\n      <td>1/1/2049</td>\n      <td>365</td>\n    </tr>\n  </tbody>\n</table>\n<p>18263 rows × 28 columns</p>\n</div>"
     },
     "execution_count": 73,
     "metadata": {},
     "output_type": "execute_result"
    }
   ],
   "source": [
    "df_calendar"
   ],
   "metadata": {
    "collapsed": false,
    "ExecuteTime": {
     "end_time": "2024-06-28T16:01:40.983760300Z",
     "start_time": "2024-06-28T16:01:40.968880900Z"
    }
   },
   "id": "5cf5d7e9aa28aa14",
   "execution_count": 73
  },
  {
   "cell_type": "code",
   "outputs": [],
   "source": [
    "df_calendar['month_join_key'] = pd.to_datetime(dict(year=df_calendar.CalendarYear, month=df_calendar.CalendarMonth, day=1))\n",
    "df_calendar['CalendarQuarterStartDate'] = pd.to_datetime(df_calendar['CalendarQuarterStartDate'], yearfirst=True)\n",
    "df_calendar['year_join_key'] = pd.to_datetime(dict(year=df_calendar.CalendarYear, month=1, day=1))"
   ],
   "metadata": {
    "collapsed": false,
    "ExecuteTime": {
     "end_time": "2024-06-28T16:01:40.989522100Z",
     "start_time": "2024-06-28T16:01:40.982760300Z"
    }
   },
   "id": "6dcd469f1b8b1a7c",
   "execution_count": 74
  },
  {
   "cell_type": "code",
   "outputs": [
    {
     "data": {
      "text/plain": "       CalendarYear  CalendarMonth month_join_key CalendarQuarterStartDate  \\\n0              2000              1     2000-01-01               2000-01-01   \n1              2000              1     2000-01-01               2000-01-01   \n2              2000              1     2000-01-01               2000-01-01   \n3              2000              1     2000-01-01               2000-01-01   \n4              2000              1     2000-01-01               2000-01-01   \n...             ...            ...            ...                      ...   \n18258          2049             12     2049-12-01               2049-10-01   \n18259          2049             12     2049-12-01               2049-10-01   \n18260          2049             12     2049-12-01               2049-10-01   \n18261          2049             12     2049-12-01               2049-10-01   \n18262          2049             12     2049-12-01               2049-10-01   \n\n      year_join_key  \n0        2000-01-01  \n1        2000-01-01  \n2        2000-01-01  \n3        2000-01-01  \n4        2000-01-01  \n...             ...  \n18258    2049-01-01  \n18259    2049-01-01  \n18260    2049-01-01  \n18261    2049-01-01  \n18262    2049-01-01  \n\n[18263 rows x 5 columns]",
      "text/html": "<div>\n<style scoped>\n    .dataframe tbody tr th:only-of-type {\n        vertical-align: middle;\n    }\n\n    .dataframe tbody tr th {\n        vertical-align: top;\n    }\n\n    .dataframe thead th {\n        text-align: right;\n    }\n</style>\n<table border=\"1\" class=\"dataframe\">\n  <thead>\n    <tr style=\"text-align: right;\">\n      <th></th>\n      <th>CalendarYear</th>\n      <th>CalendarMonth</th>\n      <th>month_join_key</th>\n      <th>CalendarQuarterStartDate</th>\n      <th>year_join_key</th>\n    </tr>\n  </thead>\n  <tbody>\n    <tr>\n      <th>0</th>\n      <td>2000</td>\n      <td>1</td>\n      <td>2000-01-01</td>\n      <td>2000-01-01</td>\n      <td>2000-01-01</td>\n    </tr>\n    <tr>\n      <th>1</th>\n      <td>2000</td>\n      <td>1</td>\n      <td>2000-01-01</td>\n      <td>2000-01-01</td>\n      <td>2000-01-01</td>\n    </tr>\n    <tr>\n      <th>2</th>\n      <td>2000</td>\n      <td>1</td>\n      <td>2000-01-01</td>\n      <td>2000-01-01</td>\n      <td>2000-01-01</td>\n    </tr>\n    <tr>\n      <th>3</th>\n      <td>2000</td>\n      <td>1</td>\n      <td>2000-01-01</td>\n      <td>2000-01-01</td>\n      <td>2000-01-01</td>\n    </tr>\n    <tr>\n      <th>4</th>\n      <td>2000</td>\n      <td>1</td>\n      <td>2000-01-01</td>\n      <td>2000-01-01</td>\n      <td>2000-01-01</td>\n    </tr>\n    <tr>\n      <th>...</th>\n      <td>...</td>\n      <td>...</td>\n      <td>...</td>\n      <td>...</td>\n      <td>...</td>\n    </tr>\n    <tr>\n      <th>18258</th>\n      <td>2049</td>\n      <td>12</td>\n      <td>2049-12-01</td>\n      <td>2049-10-01</td>\n      <td>2049-01-01</td>\n    </tr>\n    <tr>\n      <th>18259</th>\n      <td>2049</td>\n      <td>12</td>\n      <td>2049-12-01</td>\n      <td>2049-10-01</td>\n      <td>2049-01-01</td>\n    </tr>\n    <tr>\n      <th>18260</th>\n      <td>2049</td>\n      <td>12</td>\n      <td>2049-12-01</td>\n      <td>2049-10-01</td>\n      <td>2049-01-01</td>\n    </tr>\n    <tr>\n      <th>18261</th>\n      <td>2049</td>\n      <td>12</td>\n      <td>2049-12-01</td>\n      <td>2049-10-01</td>\n      <td>2049-01-01</td>\n    </tr>\n    <tr>\n      <th>18262</th>\n      <td>2049</td>\n      <td>12</td>\n      <td>2049-12-01</td>\n      <td>2049-10-01</td>\n      <td>2049-01-01</td>\n    </tr>\n  </tbody>\n</table>\n<p>18263 rows × 5 columns</p>\n</div>"
     },
     "execution_count": 75,
     "metadata": {},
     "output_type": "execute_result"
    }
   ],
   "source": [
    "df_calendar[['CalendarYear', 'CalendarMonth', 'month_join_key', 'CalendarQuarterStartDate', 'year_join_key']]"
   ],
   "metadata": {
    "collapsed": false,
    "ExecuteTime": {
     "end_time": "2024-06-28T16:01:40.994622400Z",
     "start_time": "2024-06-28T16:01:40.989522100Z"
    }
   },
   "id": "7910526c4c486513",
   "execution_count": 75
  },
  {
   "cell_type": "code",
   "outputs": [],
   "source": [
    "df_calendar.to_csv(os.path.join(STAGE_CALENDAR_PATH, 'stage_calendar.csv'), index=False)"
   ],
   "metadata": {
    "collapsed": false,
    "ExecuteTime": {
     "end_time": "2024-06-28T16:01:41.089579500Z",
     "start_time": "2024-06-28T16:01:40.995622100Z"
    }
   },
   "id": "401d9b7e7a76723f",
   "execution_count": 76
  },
  {
   "cell_type": "code",
   "outputs": [],
   "source": [],
   "metadata": {
    "collapsed": false,
    "ExecuteTime": {
     "end_time": "2024-06-28T16:01:41.096584Z",
     "start_time": "2024-06-28T16:01:41.089579500Z"
    }
   },
   "id": "dae6a6088510d5e",
   "execution_count": 76
  }
 ],
 "metadata": {
  "kernelspec": {
   "display_name": "Python 3",
   "language": "python",
   "name": "python3"
  },
  "language_info": {
   "codemirror_mode": {
    "name": "ipython",
    "version": 2
   },
   "file_extension": ".py",
   "mimetype": "text/x-python",
   "name": "python",
   "nbconvert_exporter": "python",
   "pygments_lexer": "ipython2",
   "version": "2.7.6"
  }
 },
 "nbformat": 4,
 "nbformat_minor": 5
}
