{
 "cells": [
  {
   "cell_type": "markdown",
   "source": [
    "# EMA Data Cleaning and Prep"
   ],
   "metadata": {
    "collapsed": false
   },
   "id": "a34460207fb5cb0b"
  },
  {
   "cell_type": "code",
   "outputs": [],
   "source": [
    "import pandas as pd"
   ],
   "metadata": {
    "collapsed": false,
    "ExecuteTime": {
     "end_time": "2024-06-28T13:43:33.630566100Z",
     "start_time": "2024-06-28T13:43:33.362113300Z"
    }
   },
   "id": "999b7f7539953be3",
   "execution_count": 1
  },
  {
   "cell_type": "code",
   "outputs": [],
   "source": [
    "FILE_PATH = r'C:\\Users\\connor\\PycharmProjects\\trading\\data\\base\\ema\\voo_ema.csv'\n",
    "\n",
    "ema_df = pd.read_csv(FILE_PATH)"
   ],
   "metadata": {
    "collapsed": true,
    "ExecuteTime": {
     "end_time": "2024-06-28T13:43:33.636065900Z",
     "start_time": "2024-06-28T13:43:33.630566100Z"
    }
   },
   "id": "initial_id",
   "execution_count": 2
  },
  {
   "cell_type": "code",
   "outputs": [
    {
     "data": {
      "text/plain": "       seven_day_ema\ncount    3444.000000\nmean      226.097832\nstd       108.790584\nmin        81.265100\n25%       141.009750\n50%       200.671500\n75%       327.209800\nmax       492.361000",
      "text/html": "<div>\n<style scoped>\n    .dataframe tbody tr th:only-of-type {\n        vertical-align: middle;\n    }\n\n    .dataframe tbody tr th {\n        vertical-align: top;\n    }\n\n    .dataframe thead th {\n        text-align: right;\n    }\n</style>\n<table border=\"1\" class=\"dataframe\">\n  <thead>\n    <tr style=\"text-align: right;\">\n      <th></th>\n      <th>seven_day_ema</th>\n    </tr>\n  </thead>\n  <tbody>\n    <tr>\n      <th>count</th>\n      <td>3444.000000</td>\n    </tr>\n    <tr>\n      <th>mean</th>\n      <td>226.097832</td>\n    </tr>\n    <tr>\n      <th>std</th>\n      <td>108.790584</td>\n    </tr>\n    <tr>\n      <th>min</th>\n      <td>81.265100</td>\n    </tr>\n    <tr>\n      <th>25%</th>\n      <td>141.009750</td>\n    </tr>\n    <tr>\n      <th>50%</th>\n      <td>200.671500</td>\n    </tr>\n    <tr>\n      <th>75%</th>\n      <td>327.209800</td>\n    </tr>\n    <tr>\n      <th>max</th>\n      <td>492.361000</td>\n    </tr>\n  </tbody>\n</table>\n</div>"
     },
     "execution_count": 4,
     "metadata": {},
     "output_type": "execute_result"
    }
   ],
   "source": [
    "ema_df.describe()"
   ],
   "metadata": {
    "collapsed": false,
    "ExecuteTime": {
     "end_time": "2024-06-28T13:44:04.299479100Z",
     "start_time": "2024-06-28T13:44:04.284563Z"
    }
   },
   "id": "abfc095182da8bc6",
   "execution_count": 4
  },
  {
   "cell_type": "code",
   "outputs": [
    {
     "name": "stdout",
     "output_type": "stream",
     "text": [
      "<class 'pandas.core.frame.DataFrame'>\n",
      "RangeIndex: 3444 entries, 0 to 3443\n",
      "Data columns (total 2 columns):\n",
      " #   Column         Non-Null Count  Dtype  \n",
      "---  ------         --------------  -----  \n",
      " 0   date           3444 non-null   object \n",
      " 1   seven_day_ema  3444 non-null   float64\n",
      "dtypes: float64(1), object(1)\n",
      "memory usage: 53.9+ KB\n"
     ]
    }
   ],
   "source": [
    "ema_df.info()"
   ],
   "metadata": {
    "collapsed": false,
    "ExecuteTime": {
     "end_time": "2024-06-28T13:45:29.588786600Z",
     "start_time": "2024-06-28T13:45:29.585279400Z"
    }
   },
   "id": "53a623365ee45b82",
   "execution_count": 9
  },
  {
   "cell_type": "code",
   "outputs": [],
   "source": [
    "# change date dtype to date\n",
    "ema_df['date'] = ema_df.date.astype(dtype='datetime64[ns]')\n",
    "\n",
    "# confirm change\n",
    "ema_df.dtypes"
   ],
   "metadata": {
    "collapsed": false,
    "ExecuteTime": {
     "end_time": "2024-06-28T13:47:20.401755900Z",
     "start_time": "2024-06-28T13:47:20.398508400Z"
    }
   },
   "id": "c1c0c794c372ceae",
   "execution_count": 13
  }
 ],
 "metadata": {
  "kernelspec": {
   "display_name": "Python 3",
   "language": "python",
   "name": "python3"
  },
  "language_info": {
   "codemirror_mode": {
    "name": "ipython",
    "version": 2
   },
   "file_extension": ".py",
   "mimetype": "text/x-python",
   "name": "python",
   "nbconvert_exporter": "python",
   "pygments_lexer": "ipython2",
   "version": "2.7.6"
  }
 },
 "nbformat": 4,
 "nbformat_minor": 5
}
