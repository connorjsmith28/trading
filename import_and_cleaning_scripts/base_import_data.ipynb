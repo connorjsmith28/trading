{
 "cells": [
  {
   "cell_type": "code",
   "execution_count": 10,
   "id": "initial_id",
   "metadata": {
    "collapsed": true,
    "jupyter": {
     "outputs_hidden": true
    },
    "ExecuteTime": {
     "end_time": "2025-01-24T20:40:50.759177700Z",
     "start_time": "2025-01-24T20:40:50.687871200Z"
    }
   },
   "outputs": [],
   "source": [
    "import requests\n",
    "import pandas as pd\n",
    "import numpy as np\n",
    "from datetime import datetime\n",
    "# documentation: https://www.alphavantage.co/documentation/#time-series-data\n",
    "# VOO started 2010-09. API call returns trailing 30 days from current date. If month is specified is pulls in that month. Will have to pull the full data over several days since I'm capped at 25 calls a day. \n",
    "#url = 'https://www.alphavantage.co/query?function=TIME_SERIES_INTRADAY&symbol=VOO&interval=1min&month=2010-09&outputsize=full&apikey=TGOB3EBQFPDYLP2Z'\n",
    "# not specifying month returns current 30 days\n",
    "#url = 'https://www.alphavantage.co/query?function=TIME_SERIES_INTRADAY&symbol=VOO&interval=1min&outputsize=full&apikey=TGOB3EBQFPDYLP2Z'"
   ]
  },
  {
   "cell_type": "markdown",
   "id": "e41c91c0adce1614",
   "metadata": {
    "collapsed": false
   },
   "source": [
    "## Pull VOO daily 1 minute open, close, high, low, and volume"
   ]
  },
  {
   "cell_type": "code",
   "execution_count": 11,
   "id": "fb449a4425a1f70a",
   "metadata": {
    "collapsed": false,
    "ExecuteTime": {
     "end_time": "2025-01-24T20:40:50.775833200Z",
     "start_time": "2025-01-24T20:40:50.760177200Z"
    }
   },
   "outputs": [],
   "source": [
    "# get list of files already loaded\n",
    "from os import walk\n",
    "# api keys\n",
    "import vantage_api_key\n",
    "\n",
    "filenames = next(walk(r'C:\\Users\\connor\\PycharmProjects\\trading\\data\\base\\voo_intraday'), (None, None, []))[2][1:]"
   ]
  },
  {
   "cell_type": "code",
   "execution_count": 12,
   "id": "8bb688c8c532641f",
   "metadata": {
    "collapsed": false,
    "ExecuteTime": {
     "end_time": "2025-01-24T20:40:51.181258600Z",
     "start_time": "2025-01-24T20:40:50.775833200Z"
    }
   },
   "outputs": [
    {
     "name": "stdout",
     "output_type": "stream",
     "text": [
      "{'Error Message': 'Invalid API call. Please retry or visit the documentation (https://www.alphavantage.co/documentation/) for TIME_SERIES_INTRADAY.'}\n"
     ]
    },
    {
     "ename": "ValueError",
     "evalue": "If using all scalar values, you must pass an index",
     "output_type": "error",
     "traceback": [
      "\u001B[1;31m---------------------------------------------------------------------------\u001B[0m",
      "\u001B[1;31mValueError\u001B[0m                                Traceback (most recent call last)",
      "Cell \u001B[1;32mIn[12], line 12\u001B[0m\n\u001B[0;32m      9\u001B[0m \u001B[38;5;28mprint\u001B[39m(data)\n\u001B[0;32m     11\u001B[0m \u001B[38;5;66;03m# convert to dataframe\u001B[39;00m\n\u001B[1;32m---> 12\u001B[0m df \u001B[38;5;241m=\u001B[39m \u001B[43mpd\u001B[49m\u001B[38;5;241;43m.\u001B[39;49m\u001B[43mDataFrame\u001B[49m\u001B[38;5;241;43m.\u001B[39;49m\u001B[43mfrom_dict\u001B[49m\u001B[43m(\u001B[49m\u001B[43mdata\u001B[49m\u001B[43m)\u001B[49m\n\u001B[0;32m     13\u001B[0m \u001B[38;5;66;03m# drop meta data rows\u001B[39;00m\n\u001B[0;32m     14\u001B[0m df_no_meta \u001B[38;5;241m=\u001B[39m df\u001B[38;5;241m.\u001B[39miloc[\u001B[38;5;241m6\u001B[39m:]\n",
      "File \u001B[1;32m~\\AppData\\Local\\Programs\\Python\\Lib\\site-packages\\pandas\\core\\frame.py:1905\u001B[0m, in \u001B[0;36mDataFrame.from_dict\u001B[1;34m(cls, data, orient, dtype, columns)\u001B[0m\n\u001B[0;32m   1899\u001B[0m     \u001B[38;5;28;01mraise\u001B[39;00m \u001B[38;5;167;01mValueError\u001B[39;00m(\n\u001B[0;32m   1900\u001B[0m         \u001B[38;5;124mf\u001B[39m\u001B[38;5;124m\"\u001B[39m\u001B[38;5;124mExpected \u001B[39m\u001B[38;5;124m'\u001B[39m\u001B[38;5;124mindex\u001B[39m\u001B[38;5;124m'\u001B[39m\u001B[38;5;124m, \u001B[39m\u001B[38;5;124m'\u001B[39m\u001B[38;5;124mcolumns\u001B[39m\u001B[38;5;124m'\u001B[39m\u001B[38;5;124m or \u001B[39m\u001B[38;5;124m'\u001B[39m\u001B[38;5;124mtight\u001B[39m\u001B[38;5;124m'\u001B[39m\u001B[38;5;124m for orient parameter. \u001B[39m\u001B[38;5;124m\"\u001B[39m\n\u001B[0;32m   1901\u001B[0m         \u001B[38;5;124mf\u001B[39m\u001B[38;5;124m\"\u001B[39m\u001B[38;5;124mGot \u001B[39m\u001B[38;5;124m'\u001B[39m\u001B[38;5;132;01m{\u001B[39;00morient\u001B[38;5;132;01m}\u001B[39;00m\u001B[38;5;124m'\u001B[39m\u001B[38;5;124m instead\u001B[39m\u001B[38;5;124m\"\u001B[39m\n\u001B[0;32m   1902\u001B[0m     )\n\u001B[0;32m   1904\u001B[0m \u001B[38;5;28;01mif\u001B[39;00m orient \u001B[38;5;241m!=\u001B[39m \u001B[38;5;124m\"\u001B[39m\u001B[38;5;124mtight\u001B[39m\u001B[38;5;124m\"\u001B[39m:\n\u001B[1;32m-> 1905\u001B[0m     \u001B[38;5;28;01mreturn\u001B[39;00m \u001B[38;5;28;43mcls\u001B[39;49m\u001B[43m(\u001B[49m\u001B[43mdata\u001B[49m\u001B[43m,\u001B[49m\u001B[43m \u001B[49m\u001B[43mindex\u001B[49m\u001B[38;5;241;43m=\u001B[39;49m\u001B[43mindex\u001B[49m\u001B[43m,\u001B[49m\u001B[43m \u001B[49m\u001B[43mcolumns\u001B[49m\u001B[38;5;241;43m=\u001B[39;49m\u001B[43mcolumns\u001B[49m\u001B[43m,\u001B[49m\u001B[43m \u001B[49m\u001B[43mdtype\u001B[49m\u001B[38;5;241;43m=\u001B[39;49m\u001B[43mdtype\u001B[49m\u001B[43m)\u001B[49m\n\u001B[0;32m   1906\u001B[0m \u001B[38;5;28;01melse\u001B[39;00m:\n\u001B[0;32m   1907\u001B[0m     realdata \u001B[38;5;241m=\u001B[39m data[\u001B[38;5;124m\"\u001B[39m\u001B[38;5;124mdata\u001B[39m\u001B[38;5;124m\"\u001B[39m]\n",
      "File \u001B[1;32m~\\AppData\\Local\\Programs\\Python\\Lib\\site-packages\\pandas\\core\\frame.py:767\u001B[0m, in \u001B[0;36mDataFrame.__init__\u001B[1;34m(self, data, index, columns, dtype, copy)\u001B[0m\n\u001B[0;32m    761\u001B[0m     mgr \u001B[38;5;241m=\u001B[39m \u001B[38;5;28mself\u001B[39m\u001B[38;5;241m.\u001B[39m_init_mgr(\n\u001B[0;32m    762\u001B[0m         data, axes\u001B[38;5;241m=\u001B[39m{\u001B[38;5;124m\"\u001B[39m\u001B[38;5;124mindex\u001B[39m\u001B[38;5;124m\"\u001B[39m: index, \u001B[38;5;124m\"\u001B[39m\u001B[38;5;124mcolumns\u001B[39m\u001B[38;5;124m\"\u001B[39m: columns}, dtype\u001B[38;5;241m=\u001B[39mdtype, copy\u001B[38;5;241m=\u001B[39mcopy\n\u001B[0;32m    763\u001B[0m     )\n\u001B[0;32m    765\u001B[0m \u001B[38;5;28;01melif\u001B[39;00m \u001B[38;5;28misinstance\u001B[39m(data, \u001B[38;5;28mdict\u001B[39m):\n\u001B[0;32m    766\u001B[0m     \u001B[38;5;66;03m# GH#38939 de facto copy defaults to False only in non-dict cases\u001B[39;00m\n\u001B[1;32m--> 767\u001B[0m     mgr \u001B[38;5;241m=\u001B[39m \u001B[43mdict_to_mgr\u001B[49m\u001B[43m(\u001B[49m\u001B[43mdata\u001B[49m\u001B[43m,\u001B[49m\u001B[43m \u001B[49m\u001B[43mindex\u001B[49m\u001B[43m,\u001B[49m\u001B[43m \u001B[49m\u001B[43mcolumns\u001B[49m\u001B[43m,\u001B[49m\u001B[43m \u001B[49m\u001B[43mdtype\u001B[49m\u001B[38;5;241;43m=\u001B[39;49m\u001B[43mdtype\u001B[49m\u001B[43m,\u001B[49m\u001B[43m \u001B[49m\u001B[43mcopy\u001B[49m\u001B[38;5;241;43m=\u001B[39;49m\u001B[43mcopy\u001B[49m\u001B[43m,\u001B[49m\u001B[43m \u001B[49m\u001B[43mtyp\u001B[49m\u001B[38;5;241;43m=\u001B[39;49m\u001B[43mmanager\u001B[49m\u001B[43m)\u001B[49m\n\u001B[0;32m    768\u001B[0m \u001B[38;5;28;01melif\u001B[39;00m \u001B[38;5;28misinstance\u001B[39m(data, ma\u001B[38;5;241m.\u001B[39mMaskedArray):\n\u001B[0;32m    769\u001B[0m     \u001B[38;5;28;01mfrom\u001B[39;00m \u001B[38;5;21;01mnumpy\u001B[39;00m\u001B[38;5;21;01m.\u001B[39;00m\u001B[38;5;21;01mma\u001B[39;00m \u001B[38;5;28;01mimport\u001B[39;00m mrecords\n",
      "File \u001B[1;32m~\\AppData\\Local\\Programs\\Python\\Lib\\site-packages\\pandas\\core\\internals\\construction.py:503\u001B[0m, in \u001B[0;36mdict_to_mgr\u001B[1;34m(data, index, columns, dtype, typ, copy)\u001B[0m\n\u001B[0;32m    499\u001B[0m     \u001B[38;5;28;01melse\u001B[39;00m:\n\u001B[0;32m    500\u001B[0m         \u001B[38;5;66;03m# dtype check to exclude e.g. range objects, scalars\u001B[39;00m\n\u001B[0;32m    501\u001B[0m         arrays \u001B[38;5;241m=\u001B[39m [x\u001B[38;5;241m.\u001B[39mcopy() \u001B[38;5;28;01mif\u001B[39;00m \u001B[38;5;28mhasattr\u001B[39m(x, \u001B[38;5;124m\"\u001B[39m\u001B[38;5;124mdtype\u001B[39m\u001B[38;5;124m\"\u001B[39m) \u001B[38;5;28;01melse\u001B[39;00m x \u001B[38;5;28;01mfor\u001B[39;00m x \u001B[38;5;129;01min\u001B[39;00m arrays]\n\u001B[1;32m--> 503\u001B[0m \u001B[38;5;28;01mreturn\u001B[39;00m \u001B[43marrays_to_mgr\u001B[49m\u001B[43m(\u001B[49m\u001B[43marrays\u001B[49m\u001B[43m,\u001B[49m\u001B[43m \u001B[49m\u001B[43mcolumns\u001B[49m\u001B[43m,\u001B[49m\u001B[43m \u001B[49m\u001B[43mindex\u001B[49m\u001B[43m,\u001B[49m\u001B[43m \u001B[49m\u001B[43mdtype\u001B[49m\u001B[38;5;241;43m=\u001B[39;49m\u001B[43mdtype\u001B[49m\u001B[43m,\u001B[49m\u001B[43m \u001B[49m\u001B[43mtyp\u001B[49m\u001B[38;5;241;43m=\u001B[39;49m\u001B[43mtyp\u001B[49m\u001B[43m,\u001B[49m\u001B[43m \u001B[49m\u001B[43mconsolidate\u001B[49m\u001B[38;5;241;43m=\u001B[39;49m\u001B[43mcopy\u001B[49m\u001B[43m)\u001B[49m\n",
      "File \u001B[1;32m~\\AppData\\Local\\Programs\\Python\\Lib\\site-packages\\pandas\\core\\internals\\construction.py:114\u001B[0m, in \u001B[0;36marrays_to_mgr\u001B[1;34m(arrays, columns, index, dtype, verify_integrity, typ, consolidate)\u001B[0m\n\u001B[0;32m    111\u001B[0m \u001B[38;5;28;01mif\u001B[39;00m verify_integrity:\n\u001B[0;32m    112\u001B[0m     \u001B[38;5;66;03m# figure out the index, if necessary\u001B[39;00m\n\u001B[0;32m    113\u001B[0m     \u001B[38;5;28;01mif\u001B[39;00m index \u001B[38;5;129;01mis\u001B[39;00m \u001B[38;5;28;01mNone\u001B[39;00m:\n\u001B[1;32m--> 114\u001B[0m         index \u001B[38;5;241m=\u001B[39m \u001B[43m_extract_index\u001B[49m\u001B[43m(\u001B[49m\u001B[43marrays\u001B[49m\u001B[43m)\u001B[49m\n\u001B[0;32m    115\u001B[0m     \u001B[38;5;28;01melse\u001B[39;00m:\n\u001B[0;32m    116\u001B[0m         index \u001B[38;5;241m=\u001B[39m ensure_index(index)\n",
      "File \u001B[1;32m~\\AppData\\Local\\Programs\\Python\\Lib\\site-packages\\pandas\\core\\internals\\construction.py:667\u001B[0m, in \u001B[0;36m_extract_index\u001B[1;34m(data)\u001B[0m\n\u001B[0;32m    664\u001B[0m         \u001B[38;5;28;01mraise\u001B[39;00m \u001B[38;5;167;01mValueError\u001B[39;00m(\u001B[38;5;124m\"\u001B[39m\u001B[38;5;124mPer-column arrays must each be 1-dimensional\u001B[39m\u001B[38;5;124m\"\u001B[39m)\n\u001B[0;32m    666\u001B[0m \u001B[38;5;28;01mif\u001B[39;00m \u001B[38;5;129;01mnot\u001B[39;00m indexes \u001B[38;5;129;01mand\u001B[39;00m \u001B[38;5;129;01mnot\u001B[39;00m raw_lengths:\n\u001B[1;32m--> 667\u001B[0m     \u001B[38;5;28;01mraise\u001B[39;00m \u001B[38;5;167;01mValueError\u001B[39;00m(\u001B[38;5;124m\"\u001B[39m\u001B[38;5;124mIf using all scalar values, you must pass an index\u001B[39m\u001B[38;5;124m\"\u001B[39m)\n\u001B[0;32m    669\u001B[0m \u001B[38;5;28;01mif\u001B[39;00m have_series:\n\u001B[0;32m    670\u001B[0m     index \u001B[38;5;241m=\u001B[39m union_indexes(indexes)\n",
      "\u001B[1;31mValueError\u001B[0m: If using all scalar values, you must pass an index"
     ]
    }
   ],
   "source": [
    "min_date = np.datetime64(filenames[0][4:11].replace('_','-'))\n",
    "# daily api call limit is 25\n",
    "for dummy in range(25):\n",
    "    # grab api data for the most recent month that has no data\n",
    "    min_date = min_date + np.timedelta64(-1, 'M')\n",
    "    url = f'https://www.alphavantage.co/query?function=TIME_SERIES_INTRADAY&symbol=VOO&interval=1min&month={min_date}&outputsize=full&apikey={vantage_api_key}'\n",
    "    r = requests.get(url)\n",
    "    data = r.json()\n",
    "    print(data)\n",
    "\n",
    "    # convert to dataframe\n",
    "    df = pd.DataFrame.from_dict(data)\n",
    "    # drop meta data rows\n",
    "    df_no_meta = df.iloc[6:]\n",
    "    df_no_meta.reset_index(inplace=True)\n",
    "    date_time = df_no_meta['index']\n",
    "    # split dict column out into 5 columns\n",
    "    df_no_meta[['open', 'high', 'low', 'close', 'volume']] = df_no_meta['Time Series (1min)'].apply(pd.Series)\n",
    "    df_no_meta = df_no_meta.drop(columns=['Meta Data','Time Series (1min)'])\n",
    "    \n",
    "    # save as csv file\n",
    "    min_date_to_save_format = str(min_date).replace('-', '_')\n",
    "    df_no_meta.to_csv(fr'C:\\Users\\connor\\PycharmProjects\\trading\\data\\base\\voo_intraday\\voo_{min_date_to_save_format}.csv', index=False)\n",
    "    \n",
    "    # confirm names made it this far\n",
    "    print(fr'C:\\Users\\connor\\PycharmProjects\\trading\\data\\base\\voo_intraday\\voo_{min_date_to_save_format}.csv')"
   ]
  },
  {
   "cell_type": "markdown",
   "id": "69402b313719d2b",
   "metadata": {
    "collapsed": false
   },
   "source": [
    "## Get technical indicators\n",
    "### Exponential Moving Average\n",
    "### on balance volume\n",
    "### moving average convergence / divergence controllable moving average type"
   ]
  },
  {
   "cell_type": "code",
   "execution_count": null,
   "id": "d13fa25f096ed4a7",
   "metadata": {
    "collapsed": false,
    "ExecuteTime": {
     "start_time": "2025-01-24T20:40:51.169260900Z"
    }
   },
   "outputs": [],
   "source": [
    "# 7 day EMA for VOO\n",
    "url = f'https://www.alphavantage.co/query?function=EMA&symbol=VOO&interval=daily&time_period=30&series_type=open&apikey={vantage_api_key}'\n",
    "r = requests.get(url)\n",
    "ema_data = r.json()\n",
    "print(ema_data['Technical Analysis: EMA'])"
   ]
  },
  {
   "cell_type": "code",
   "execution_count": null,
   "id": "71d2686940152223",
   "metadata": {
    "collapsed": false,
    "ExecuteTime": {
     "start_time": "2025-01-24T20:40:51.169260900Z"
    }
   },
   "outputs": [],
   "source": [
    "# convert to dataframe\n",
    "\n",
    "df = pd.DataFrame.from_dict(ema_data['Technical Analysis: EMA'], orient='index')\n",
    "df.reset_index(inplace=True)\n",
    "df.rename(columns={'index':'date', 'EMA':'seven_day_ema'}, inplace=True)\n",
    "df.to_csv(fr'C:\\Users\\connor\\PycharmProjects\\trading\\data\\base\\ema\\voo_ema.csv', index=False)\n",
    "    \n",
    "# confirm names made it this far\n",
    "print(fr'C:\\Users\\connor\\PycharmProjects\\trading\\data\\base\\ema\\voo_ema.csv')"
   ]
  },
  {
   "cell_type": "code",
   "execution_count": null,
   "id": "891f3be1b92641f9",
   "metadata": {
    "collapsed": false,
    "ExecuteTime": {
     "start_time": "2025-01-24T20:40:51.170260100Z"
    }
   },
   "outputs": [],
   "source": [
    "# on balance volume\n",
    "url = f'https://www.alphavantage.co/query?function=OBV&symbol=VOO&interval=daily&apikey={vantage_api_key}'\n",
    "r = requests.get(url)\n",
    "obv_data = r.json()\n",
    "\n",
    "print(obv_data['Technical Analysis: OBV'])"
   ]
  },
  {
   "cell_type": "code",
   "execution_count": null,
   "id": "7afb1028a1a9043c",
   "metadata": {
    "collapsed": false,
    "ExecuteTime": {
     "start_time": "2025-01-24T20:40:51.171259400Z"
    }
   },
   "outputs": [],
   "source": [
    "# convert to dataframe\n",
    "\n",
    "df = pd.DataFrame.from_dict(obv_data['Technical Analysis: OBV'], orient='index')\n",
    "df.reset_index(inplace=True)\n",
    "df.rename(columns={'index':'date', 'OBV':'daily_obv'}, inplace=True)\n",
    "df.to_csv(fr'C:\\Users\\connor\\PycharmProjects\\trading\\data\\base\\obv\\voo_obv.csv', index=False)\n",
    "    \n",
    "# confirm names made it this far\n",
    "print(fr'C:\\Users\\connor\\PycharmProjects\\trading\\data\\base\\obv\\voo_obv.csv')"
   ]
  },
  {
   "cell_type": "code",
   "execution_count": null,
   "id": "371825f952fa30e6",
   "metadata": {
    "collapsed": false,
    "ExecuteTime": {
     "start_time": "2025-01-24T20:40:51.172260200Z"
    }
   },
   "outputs": [],
   "source": [
    "# MACDEXT\n",
    "url = f'https://www.alphavantage.co/query?function=MACDEXT&symbol=VOO&interval=daily&series_type=open&apikey={vantage_api_key}'\n",
    "r = requests.get(url)\n",
    "macdext_data = r.json()\n",
    "\n",
    "print(macdext_data)"
   ]
  },
  {
   "cell_type": "code",
   "execution_count": null,
   "id": "fa58e1132eb5ebf9",
   "metadata": {
    "collapsed": false,
    "ExecuteTime": {
     "start_time": "2025-01-24T20:40:51.173259300Z"
    }
   },
   "outputs": [],
   "source": [
    "# convert to dataframe\n",
    "\n",
    "df = pd.DataFrame.from_dict(macdext_data['Technical Analysis: MACDEXT'], orient='index')\n",
    "df.reset_index(inplace=True)\n",
    "df.rename(columns={'index':'date', 'MACD':'macd', 'MACD_Signal':'macd_signal', 'MACD_Hist':'macd_hist'}, inplace=True)\n",
    "df.to_csv(fr'C:\\Users\\connor\\PycharmProjects\\trading\\data\\base\\macdext\\voo_macdext.csv', index=False)\n",
    "    \n",
    "# confirm names made it this far\n",
    "print(fr'C:\\Users\\connor\\PycharmProjects\\trading\\data\\base\\macdext\\voo_macdext.csv')"
   ]
  },
  {
   "cell_type": "markdown",
   "id": "69af5861da274a0b",
   "metadata": {
    "collapsed": false
   },
   "source": [
    "## Pull FRED GDP Data\n",
    "### GDP Per Capita\n",
    "### Treasury Yield\n",
    "### Federal Funds Rate\n",
    "### CPI\n",
    "### Inflation\n",
    "### Retail Sales\n",
    "### Unemployment"
   ]
  },
  {
   "cell_type": "code",
   "execution_count": null,
   "id": "1c35b531fc8ea766",
   "metadata": {
    "collapsed": false,
    "ExecuteTime": {
     "start_time": "2025-01-24T20:40:51.173259300Z"
    }
   },
   "outputs": [],
   "source": [
    "# real GDP, 10-Year Treasury Constant Maturity Minus Federal Funds Rate,  Federal Funds Effective Rate, Consumer Price Index: All Items: Total for United States, 10-Year Expected Inflation, consumer prices for the United States, Advance Retail Sales: Retail Trade,  Unemployment Rate\n",
    "fred_table_list = ['GDPC1', 'T10YFF', 'DFF', 'CPALTT01USM657N', 'EXPINF10YR', 'RSXFS', 'UNRATE']"
   ]
  },
  {
   "cell_type": "code",
   "execution_count": null,
   "id": "546501172f06d684",
   "metadata": {
    "collapsed": false,
    "ExecuteTime": {
     "start_time": "2025-01-24T20:40:51.174260100Z"
    }
   },
   "outputs": [],
   "source": [
    "# Pull each table from FRED API and save as CSV\n",
    "for table in fred_table_list:\n",
    "    fred_url = fred_url = f'https://api.stlouisfed.org/fred/series/observations?series_id={table}&api_key={fred_key}&file_type=json'\n",
    "    fred_request = requests.get(fred_url)\n",
    "    data = fred_request.json()\n",
    "    # convert to dataframe, keep only the observations data\n",
    "    df_data = pd.DataFrame(data['observations'])\n",
    "    # These two fields are useful for keeping track of type 2 data. We only need current as-is data so these fields aren't needed\n",
    "    df_data.drop(columns=['realtime_start', 'realtime_end'], inplace=True)\n",
    "    df_data.sort_values(by=['date'], inplace=True)\n",
    "    df_data.rename(columns={'date':'date', 'value': table}, inplace=True)\n",
    "    df_data.to_csv(fr'C:\\Users\\connor\\PycharmProjects\\trading\\data\\base\\fred_data\\{table}.csv', index=False)\n",
    "    print(df_data.head())\n",
    "    print(f\"Successfully saved Fred {table} data\")"
   ]
  },
  {
   "cell_type": "code",
   "execution_count": null,
   "id": "5d53d6d6c0fe6b4e",
   "metadata": {
    "collapsed": false,
    "ExecuteTime": {
     "start_time": "2025-01-24T20:40:51.175260200Z"
    }
   },
   "outputs": [],
   "source": []
  },
  {
   "cell_type": "code",
   "execution_count": null,
   "id": "3e008d2c93294c12",
   "metadata": {
    "collapsed": false,
    "ExecuteTime": {
     "start_time": "2025-01-24T20:40:51.175260200Z"
    }
   },
   "outputs": [],
   "source": []
  },
  {
   "cell_type": "code",
   "execution_count": null,
   "id": "d2ccb0fbc861d330",
   "metadata": {
    "collapsed": false,
    "ExecuteTime": {
     "start_time": "2025-01-24T20:40:51.176259900Z"
    }
   },
   "outputs": [],
   "source": []
  }
 ],
 "metadata": {
  "kernelspec": {
   "display_name": "Python 3 (ipykernel)",
   "language": "python",
   "name": "python3"
  },
  "language_info": {
   "codemirror_mode": {
    "name": "ipython",
    "version": 3
   },
   "file_extension": ".py",
   "mimetype": "text/x-python",
   "name": "python",
   "nbconvert_exporter": "python",
   "pygments_lexer": "ipython3",
   "version": "3.12.1"
  }
 },
 "nbformat": 4,
 "nbformat_minor": 5
}
